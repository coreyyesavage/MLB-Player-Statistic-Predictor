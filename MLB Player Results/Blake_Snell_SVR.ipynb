{
 "cells": [
  {
   "cell_type": "code",
   "execution_count": 28,
   "metadata": {},
   "outputs": [
    {
     "name": "stdout",
     "output_type": "stream",
     "text": [
      "[[23]\n",
      " [24]\n",
      " [25]\n",
      " [26]\n",
      " [27]]\n"
     ]
    }
   ],
   "source": [
    "#import packages\n",
    "import numpy as np\n",
    "import matplotlib.pyplot as plt\n",
    "import pandas as pd\n",
    "\n",
    "#import data\n",
    "col_list = [\"Age\", \"ERA\"]\n",
    "dataset = pd.read_csv('PadresPitchers.csv', usecols=col_list)\n",
    "X = dataset.iloc[4:9, :-1].values\n",
    "y = dataset.iloc[4:9, -1].values\n",
    "\n",
    "print(X)"
   ]
  },
  {
   "cell_type": "code",
   "execution_count": 29,
   "metadata": {},
   "outputs": [
    {
     "name": "stdout",
     "output_type": "stream",
     "text": [
      "ERA for 2021:  [3.248]\n",
      "[[3.624 3.54 ]\n",
      " [3.763 4.04 ]\n",
      " [3.554 1.89 ]\n",
      " [3.584 4.29 ]\n",
      " [3.324 3.24 ]]\n",
      "MSE:  0.6716886826324907\n",
      "R2 Score:  0.04779035634747564\n"
     ]
    },
    {
     "name": "stderr",
     "output_type": "stream",
     "text": [
      "/opt/anaconda3/lib/python3.8/site-packages/sklearn/utils/validation.py:63: DataConversionWarning: A column-vector y was passed when a 1d array was expected. Please change the shape of y to (n_samples, ), for example using ravel().\n",
      "  return f(*args, **kwargs)\n"
     ]
    },
    {
     "data": {
      "image/png": "[encoded data removed]",
      "text/plain": [
       "<Figure size 432x288 with 1 Axes>"
      ]
     },
     "metadata": {
      "needs_background": "light"
     },
     "output_type": "display_data"
    }
   ],
   "source": [
    "y_train = y\n",
    "y_test = y\n",
    "X_test = X\n",
    "X_train = X\n",
    "\n",
    "#reshape y \n",
    "y = y.reshape(len(y),1)\n",
    "\n",
    "#Feature scaling the data\n",
    "from sklearn.preprocessing import StandardScaler\n",
    "sc_X = StandardScaler()\n",
    "sc_y = StandardScaler()\n",
    "X = sc_X.fit_transform(X)\n",
    "y = sc_y.fit_transform(y)\n",
    "\n",
    "#Train the SVR\n",
    "from sklearn.svm import SVR\n",
    "regressor = SVR(kernel = 'rbf')\n",
    "regressor.fit(X, y)\n",
    "\n",
    "#Predict a new result\n",
    "print(\"ERA for 2021: \", sc_y.inverse_transform(regressor.predict(sc_X.transform([[28]]))))\n",
    "\n",
    "y_pred = sc_y.inverse_transform(regressor.predict(sc_X.transform(X_test)))\n",
    "np.set_printoptions(precision=3)\n",
    "print(np.concatenate((y_pred.reshape(len(y_pred),1), y_test.reshape(len(y_test),1)),1))\n",
    "\n",
    "from sklearn.metrics import mean_squared_error\n",
    "print(\"MSE: \" , mean_squared_error(y_test, y_pred))\n",
    "\n",
    "from sklearn.metrics import r2_score\n",
    "print(\"R2 Score: \" , r2_score(y_test, y_pred))\n",
    "\n",
    "\n",
    "X_grid = np.arange(min(sc_X.inverse_transform(X)), max(sc_X.inverse_transform(X)), 0.1)\n",
    "X_grid = X_grid.reshape((len(X_grid), 1))\n",
    "plt.scatter(sc_X.inverse_transform(X), sc_y.inverse_transform(y), color = 'red')\n",
    "plt.plot(X_grid, sc_y.inverse_transform(regressor.predict(sc_X.transform(X_grid))), color = 'blue')\n",
    "plt.title('ERA (SVR)')\n",
    "plt.xlabel('Age')\n",
    "plt.ylabel('ERA')\n",
    "plt.show()"
   ]
  },
  {
   "cell_type": "code",
   "execution_count": 30,
   "metadata": {},
   "outputs": [
    {
     "name": "stdout",
     "output_type": "stream",
     "text": [
      "WHIP for 2021:  [1.235]\n",
      "[[1.495 1.62 ]\n",
      " [1.331 1.33 ]\n",
      " [1.205 0.97 ]\n",
      " [1.249 1.27 ]\n",
      " [1.221 1.2  ]]\n",
      "MSE:  0.014318660877179784\n",
      "R2 Score:  0.6755786460671611\n"
     ]
    },
    {
     "name": "stderr",
     "output_type": "stream",
     "text": [
      "/opt/anaconda3/lib/python3.8/site-packages/sklearn/utils/validation.py:63: DataConversionWarning: A column-vector y was passed when a 1d array was expected. Please change the shape of y to (n_samples, ), for example using ravel().\n",
      "  return f(*args, **kwargs)\n"
     ]
    },
    {
     "data": {
      "image/png": "[encoded data removed]",
      "text/plain": [
       "<Figure size 432x288 with 1 Axes>"
      ]
     },
     "metadata": {
      "needs_background": "light"
     },
     "output_type": "display_data"
    }
   ],
   "source": [
    "#import data\n",
    "col_list = [\"Age\", \"WHIP\"]\n",
    "dataset = pd.read_csv('PadresPitchers.csv', usecols=col_list)\n",
    "X = dataset.iloc[4:9, :-1].values\n",
    "y = dataset.iloc[4:9, -1].values\n",
    "\n",
    "y_train = y\n",
    "y_test = y\n",
    "X_test = X\n",
    "X_train = X\n",
    "\n",
    "#reshape y \n",
    "y = y.reshape(len(y),1)\n",
    "\n",
    "#Feature scaling the data\n",
    "from sklearn.preprocessing import StandardScaler\n",
    "sc_X = StandardScaler()\n",
    "sc_y = StandardScaler()\n",
    "X = sc_X.fit_transform(X)\n",
    "y = sc_y.fit_transform(y)\n",
    "\n",
    "#Train the SVR\n",
    "from sklearn.svm import SVR\n",
    "regressor = SVR(kernel = 'rbf')\n",
    "regressor.fit(X, y)\n",
    "\n",
    "#Predict a new result\n",
    "print(\"WHIP for 2021: \", sc_y.inverse_transform(regressor.predict(sc_X.transform([[28]]))))\n",
    "\n",
    "y_pred = sc_y.inverse_transform(regressor.predict(sc_X.transform(X_test)))\n",
    "np.set_printoptions(precision=3)\n",
    "print(np.concatenate((y_pred.reshape(len(y_pred),1), y_test.reshape(len(y_test),1)),1))\n",
    "\n",
    "from sklearn.metrics import mean_squared_error\n",
    "print(\"MSE: \" , mean_squared_error(y_test, y_pred))\n",
    "\n",
    "from sklearn.metrics import r2_score\n",
    "print(\"R2 Score: \" , r2_score(y_test, y_pred))\n",
    "\n",
    "\n",
    "X_grid = np.arange(min(sc_X.inverse_transform(X)), max(sc_X.inverse_transform(X)), 0.1)\n",
    "X_grid = X_grid.reshape((len(X_grid), 1))\n",
    "plt.scatter(sc_X.inverse_transform(X), sc_y.inverse_transform(y), color = 'red')\n",
    "plt.plot(X_grid, sc_y.inverse_transform(regressor.predict(sc_X.transform(X_grid))), color = 'blue')\n",
    "plt.title('WHIP (SVR)')\n",
    "plt.xlabel('Age')\n",
    "plt.ylabel('WHIP')\n",
    "plt.show()"
   ]
  },
  {
   "cell_type": "code",
   "execution_count": 31,
   "metadata": {},
   "outputs": [
    {
     "name": "stdout",
     "output_type": "stream",
     "text": [
      "AVG for 2021:  [0.229]\n",
      "[[0.26  0.266]\n",
      " [0.235 0.232]\n",
      " [0.223 0.176]\n",
      " [0.236 0.24 ]\n",
      " [0.23  0.227]]\n",
      "MSE:  0.0004650205484877482\n",
      "R2 Score:  0.46038276493716546\n"
     ]
    },
    {
     "name": "stderr",
     "output_type": "stream",
     "text": [
      "/opt/anaconda3/lib/python3.8/site-packages/sklearn/utils/validation.py:63: DataConversionWarning: A column-vector y was passed when a 1d array was expected. Please change the shape of y to (n_samples, ), for example using ravel().\n",
      "  return f(*args, **kwargs)\n"
     ]
    },
    {
     "data": {
      "image/png": "[encoded data removed]",
      "text/plain": [
       "<Figure size 432x288 with 1 Axes>"
      ]
     },
     "metadata": {
      "needs_background": "light"
     },
     "output_type": "display_data"
    }
   ],
   "source": [
    "#import data\n",
    "col_list = [\"Age\", \"AVG\"]\n",
    "dataset = pd.read_csv('PadresPitchers.csv', usecols=col_list)\n",
    "X = dataset.iloc[4:9, :-1].values\n",
    "y = dataset.iloc[4:9, -1].values\n",
    "y_train = y\n",
    "y_test = y\n",
    "X_test = X\n",
    "X_train = X\n",
    "\n",
    "#reshape y \n",
    "y = y.reshape(len(y),1)\n",
    "\n",
    "#Feature scaling the data\n",
    "from sklearn.preprocessing import StandardScaler\n",
    "sc_X = StandardScaler()\n",
    "sc_y = StandardScaler()\n",
    "X = sc_X.fit_transform(X)\n",
    "y = sc_y.fit_transform(y)\n",
    "\n",
    "#Train the SVR\n",
    "from sklearn.svm import SVR\n",
    "regressor = SVR(kernel = 'rbf')\n",
    "regressor.fit(X, y)\n",
    "\n",
    "#Predict a new result\n",
    "print(\"AVG for 2021: \", sc_y.inverse_transform(regressor.predict(sc_X.transform([[28]]))))\n",
    "\n",
    "y_pred = sc_y.inverse_transform(regressor.predict(sc_X.transform(X_test)))\n",
    "np.set_printoptions(precision=3)\n",
    "print(np.concatenate((y_pred.reshape(len(y_pred),1), y_test.reshape(len(y_test),1)),1))\n",
    "\n",
    "from sklearn.metrics import mean_squared_error\n",
    "print(\"MSE: \" , mean_squared_error(y_test, y_pred))\n",
    "\n",
    "from sklearn.metrics import r2_score\n",
    "print(\"R2 Score: \" , r2_score(y_test, y_pred))\n",
    "\n",
    "X_grid = np.arange(min(sc_X.inverse_transform(X)), max(sc_X.inverse_transform(X)), 0.1)\n",
    "X_grid = X_grid.reshape((len(X_grid), 1))\n",
    "plt.scatter(sc_X.inverse_transform(X), sc_y.inverse_transform(y), color = 'red')\n",
    "plt.plot(X_grid, sc_y.inverse_transform(regressor.predict(sc_X.transform(X_grid))), color = 'blue')\n",
    "plt.title('AVG (SVR)')\n",
    "plt.xlabel('Age')\n",
    "plt.ylabel('AVG')\n",
    "plt.show()"
   ]
  },
  {
   "cell_type": "code",
   "execution_count": 32,
   "metadata": {},
   "outputs": [
    {
     "name": "stdout",
     "output_type": "stream",
     "text": [
      "K/9 for 2021:  [10.873]\n",
      "[[ 9.95   9.91 ]\n",
      " [ 9.634  8.28 ]\n",
      " [10.871 11.01 ]\n",
      " [11.963 12.36 ]\n",
      " [11.479 11.34 ]]\n",
      "MSE:  0.40629876270615767\n",
      "R2 Score:  0.7899135645483062\n"
     ]
    },
    {
     "name": "stderr",
     "output_type": "stream",
     "text": [
      "/opt/anaconda3/lib/python3.8/site-packages/sklearn/utils/validation.py:63: DataConversionWarning: A column-vector y was passed when a 1d array was expected. Please change the shape of y to (n_samples, ), for example using ravel().\n",
      "  return f(*args, **kwargs)\n"
     ]
    },
    {
     "data": {
      "image/png": "[encoded data removed]",
      "text/plain": [
       "<Figure size 432x288 with 1 Axes>"
      ]
     },
     "metadata": {
      "needs_background": "light"
     },
     "output_type": "display_data"
    }
   ],
   "source": [
    "#import data\n",
    "col_list = [\"Age\", \"K/9\"]\n",
    "dataset = pd.read_csv('PadresPitchers.csv', usecols=col_list)\n",
    "X = dataset.iloc[4:9, :-1].values\n",
    "y = dataset.iloc[4:9, -1].values\n",
    "\n",
    "y_train = y\n",
    "y_test = y\n",
    "X_test = X\n",
    "X_train = X\n",
    "\n",
    "#reshape y \n",
    "y = y.reshape(len(y),1)\n",
    "\n",
    "#Feature scaling the data\n",
    "from sklearn.preprocessing import StandardScaler\n",
    "sc_X = StandardScaler()\n",
    "sc_y = StandardScaler()\n",
    "X = sc_X.fit_transform(X)\n",
    "y = sc_y.fit_transform(y)\n",
    "\n",
    "#Train the SVR\n",
    "from sklearn.svm import SVR\n",
    "regressor = SVR(kernel = 'rbf')\n",
    "regressor.fit(X, y)\n",
    "\n",
    "#Predict a new result\n",
    "print(\"K/9 for 2021: \", sc_y.inverse_transform(regressor.predict(sc_X.transform([[28]]))))\n",
    "\n",
    "y_pred = sc_y.inverse_transform(regressor.predict(sc_X.transform(X_test)))\n",
    "np.set_printoptions(precision=3)\n",
    "print(np.concatenate((y_pred.reshape(len(y_pred),1), y_test.reshape(len(y_test),1)),1))\n",
    "\n",
    "from sklearn.metrics import mean_squared_error\n",
    "print(\"MSE: \" , mean_squared_error(y_test, y_pred))\n",
    "\n",
    "from sklearn.metrics import r2_score\n",
    "print(\"R2 Score: \" , r2_score(y_test, y_pred))\n",
    "\n",
    "\n",
    "X_grid = np.arange(min(sc_X.inverse_transform(X)), max(sc_X.inverse_transform(X)), 0.1)\n",
    "X_grid = X_grid.reshape((len(X_grid), 1))\n",
    "plt.scatter(sc_X.inverse_transform(X), sc_y.inverse_transform(y), color = 'red')\n",
    "plt.plot(X_grid, sc_y.inverse_transform(regressor.predict(sc_X.transform(X_grid))), color = 'blue')\n",
    "plt.title('K/9 (SVR)')\n",
    "plt.xlabel('Age')\n",
    "plt.ylabel('K/9')\n",
    "plt.show()"
   ]
  },
  {
   "cell_type": "code",
   "execution_count": 33,
   "metadata": {},
   "outputs": [
    {
     "name": "stdout",
     "output_type": "stream",
     "text": [
      " BB/9 for 2021:  [3.486]\n",
      "[[4.562 5.16 ]\n",
      " [4.035 4.11 ]\n",
      " [3.337 3.19 ]\n",
      " [3.285 3.36 ]\n",
      " [3.315 3.24 ]]\n",
      "MSE:  0.07924026892233661\n",
      "R2 Score:  0.859715982617983\n"
     ]
    },
    {
     "name": "stderr",
     "output_type": "stream",
     "text": [
      "/opt/anaconda3/lib/python3.8/site-packages/sklearn/utils/validation.py:63: DataConversionWarning: A column-vector y was passed when a 1d array was expected. Please change the shape of y to (n_samples, ), for example using ravel().\n",
      "  return f(*args, **kwargs)\n"
     ]
    },
    {
     "data": {
      "image/png": "[encoded data removed]",
      "text/plain": [
       "<Figure size 432x288 with 1 Axes>"
      ]
     },
     "metadata": {
      "needs_background": "light"
     },
     "output_type": "display_data"
    }
   ],
   "source": [
    "#import data\n",
    "col_list = [\"Age\", \"BB/9\"]\n",
    "dataset = pd.read_csv('PadresPitchers.csv', usecols=col_list)\n",
    "X = dataset.iloc[4:9, :-1].values\n",
    "y = dataset.iloc[4:9, -1].values\n",
    "\n",
    "y_train = y\n",
    "y_test = y\n",
    "X_test = X\n",
    "X_train = X\n",
    "\n",
    "#reshape y \n",
    "y = y.reshape(len(y),1)\n",
    "\n",
    "#Feature scaling the data\n",
    "from sklearn.preprocessing import StandardScaler\n",
    "sc_X = StandardScaler()\n",
    "sc_y = StandardScaler()\n",
    "X = sc_X.fit_transform(X)\n",
    "y = sc_y.fit_transform(y)\n",
    "\n",
    "#Train the SVR\n",
    "from sklearn.svm import SVR\n",
    "regressor = SVR(kernel = 'rbf')\n",
    "regressor.fit(X, y)\n",
    "\n",
    "#Predict a new result\n",
    "print(\" BB/9 for 2021: \", sc_y.inverse_transform(regressor.predict(sc_X.transform([[28]]))))\n",
    "\n",
    "\n",
    "y_pred = sc_y.inverse_transform(regressor.predict(sc_X.transform(X_test)))\n",
    "np.set_printoptions(precision=3)\n",
    "print(np.concatenate((y_pred.reshape(len(y_pred),1), y_test.reshape(len(y_test),1)),1))\n",
    "\n",
    "from sklearn.metrics import mean_squared_error\n",
    "print(\"MSE: \" , mean_squared_error(y_test, y_pred))\n",
    "\n",
    "from sklearn.metrics import r2_score\n",
    "print(\"R2 Score: \" , r2_score(y_test, y_pred))\n",
    "\n",
    "\n",
    "X_grid = np.arange(min(sc_X.inverse_transform(X)), max(sc_X.inverse_transform(X)), 0.1)\n",
    "X_grid = X_grid.reshape((len(X_grid), 1))\n",
    "plt.scatter(sc_X.inverse_transform(X), sc_y.inverse_transform(y), color = 'red')\n",
    "plt.plot(X_grid, sc_y.inverse_transform(regressor.predict(sc_X.transform(X_grid))), color = 'blue')\n",
    "plt.title('BB/9 (SVR)')\n",
    "plt.xlabel('Age')\n",
    "plt.ylabel('BB/9')\n",
    "plt.show()"
   ]
  },
  {
   "cell_type": "code",
   "execution_count": 34,
   "metadata": {},
   "outputs": [
    {
     "name": "stdout",
     "output_type": "stream",
     "text": [
      " ADJ_IP for 2021:  [133.247]\n",
      "[[100.154  89.   ]\n",
      " [126.022 129.1  ]\n",
      " [138.242 180.2  ]\n",
      " [125.586 107.   ]\n",
      " [131.922 135.   ]]\n",
      "MSE:  449.849510472757\n",
      "R2 Score:  0.5251778851475385\n"
     ]
    },
    {
     "name": "stderr",
     "output_type": "stream",
     "text": [
      "/opt/anaconda3/lib/python3.8/site-packages/sklearn/utils/validation.py:63: DataConversionWarning: A column-vector y was passed when a 1d array was expected. Please change the shape of y to (n_samples, ), for example using ravel().\n",
      "  return f(*args, **kwargs)\n"
     ]
    },
    {
     "data": {
      "image/png": "[encoded data removed]",
      "text/plain": [
       "<Figure size 432x288 with 1 Axes>"
      ]
     },
     "metadata": {
      "needs_background": "light"
     },
     "output_type": "display_data"
    }
   ],
   "source": [
    "#import data\n",
    "col_list = [\"Age\", \"ADJ_IP\"]\n",
    "dataset = pd.read_csv('PadresPitchers.csv', usecols=col_list)\n",
    "X = dataset.iloc[4:9, :-1].values\n",
    "y = dataset.iloc[4:9, -1].values\n",
    "\n",
    "y_train = y\n",
    "y_test = y\n",
    "X_test = X\n",
    "X_train = X\n",
    "\n",
    "#reshape y \n",
    "y = y.reshape(len(y),1)\n",
    "\n",
    "#Feature scaling the data\n",
    "from sklearn.preprocessing import StandardScaler\n",
    "sc_X = StandardScaler()\n",
    "sc_y = StandardScaler()\n",
    "X = sc_X.fit_transform(X)\n",
    "y = sc_y.fit_transform(y)\n",
    "\n",
    "#Train the SVR\n",
    "from sklearn.svm import SVR\n",
    "regressor = SVR(kernel = 'rbf')\n",
    "regressor.fit(X, y)\n",
    "\n",
    "#Predict a new result\n",
    "print(\" ADJ_IP for 2021: \", sc_y.inverse_transform(regressor.predict(sc_X.transform([[28]]))))\n",
    "\n",
    "\n",
    "y_pred = sc_y.inverse_transform(regressor.predict(sc_X.transform(X_test)))\n",
    "np.set_printoptions(precision=3)\n",
    "print(np.concatenate((y_pred.reshape(len(y_pred),1), y_test.reshape(len(y_test),1)),1))\n",
    "\n",
    "from sklearn.metrics import mean_squared_error\n",
    "print(\"MSE: \" , mean_squared_error(y_test, y_pred))\n",
    "\n",
    "from sklearn.metrics import r2_score\n",
    "print(\"R2 Score: \" , r2_score(y_test, y_pred))\n",
    "\n",
    "\n",
    "X_grid = np.arange(min(sc_X.inverse_transform(X)), max(sc_X.inverse_transform(X)), 0.1)\n",
    "X_grid = X_grid.reshape((len(X_grid), 1))\n",
    "plt.scatter(sc_X.inverse_transform(X), sc_y.inverse_transform(y), color = 'red')\n",
    "plt.plot(X_grid, sc_y.inverse_transform(regressor.predict(sc_X.transform(X_grid))), color = 'blue')\n",
    "plt.title('ADJ_IP (SVR)')\n",
    "plt.xlabel('Age')\n",
    "plt.ylabel('ADJ_IP')\n",
    "plt.show()"
   ]
  },
  {
   "cell_type": "code",
   "execution_count": 35,
   "metadata": {},
   "outputs": [
    {
     "name": "stdout",
     "output_type": "stream",
     "text": [
      " ADJ_GS for 2021:  [26.692]\n",
      "[[20.666 19.   ]\n",
      " [24.    24.   ]\n",
      " [26.298 31.   ]\n",
      " [25.448 23.   ]\n",
      " [26.897 29.7  ]]\n",
      "MSE:  7.746307941243745\n",
      "R2 Score:  0.6068342972813594\n"
     ]
    },
    {
     "name": "stderr",
     "output_type": "stream",
     "text": [
      "/opt/anaconda3/lib/python3.8/site-packages/sklearn/utils/validation.py:63: DataConversionWarning: A column-vector y was passed when a 1d array was expected. Please change the shape of y to (n_samples, ), for example using ravel().\n",
      "  return f(*args, **kwargs)\n"
     ]
    },
    {
     "data": {
      "image/png": "[encoded data removed]",
      "text/plain": [
       "<Figure size 432x288 with 1 Axes>"
      ]
     },
     "metadata": {
      "needs_background": "light"
     },
     "output_type": "display_data"
    }
   ],
   "source": [
    "#import data\n",
    "col_list = [\"Age\", \"ADJ_GS\"]\n",
    "dataset = pd.read_csv('PadresPitchers.csv', usecols=col_list)\n",
    "X = dataset.iloc[4:9, :-1].values\n",
    "y = dataset.iloc[4:9, -1].values\n",
    "\n",
    "y_train = y\n",
    "y_test = y\n",
    "X_test = X\n",
    "X_train = X\n",
    "\n",
    "#reshape y \n",
    "y = y.reshape(len(y),1)\n",
    "\n",
    "#Feature scaling the data\n",
    "from sklearn.preprocessing import StandardScaler\n",
    "sc_X = StandardScaler()\n",
    "sc_y = StandardScaler()\n",
    "X = sc_X.fit_transform(X)\n",
    "y = sc_y.fit_transform(y)\n",
    "\n",
    "#Train the SVR\n",
    "from sklearn.svm import SVR\n",
    "regressor = SVR(kernel = 'rbf')\n",
    "regressor.fit(X, y)\n",
    "\n",
    "#Predict a new result\n",
    "print(\" ADJ_GS for 2021: \", sc_y.inverse_transform(regressor.predict(sc_X.transform([[28]]))))\n",
    "\n",
    "\n",
    "y_pred = sc_y.inverse_transform(regressor.predict(sc_X.transform(X_test)))\n",
    "np.set_printoptions(precision=3)\n",
    "print(np.concatenate((y_pred.reshape(len(y_pred),1), y_test.reshape(len(y_test),1)),1))\n",
    "\n",
    "from sklearn.metrics import mean_squared_error\n",
    "print(\"MSE: \" , mean_squared_error(y_test, y_pred))\n",
    "\n",
    "from sklearn.metrics import r2_score\n",
    "print(\"R2 Score: \" , r2_score(y_test, y_pred))\n",
    "\n",
    "\n",
    "X_grid = np.arange(min(sc_X.inverse_transform(X)), max(sc_X.inverse_transform(X)), 0.1)\n",
    "X_grid = X_grid.reshape((len(X_grid), 1))\n",
    "plt.scatter(sc_X.inverse_transform(X), sc_y.inverse_transform(y), color = 'red')\n",
    "plt.plot(X_grid, sc_y.inverse_transform(regressor.predict(sc_X.transform(X_grid))), color = 'blue')\n",
    "plt.title('ADJ_GS (SVR)')\n",
    "plt.xlabel('Age')\n",
    "plt.ylabel('ADJ_GS')\n",
    "plt.show()"
   ]
  }
 ],
 "metadata": {
  "kernelspec": {
   "display_name": "Python 3",
   "language": "python",
   "name": "python3"
  },
  "language_info": {
   "codemirror_mode": {
    "name": "ipython",
    "version": 3
   },
   "file_extension": ".py",
   "mimetype": "text/x-python",
   "name": "python",
   "nbconvert_exporter": "python",
   "pygments_lexer": "ipython3",
   "version": "3.8.3"
  }
 },
 "nbformat": 4,
 "nbformat_minor": 4
}
