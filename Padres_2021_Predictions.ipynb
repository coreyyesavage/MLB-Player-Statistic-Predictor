{
 "cells": [
  {
   "cell_type": "markdown",
   "metadata": {
    "colab_type": "text",
    "id": "lP6JLo1tGNBg"
   },
   "source": [
    "# Artificial Neural Network"
   ]
  },
  {
   "cell_type": "code",
   "execution_count": 111,
   "metadata": {
    "colab": {},
    "colab_type": "code",
    "id": "MxkJoQBkUIHC"
   },
   "outputs": [],
   "source": [
    "import numpy as np\n",
    "import pandas as pd\n",
    "import tensorflow as tf"
   ]
  },
  {
   "cell_type": "markdown",
   "metadata": {
    "colab_type": "text",
    "id": "1E0Q3aoKUCRX"
   },
   "source": [
    "## Part 1 - Data Preprocessing"
   ]
  },
  {
   "cell_type": "code",
   "execution_count": 136,
   "metadata": {
    "colab": {},
    "colab_type": "code",
    "id": "MXUkhkMfU4wq"
   },
   "outputs": [],
   "source": [
    "dataset = pd.read_csv('TeamData.csv')\n",
    "X = dataset.iloc[:822, 3:9].values\n",
    "y = dataset.iloc[:822, -1].values"
   ]
  },
  {
   "cell_type": "code",
   "execution_count": 137,
   "metadata": {
    "colab": {},
    "colab_type": "code",
    "id": "Z-TDt0Y_XEfc"
   },
   "outputs": [],
   "source": [
    "from sklearn.model_selection import train_test_split\n",
    "X_train, X_test, y_train, y_test = train_test_split(X, y, test_size = 0.2, random_state = 0)"
   ]
  },
  {
   "cell_type": "code",
   "execution_count": 138,
   "metadata": {
    "colab": {},
    "colab_type": "code",
    "id": "ViCrE00rV8Sk"
   },
   "outputs": [],
   "source": [
    "from sklearn.preprocessing import StandardScaler\n",
    "sc = StandardScaler()\n",
    "X_train = sc.fit_transform(X_train)\n",
    "X_test = sc.transform(X_test)"
   ]
  },
  {
   "cell_type": "markdown",
   "metadata": {
    "colab_type": "text",
    "id": "-zfEzkRVXIwF"
   },
   "source": [
    "## Part 2 - Building the ANN"
   ]
  },
  {
   "cell_type": "markdown",
   "metadata": {
    "colab_type": "text",
    "id": "KvdeScabXtlB"
   },
   "source": [
    "### Initializing the ANN"
   ]
  },
  {
   "cell_type": "code",
   "execution_count": 139,
   "metadata": {
    "colab": {},
    "colab_type": "code",
    "id": "3dtrScHxXQox"
   },
   "outputs": [],
   "source": [
    "ann = tf.keras.models.Sequential()"
   ]
  },
  {
   "cell_type": "markdown",
   "metadata": {
    "colab_type": "text",
    "id": "rP6urV6SX7kS"
   },
   "source": [
    "### Adding the input layer and the first hidden layer"
   ]
  },
  {
   "cell_type": "code",
   "execution_count": 140,
   "metadata": {
    "colab": {},
    "colab_type": "code",
    "id": "bppGycBXYCQr"
   },
   "outputs": [],
   "source": [
    "ann.add(tf.keras.layers.Dense(units=6, activation='relu'))"
   ]
  },
  {
   "cell_type": "markdown",
   "metadata": {
    "colab_type": "text",
    "id": "BELWAc_8YJze"
   },
   "source": [
    "### Adding the second hidden layer"
   ]
  },
  {
   "cell_type": "code",
   "execution_count": 141,
   "metadata": {
    "colab": {},
    "colab_type": "code",
    "id": "JneR0u0sYRTd"
   },
   "outputs": [],
   "source": [
    "ann.add(tf.keras.layers.Dense(units=6, activation='relu'))"
   ]
  },
  {
   "cell_type": "markdown",
   "metadata": {
    "colab_type": "text",
    "id": "OyNEe6RXYcU4"
   },
   "source": [
    "### Adding the output layer"
   ]
  },
  {
   "cell_type": "code",
   "execution_count": 142,
   "metadata": {
    "colab": {},
    "colab_type": "code",
    "id": "Cn3x41RBYfvY"
   },
   "outputs": [],
   "source": [
    "ann.add(tf.keras.layers.Dense(units=1, activation='sigmoid'))"
   ]
  },
  {
   "cell_type": "markdown",
   "metadata": {
    "colab_type": "text",
    "id": "JT4u2S1_Y4WG"
   },
   "source": [
    "## Part 3 - Training the ANN"
   ]
  },
  {
   "cell_type": "markdown",
   "metadata": {
    "colab_type": "text",
    "id": "8GWlJChhY_ZI"
   },
   "source": [
    "### Compiling the ANN"
   ]
  },
  {
   "cell_type": "markdown",
   "metadata": {
    "colab_type": "text",
    "id": "0QR_G5u7ZLSM"
   },
   "source": [
    "### Training the ANN on the Training set"
   ]
  },
  {
   "cell_type": "code",
   "execution_count": 143,
   "metadata": {
    "colab": {},
    "colab_type": "code",
    "id": "fG3RrwDXZEaS"
   },
   "outputs": [],
   "source": [
    "ann.compile(optimizer = 'adam', loss = 'binary_crossentropy', metrics = ['accuracy'])"
   ]
  },
  {
   "cell_type": "code",
   "execution_count": 144,
   "metadata": {
    "colab": {
     "base_uri": "https://localhost:8080/",
     "height": 1000
    },
    "colab_type": "code",
    "id": "nHZ-LKv_ZRb3",
    "outputId": "718cc4b0-b5aa-40f0-9b20-d3d31730a531"
   },
   "outputs": [
    {
     "name": "stdout",
     "output_type": "stream",
     "text": [
      "Epoch 1/100\n",
      "21/21 [==============================] - 0s 546us/step - loss: 0.8508 - accuracy: 0.3090\n",
      "Epoch 2/100\n",
      "21/21 [==============================] - 0s 752us/step - loss: 0.7602 - accuracy: 0.4079\n",
      "Epoch 3/100\n",
      "21/21 [==============================] - 0s 758us/step - loss: 0.6948 - accuracy: 0.5129\n",
      "Epoch 4/100\n",
      "21/21 [==============================] - 0s 970us/step - loss: 0.6452 - accuracy: 0.6773\n",
      "Epoch 5/100\n",
      "21/21 [==============================] - 0s 977us/step - loss: 0.6071 - accuracy: 0.7580\n",
      "Epoch 6/100\n",
      "21/21 [==============================] - 0s 876us/step - loss: 0.5762 - accuracy: 0.7915\n",
      "Epoch 7/100\n",
      "21/21 [==============================] - 0s 691us/step - loss: 0.5507 - accuracy: 0.8021\n",
      "Epoch 8/100\n",
      "21/21 [==============================] - 0s 1ms/step - loss: 0.5285 - accuracy: 0.8037\n",
      "Epoch 9/100\n",
      "21/21 [==============================] - 0s 843us/step - loss: 0.5091 - accuracy: 0.8128\n",
      "Epoch 10/100\n",
      "21/21 [==============================] - 0s 1ms/step - loss: 0.4909 - accuracy: 0.8143\n",
      "Epoch 11/100\n",
      "21/21 [==============================] - 0s 1ms/step - loss: 0.4735 - accuracy: 0.8234\n",
      "Epoch 12/100\n",
      "21/21 [==============================] - 0s 939us/step - loss: 0.4569 - accuracy: 0.8250\n",
      "Epoch 13/100\n",
      "21/21 [==============================] - 0s 798us/step - loss: 0.4411 - accuracy: 0.8295\n",
      "Epoch 14/100\n",
      "21/21 [==============================] - 0s 1ms/step - loss: 0.4263 - accuracy: 0.8371\n",
      "Epoch 15/100\n",
      "21/21 [==============================] - 0s 1ms/step - loss: 0.4119 - accuracy: 0.8356\n",
      "Epoch 16/100\n",
      "21/21 [==============================] - 0s 1ms/step - loss: 0.3987 - accuracy: 0.8402\n",
      "Epoch 17/100\n",
      "21/21 [==============================] - 0s 750us/step - loss: 0.3866 - accuracy: 0.8463\n",
      "Epoch 18/100\n",
      "21/21 [==============================] - 0s 934us/step - loss: 0.3751 - accuracy: 0.8478\n",
      "Epoch 19/100\n",
      "21/21 [==============================] - 0s 985us/step - loss: 0.3641 - accuracy: 0.8493\n",
      "Epoch 20/100\n",
      "21/21 [==============================] - 0s 756us/step - loss: 0.3540 - accuracy: 0.8493\n",
      "Epoch 21/100\n",
      "21/21 [==============================] - 0s 899us/step - loss: 0.3458 - accuracy: 0.8478\n",
      "Epoch 22/100\n",
      "21/21 [==============================] - 0s 1ms/step - loss: 0.3379 - accuracy: 0.8508\n",
      "Epoch 23/100\n",
      "21/21 [==============================] - 0s 926us/step - loss: 0.3312 - accuracy: 0.8554\n",
      "Epoch 24/100\n",
      "21/21 [==============================] - 0s 1ms/step - loss: 0.3257 - accuracy: 0.8569\n",
      "Epoch 25/100\n",
      "21/21 [==============================] - 0s 949us/step - loss: 0.3200 - accuracy: 0.8600\n",
      "Epoch 26/100\n",
      "21/21 [==============================] - 0s 1ms/step - loss: 0.3155 - accuracy: 0.8615\n",
      "Epoch 27/100\n",
      "21/21 [==============================] - 0s 1ms/step - loss: 0.3112 - accuracy: 0.8615\n",
      "Epoch 28/100\n",
      "21/21 [==============================] - 0s 1ms/step - loss: 0.3073 - accuracy: 0.8630\n",
      "Epoch 29/100\n",
      "21/21 [==============================] - 0s 1ms/step - loss: 0.3041 - accuracy: 0.8615\n",
      "Epoch 30/100\n",
      "21/21 [==============================] - 0s 1ms/step - loss: 0.3005 - accuracy: 0.8676\n",
      "Epoch 31/100\n",
      "21/21 [==============================] - 0s 887us/step - loss: 0.2984 - accuracy: 0.8661\n",
      "Epoch 32/100\n",
      "21/21 [==============================] - 0s 1ms/step - loss: 0.2956 - accuracy: 0.8630\n",
      "Epoch 33/100\n",
      "21/21 [==============================] - 0s 1ms/step - loss: 0.2927 - accuracy: 0.8676\n",
      "Epoch 34/100\n",
      "21/21 [==============================] - 0s 971us/step - loss: 0.2909 - accuracy: 0.8676\n",
      "Epoch 35/100\n",
      "21/21 [==============================] - 0s 1ms/step - loss: 0.2886 - accuracy: 0.8721\n",
      "Epoch 36/100\n",
      "21/21 [==============================] - 0s 1ms/step - loss: 0.2867 - accuracy: 0.8721\n",
      "Epoch 37/100\n",
      "21/21 [==============================] - 0s 1ms/step - loss: 0.2852 - accuracy: 0.8706\n",
      "Epoch 38/100\n",
      "21/21 [==============================] - 0s 1ms/step - loss: 0.2834 - accuracy: 0.8691\n",
      "Epoch 39/100\n",
      "21/21 [==============================] - 0s 876us/step - loss: 0.2818 - accuracy: 0.8706\n",
      "Epoch 40/100\n",
      "21/21 [==============================] - 0s 1ms/step - loss: 0.2806 - accuracy: 0.8706\n",
      "Epoch 41/100\n",
      "21/21 [==============================] - 0s 1ms/step - loss: 0.2791 - accuracy: 0.8706\n",
      "Epoch 42/100\n",
      "21/21 [==============================] - 0s 1ms/step - loss: 0.2779 - accuracy: 0.8737\n",
      "Epoch 43/100\n",
      "21/21 [==============================] - 0s 1ms/step - loss: 0.2767 - accuracy: 0.8737\n",
      "Epoch 44/100\n",
      "21/21 [==============================] - 0s 941us/step - loss: 0.2755 - accuracy: 0.8752\n",
      "Epoch 45/100\n",
      "21/21 [==============================] - 0s 1ms/step - loss: 0.2746 - accuracy: 0.8767\n",
      "Epoch 46/100\n",
      "21/21 [==============================] - 0s 800us/step - loss: 0.2738 - accuracy: 0.8752\n",
      "Epoch 47/100\n",
      "21/21 [==============================] - 0s 1ms/step - loss: 0.2728 - accuracy: 0.8798\n",
      "Epoch 48/100\n",
      "21/21 [==============================] - 0s 1ms/step - loss: 0.2722 - accuracy: 0.8828\n",
      "Epoch 49/100\n",
      "21/21 [==============================] - 0s 683us/step - loss: 0.2723 - accuracy: 0.8767\n",
      "Epoch 50/100\n",
      "21/21 [==============================] - 0s 1ms/step - loss: 0.2701 - accuracy: 0.8782\n",
      "Epoch 51/100\n",
      "21/21 [==============================] - 0s 959us/step - loss: 0.2693 - accuracy: 0.8813\n",
      "Epoch 52/100\n",
      "21/21 [==============================] - 0s 755us/step - loss: 0.2687 - accuracy: 0.8798\n",
      "Epoch 53/100\n",
      "21/21 [==============================] - 0s 990us/step - loss: 0.2681 - accuracy: 0.8828\n",
      "Epoch 54/100\n",
      "21/21 [==============================] - 0s 946us/step - loss: 0.2677 - accuracy: 0.8828\n",
      "Epoch 55/100\n",
      "21/21 [==============================] - 0s 746us/step - loss: 0.2672 - accuracy: 0.8813\n",
      "Epoch 56/100\n",
      "21/21 [==============================] - 0s 634us/step - loss: 0.2666 - accuracy: 0.8813\n",
      "Epoch 57/100\n",
      "21/21 [==============================] - 0s 906us/step - loss: 0.2661 - accuracy: 0.8813\n",
      "Epoch 58/100\n",
      "21/21 [==============================] - 0s 653us/step - loss: 0.2659 - accuracy: 0.8813\n",
      "Epoch 59/100\n",
      "21/21 [==============================] - 0s 564us/step - loss: 0.2651 - accuracy: 0.8782\n",
      "Epoch 60/100\n",
      "21/21 [==============================] - 0s 552us/step - loss: 0.2654 - accuracy: 0.8813\n",
      "Epoch 61/100\n",
      "21/21 [==============================] - 0s 540us/step - loss: 0.2643 - accuracy: 0.8782\n",
      "Epoch 62/100\n",
      "21/21 [==============================] - 0s 551us/step - loss: 0.2636 - accuracy: 0.8813\n",
      "Epoch 63/100\n",
      "21/21 [==============================] - 0s 552us/step - loss: 0.2635 - accuracy: 0.8798\n",
      "Epoch 64/100\n",
      "21/21 [==============================] - 0s 553us/step - loss: 0.2630 - accuracy: 0.8813\n",
      "Epoch 65/100\n",
      "21/21 [==============================] - 0s 550us/step - loss: 0.2623 - accuracy: 0.8782\n",
      "Epoch 66/100\n",
      "21/21 [==============================] - 0s 532us/step - loss: 0.2628 - accuracy: 0.8782\n",
      "Epoch 67/100\n",
      "21/21 [==============================] - 0s 594us/step - loss: 0.2623 - accuracy: 0.8828\n",
      "Epoch 68/100\n",
      "21/21 [==============================] - 0s 789us/step - loss: 0.2612 - accuracy: 0.8782\n",
      "Epoch 69/100\n",
      "21/21 [==============================] - 0s 796us/step - loss: 0.2609 - accuracy: 0.8798\n",
      "Epoch 70/100\n",
      "21/21 [==============================] - 0s 631us/step - loss: 0.2607 - accuracy: 0.8798\n",
      "Epoch 71/100\n",
      "21/21 [==============================] - 0s 574us/step - loss: 0.2607 - accuracy: 0.8828\n",
      "Epoch 72/100\n",
      "21/21 [==============================] - 0s 578us/step - loss: 0.2600 - accuracy: 0.8782\n",
      "Epoch 73/100\n",
      "21/21 [==============================] - 0s 590us/step - loss: 0.2600 - accuracy: 0.8813\n",
      "Epoch 74/100\n",
      "21/21 [==============================] - 0s 570us/step - loss: 0.2598 - accuracy: 0.8828\n",
      "Epoch 75/100\n",
      "21/21 [==============================] - 0s 538us/step - loss: 0.2599 - accuracy: 0.8798\n",
      "Epoch 76/100\n",
      "21/21 [==============================] - 0s 552us/step - loss: 0.2589 - accuracy: 0.8813\n",
      "Epoch 77/100\n",
      "21/21 [==============================] - 0s 524us/step - loss: 0.2588 - accuracy: 0.8813\n",
      "Epoch 78/100\n",
      "21/21 [==============================] - 0s 539us/step - loss: 0.2587 - accuracy: 0.8798\n",
      "Epoch 79/100\n",
      "21/21 [==============================] - 0s 562us/step - loss: 0.2585 - accuracy: 0.8813\n",
      "Epoch 80/100\n",
      "21/21 [==============================] - 0s 558us/step - loss: 0.2583 - accuracy: 0.8828\n",
      "Epoch 81/100\n",
      "21/21 [==============================] - 0s 557us/step - loss: 0.2580 - accuracy: 0.8858\n"
     ]
    },
    {
     "name": "stdout",
     "output_type": "stream",
     "text": [
      "Epoch 82/100\n",
      "21/21 [==============================] - 0s 574us/step - loss: 0.2576 - accuracy: 0.8843\n",
      "Epoch 83/100\n",
      "21/21 [==============================] - 0s 544us/step - loss: 0.2574 - accuracy: 0.8858\n",
      "Epoch 84/100\n",
      "21/21 [==============================] - 0s 568us/step - loss: 0.2573 - accuracy: 0.8813\n",
      "Epoch 85/100\n",
      "21/21 [==============================] - 0s 584us/step - loss: 0.2569 - accuracy: 0.8828\n",
      "Epoch 86/100\n",
      "21/21 [==============================] - 0s 557us/step - loss: 0.2568 - accuracy: 0.8843\n",
      "Epoch 87/100\n",
      "21/21 [==============================] - 0s 542us/step - loss: 0.2568 - accuracy: 0.8828\n",
      "Epoch 88/100\n",
      "21/21 [==============================] - 0s 572us/step - loss: 0.2569 - accuracy: 0.8828\n",
      "Epoch 89/100\n",
      "21/21 [==============================] - 0s 558us/step - loss: 0.2564 - accuracy: 0.8858\n",
      "Epoch 90/100\n",
      "21/21 [==============================] - 0s 536us/step - loss: 0.2565 - accuracy: 0.8858\n",
      "Epoch 91/100\n",
      "21/21 [==============================] - 0s 551us/step - loss: 0.2565 - accuracy: 0.8828\n",
      "Epoch 92/100\n",
      "21/21 [==============================] - 0s 547us/step - loss: 0.2558 - accuracy: 0.8843\n",
      "Epoch 93/100\n",
      "21/21 [==============================] - 0s 549us/step - loss: 0.2559 - accuracy: 0.8858\n",
      "Epoch 94/100\n",
      "21/21 [==============================] - 0s 560us/step - loss: 0.2557 - accuracy: 0.8858\n",
      "Epoch 95/100\n",
      "21/21 [==============================] - 0s 538us/step - loss: 0.2558 - accuracy: 0.8858\n",
      "Epoch 96/100\n",
      "21/21 [==============================] - 0s 531us/step - loss: 0.2553 - accuracy: 0.8858\n",
      "Epoch 97/100\n",
      "21/21 [==============================] - 0s 555us/step - loss: 0.2556 - accuracy: 0.8843\n",
      "Epoch 98/100\n",
      "21/21 [==============================] - 0s 534us/step - loss: 0.2554 - accuracy: 0.8858\n",
      "Epoch 99/100\n",
      "21/21 [==============================] - 0s 556us/step - loss: 0.2552 - accuracy: 0.8828\n",
      "Epoch 100/100\n",
      "21/21 [==============================] - 0s 536us/step - loss: 0.2548 - accuracy: 0.8874\n"
     ]
    },
    {
     "data": {
      "text/plain": [
       "<tensorflow.python.keras.callbacks.History at 0x7fc78e5bd7c0>"
      ]
     },
     "execution_count": 144,
     "metadata": {},
     "output_type": "execute_result"
    }
   ],
   "source": [
    "ann.fit(X_train, y_train, batch_size = 32, epochs = 100)"
   ]
  },
  {
   "cell_type": "markdown",
   "metadata": {
    "colab_type": "text",
    "id": "tJj5k2MxZga3"
   },
   "source": [
    "## Part 4 - Making the predictions and evaluating the model"
   ]
  },
  {
   "cell_type": "code",
   "execution_count": 145,
   "metadata": {
    "colab": {
     "base_uri": "https://localhost:8080/",
     "height": 34
    },
    "colab_type": "code",
    "id": "2d8IoCCkeWGL",
    "outputId": "957f3970-e197-4c3b-a150-7f69dc567f5d"
   },
   "outputs": [
    {
     "name": "stdout",
     "output_type": "stream",
     "text": [
      "[[0.9248812]]\n"
     ]
    }
   ],
   "source": [
    "print(ann.predict(sc.transform([[162, 712, 604, .332, .453, .259]])))"
   ]
  },
  {
   "cell_type": "markdown",
   "metadata": {
    "colab_type": "text",
    "id": "u7yx47jPZt11"
   },
   "source": [
    "### Predicting the Test set results"
   ]
  },
  {
   "cell_type": "code",
   "execution_count": 146,
   "metadata": {
    "colab": {
     "base_uri": "https://localhost:8080/",
     "height": 137
    },
    "colab_type": "code",
    "id": "nIyEeQdRZwgs",
    "outputId": "82330ba8-9bdc-4fd1-d3cf-b6d78ee7c2a3"
   },
   "outputs": [
    {
     "name": "stdout",
     "output_type": "stream",
     "text": [
      "[[0 0]\n",
      " [0 0]\n",
      " [0 0]\n",
      " [0 0]\n",
      " [0 0]\n",
      " [0 1]\n",
      " [0 0]\n",
      " [0 0]\n",
      " [0 0]\n",
      " [0 0]\n",
      " [0 0]\n",
      " [0 0]\n",
      " [1 1]\n",
      " [1 0]\n",
      " [0 0]\n",
      " [0 0]\n",
      " [1 1]\n",
      " [1 1]\n",
      " [1 1]\n",
      " [0 0]\n",
      " [0 0]\n",
      " [0 0]\n",
      " [1 1]\n",
      " [1 1]\n",
      " [0 0]\n",
      " [0 0]\n",
      " [0 0]\n",
      " [0 0]\n",
      " [0 0]\n",
      " [0 0]\n",
      " [1 1]\n",
      " [1 1]\n",
      " [0 0]\n",
      " [0 0]\n",
      " [0 0]\n",
      " [1 1]\n",
      " [1 1]\n",
      " [0 0]\n",
      " [1 1]\n",
      " [0 0]\n",
      " [0 0]\n",
      " [0 0]\n",
      " [0 0]\n",
      " [0 1]\n",
      " [0 0]\n",
      " [0 0]\n",
      " [0 0]\n",
      " [0 0]\n",
      " [0 0]\n",
      " [0 0]\n",
      " [0 0]\n",
      " [1 0]\n",
      " [0 0]\n",
      " [0 1]\n",
      " [1 1]\n",
      " [1 1]\n",
      " [0 0]\n",
      " [0 0]\n",
      " [0 0]\n",
      " [0 0]\n",
      " [0 0]\n",
      " [0 0]\n",
      " [0 0]\n",
      " [1 1]\n",
      " [1 1]\n",
      " [0 0]\n",
      " [0 0]\n",
      " [0 0]\n",
      " [0 0]\n",
      " [0 0]\n",
      " [1 1]\n",
      " [0 0]\n",
      " [0 0]\n",
      " [1 1]\n",
      " [0 0]\n",
      " [0 0]\n",
      " [0 0]\n",
      " [0 1]\n",
      " [0 0]\n",
      " [1 1]\n",
      " [0 0]\n",
      " [1 1]\n",
      " [0 0]\n",
      " [0 0]\n",
      " [1 0]\n",
      " [1 1]\n",
      " [1 1]\n",
      " [1 1]\n",
      " [1 1]\n",
      " [0 0]\n",
      " [0 0]\n",
      " [0 0]\n",
      " [1 0]\n",
      " [0 0]\n",
      " [0 0]\n",
      " [0 0]\n",
      " [1 1]\n",
      " [0 0]\n",
      " [0 0]\n",
      " [1 1]\n",
      " [0 0]\n",
      " [0 0]\n",
      " [1 1]\n",
      " [0 0]\n",
      " [0 0]\n",
      " [0 0]\n",
      " [0 0]\n",
      " [0 0]\n",
      " [0 0]\n",
      " [1 1]\n",
      " [0 0]\n",
      " [0 1]\n",
      " [1 1]\n",
      " [0 0]\n",
      " [0 0]\n",
      " [1 0]\n",
      " [0 0]\n",
      " [1 1]\n",
      " [1 1]\n",
      " [0 0]\n",
      " [0 0]\n",
      " [0 0]\n",
      " [1 1]\n",
      " [0 0]\n",
      " [0 0]\n",
      " [0 0]\n",
      " [0 0]\n",
      " [0 0]\n",
      " [0 0]\n",
      " [0 0]\n",
      " [0 0]\n",
      " [1 1]\n",
      " [0 0]\n",
      " [0 0]\n",
      " [0 0]\n",
      " [1 1]\n",
      " [0 0]\n",
      " [0 1]\n",
      " [1 1]\n",
      " [1 1]\n",
      " [0 0]\n",
      " [0 0]\n",
      " [0 0]\n",
      " [0 1]\n",
      " [0 0]\n",
      " [0 0]\n",
      " [0 0]\n",
      " [0 0]\n",
      " [0 0]\n",
      " [0 0]\n",
      " [1 1]\n",
      " [0 0]\n",
      " [0 1]\n",
      " [1 1]\n",
      " [0 0]\n",
      " [1 1]\n",
      " [1 1]\n",
      " [0 0]\n",
      " [0 0]\n",
      " [1 0]\n",
      " [0 0]\n",
      " [1 1]\n",
      " [0 0]\n",
      " [0 0]\n",
      " [0 0]]\n"
     ]
    }
   ],
   "source": [
    "y_pred = ann.predict(X_test)\n",
    "y_pred = (y_pred > 0.5)\n",
    "print(np.concatenate((y_pred.reshape(len(y_pred),1), y_test.reshape(len(y_test),1)),1))"
   ]
  },
  {
   "cell_type": "markdown",
   "metadata": {
    "colab_type": "text",
    "id": "o0oyfLWoaEGw"
   },
   "source": [
    "### Making the Confusion Matrix"
   ]
  },
  {
   "cell_type": "code",
   "execution_count": 147,
   "metadata": {
    "colab": {
     "base_uri": "https://localhost:8080/",
     "height": 68
    },
    "colab_type": "code",
    "id": "ci6K_r6LaF6P",
    "outputId": "4d854e9e-22d5-432f-f6e5-a102fe3ae0bd"
   },
   "outputs": [
    {
     "name": "stdout",
     "output_type": "stream",
     "text": [
      "[[111   6]\n",
      " [  8  40]]\n"
     ]
    },
    {
     "data": {
      "text/plain": [
       "0.9151515151515152"
      ]
     },
     "execution_count": 147,
     "metadata": {},
     "output_type": "execute_result"
    }
   ],
   "source": [
    "from sklearn.metrics import confusion_matrix, accuracy_score\n",
    "cm = confusion_matrix(y_test, y_pred)\n",
    "print(cm)\n",
    "accuracy_score(y_test, y_pred)"
   ]
  },
  {
   "cell_type": "code",
   "execution_count": null,
   "metadata": {},
   "outputs": [],
   "source": []
  },
  {
   "cell_type": "code",
   "execution_count": null,
   "metadata": {},
   "outputs": [],
   "source": []
  }
 ],
 "metadata": {
  "colab": {
   "collapsed_sections": [],
   "name": "artificial_neural_network.ipynb",
   "provenance": [],
   "toc_visible": true
  },
  "kernelspec": {
   "display_name": "Python 3",
   "language": "python",
   "name": "python3"
  },
  "language_info": {
   "codemirror_mode": {
    "name": "ipython",
    "version": 3
   },
   "file_extension": ".py",
   "mimetype": "text/x-python",
   "name": "python",
   "nbconvert_exporter": "python",
   "pygments_lexer": "ipython3",
   "version": "3.8.3"
  }
 },
 "nbformat": 4,
 "nbformat_minor": 1
}
