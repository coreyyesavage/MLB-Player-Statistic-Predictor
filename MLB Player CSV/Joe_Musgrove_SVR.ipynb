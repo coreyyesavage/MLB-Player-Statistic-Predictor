{
 "cells": [
  {
   "cell_type": "code",
   "execution_count": 1,
   "metadata": {},
   "outputs": [
    {
     "name": "stdout",
     "output_type": "stream",
     "text": [
      "[['Joe Musgrove' 23]\n",
      " ['Joe Musgrove' 24]\n",
      " ['Joe Musgrove' 25]\n",
      " ['Joe Musgrove' 26]\n",
      " ['Joe Musgrove' 27]]\n"
     ]
    }
   ],
   "source": [
    "#import packages\n",
    "import numpy as np\n",
    "import matplotlib.pyplot as plt\n",
    "import pandas as pd\n",
    "\n",
    "#import data\n",
    "col_list = [\"Name\",\"Age\", \"ERA\"]\n",
    "dataset = pd.read_csv('PadresPitchers.csv', usecols=col_list)\n",
    "X = dataset.iloc[29:34, :-1].values\n",
    "y = dataset.iloc[29:34, -1].values\n",
    "\n",
    "print(X)"
   ]
  },
  {
   "cell_type": "code",
   "execution_count": 2,
   "metadata": {},
   "outputs": [
    {
     "name": "stdout",
     "output_type": "stream",
     "text": [
      "ERA for 2021:  [3.88372446]\n",
      "[[4.092 4.06 ]\n",
      " [4.167 4.77 ]\n",
      " [4.092 4.06 ]\n",
      " [4.048 4.44 ]\n",
      " [3.893 3.86 ]]\n",
      "MSE:  0.10425759258759575\n",
      "R2 Score:  0.016586245589385262\n"
     ]
    },
    {
     "name": "stderr",
     "output_type": "stream",
     "text": [
      "/opt/anaconda3/lib/python3.8/site-packages/sklearn/utils/validation.py:63: DataConversionWarning: A column-vector y was passed when a 1d array was expected. Please change the shape of y to (n_samples, ), for example using ravel().\n",
      "  return f(*args, **kwargs)\n"
     ]
    },
    {
     "data": {
      "image/png": "[encoded data removed]",
      "text/plain": [
       "<Figure size 432x288 with 1 Axes>"
      ]
     },
     "metadata": {
      "needs_background": "light"
     },
     "output_type": "display_data"
    }
   ],
   "source": [
    "#import data\n",
    "col_list = [\"Age\", \"ERA\"]\n",
    "dataset = pd.read_csv('PadresPitchers.csv', usecols=col_list)\n",
    "X = dataset.iloc[29:34, :-1].values\n",
    "y = dataset.iloc[29:34, -1].values\n",
    "\n",
    "y_train = y\n",
    "y_test = y\n",
    "X_test = X\n",
    "X_train = X\n",
    "\n",
    "#reshape y \n",
    "y = y.reshape(len(y),1)\n",
    "\n",
    "#Feature scaling the data\n",
    "from sklearn.preprocessing import StandardScaler\n",
    "sc_X = StandardScaler()\n",
    "sc_y = StandardScaler()\n",
    "X = sc_X.fit_transform(X)\n",
    "y = sc_y.fit_transform(y)\n",
    "\n",
    "#Train the SVR\n",
    "from sklearn.svm import SVR\n",
    "regressor = SVR(kernel = 'rbf')\n",
    "regressor.fit(X, y)\n",
    "\n",
    "#Predict a new result\n",
    "print(\"ERA for 2021: \", sc_y.inverse_transform(regressor.predict(sc_X.transform([[28]]))))\n",
    "\n",
    "y_pred = sc_y.inverse_transform(regressor.predict(sc_X.transform(X_test)))\n",
    "np.set_printoptions(precision=3)\n",
    "print(np.concatenate((y_pred.reshape(len(y_pred),1), y_test.reshape(len(y_test),1)),1))\n",
    "\n",
    "from sklearn.metrics import mean_squared_error\n",
    "print(\"MSE: \" , mean_squared_error(y_test, y_pred))\n",
    "\n",
    "from sklearn.metrics import r2_score\n",
    "print(\"R2 Score: \" , r2_score(y_test, y_pred))\n",
    "\n",
    "\n",
    "X_grid = np.arange(min(sc_X.inverse_transform(X)), max(sc_X.inverse_transform(X)), 0.1)\n",
    "X_grid = X_grid.reshape((len(X_grid), 1))\n",
    "plt.scatter(sc_X.inverse_transform(X), sc_y.inverse_transform(y), color = 'red')\n",
    "plt.plot(X_grid, sc_y.inverse_transform(regressor.predict(sc_X.transform(X_grid))), color = 'blue')\n",
    "plt.title('ERA (SVR)')\n",
    "plt.xlabel('Age')\n",
    "plt.ylabel('ERA')\n",
    "plt.show()"
   ]
  },
  {
   "cell_type": "code",
   "execution_count": 3,
   "metadata": {},
   "outputs": [
    {
     "name": "stdout",
     "output_type": "stream",
     "text": [
      "WHIP for 2021:  [1.229]\n",
      "[[1.215 1.21 ]\n",
      " [1.223 1.33 ]\n",
      " [1.203 1.18 ]\n",
      " [1.215 1.22 ]\n",
      " [1.235 1.24 ]]\n",
      "MSE:  0.002397305854113075\n",
      "R2 Score:  0.07225005645778992\n"
     ]
    },
    {
     "name": "stderr",
     "output_type": "stream",
     "text": [
      "/opt/anaconda3/lib/python3.8/site-packages/sklearn/utils/validation.py:63: DataConversionWarning: A column-vector y was passed when a 1d array was expected. Please change the shape of y to (n_samples, ), for example using ravel().\n",
      "  return f(*args, **kwargs)\n"
     ]
    },
    {
     "data": {
      "image/png": "[encoded data removed]",
      "text/plain": [
       "<Figure size 432x288 with 1 Axes>"
      ]
     },
     "metadata": {
      "needs_background": "light"
     },
     "output_type": "display_data"
    }
   ],
   "source": [
    "#import data\n",
    "col_list = [\"Age\", \"WHIP\"]\n",
    "dataset = pd.read_csv('PadresPitchers.csv', usecols=col_list)\n",
    "X = dataset.iloc[29:34, :-1].values\n",
    "y = dataset.iloc[29:34, -1].values\n",
    "y_train = y\n",
    "y_test = y\n",
    "X_test = X\n",
    "X_train = X\n",
    "\n",
    "#reshape y \n",
    "y = y.reshape(len(y),1)\n",
    "\n",
    "#Feature scaling the data\n",
    "from sklearn.preprocessing import StandardScaler\n",
    "sc_X = StandardScaler()\n",
    "sc_y = StandardScaler()\n",
    "X = sc_X.fit_transform(X)\n",
    "y = sc_y.fit_transform(y)\n",
    "\n",
    "#Train the SVR\n",
    "from sklearn.svm import SVR\n",
    "regressor = SVR(kernel = 'rbf')\n",
    "regressor.fit(X, y)\n",
    "\n",
    "#Predict a new result\n",
    "print(\"WHIP for 2021: \", sc_y.inverse_transform(regressor.predict(sc_X.transform([[28]]))))\n",
    "\n",
    "y_pred = sc_y.inverse_transform(regressor.predict(sc_X.transform(X_test)))\n",
    "np.set_printoptions(precision=3)\n",
    "print(np.concatenate((y_pred.reshape(len(y_pred),1), y_test.reshape(len(y_test),1)),1))\n",
    "\n",
    "from sklearn.metrics import mean_squared_error\n",
    "print(\"MSE: \" , mean_squared_error(y_test, y_pred))\n",
    "\n",
    "from sklearn.metrics import r2_score\n",
    "print(\"R2 Score: \" , r2_score(y_test, y_pred))\n",
    "\n",
    "\n",
    "X_grid = np.arange(min(sc_X.inverse_transform(X)), max(sc_X.inverse_transform(X)), 0.1)\n",
    "X_grid = X_grid.reshape((len(X_grid), 1))\n",
    "plt.scatter(sc_X.inverse_transform(X), sc_y.inverse_transform(y), color = 'red')\n",
    "plt.plot(X_grid, sc_y.inverse_transform(regressor.predict(sc_X.transform(X_grid))), color = 'blue')\n",
    "plt.title('WHIP (SVR)')\n",
    "plt.xlabel('Age')\n",
    "plt.ylabel('WHIP')\n",
    "plt.show()"
   ]
  },
  {
   "cell_type": "code",
   "execution_count": 4,
   "metadata": {},
   "outputs": [
    {
     "name": "stdout",
     "output_type": "stream",
     "text": [
      "AVG for 2021:  [0.238]\n",
      "[[0.251 0.249]\n",
      " [0.254 0.272]\n",
      " [0.25  0.248]\n",
      " [0.246 0.251]\n",
      " [0.238 0.223]]\n",
      "MSE:  0.00011733281607082067\n",
      "R2 Score:  0.5148328809509568\n"
     ]
    },
    {
     "name": "stderr",
     "output_type": "stream",
     "text": [
      "/opt/anaconda3/lib/python3.8/site-packages/sklearn/utils/validation.py:63: DataConversionWarning: A column-vector y was passed when a 1d array was expected. Please change the shape of y to (n_samples, ), for example using ravel().\n",
      "  return f(*args, **kwargs)\n"
     ]
    },
    {
     "data": {
      "image/png": "[encoded data removed]",
      "text/plain": [
       "<Figure size 432x288 with 1 Axes>"
      ]
     },
     "metadata": {
      "needs_background": "light"
     },
     "output_type": "display_data"
    }
   ],
   "source": [
    "#import data\n",
    "col_list = [\"Age\", \"AVG\"]\n",
    "dataset = pd.read_csv('PadresPitchers.csv', usecols=col_list)\n",
    "X = dataset.iloc[29:34, :-1].values\n",
    "y = dataset.iloc[29:34, -1].values\n",
    "y_train = y\n",
    "y_test = y\n",
    "X_test = X\n",
    "X_train = X\n",
    "\n",
    "#reshape y \n",
    "y = y.reshape(len(y),1)\n",
    "\n",
    "#Feature scaling the data\n",
    "from sklearn.preprocessing import StandardScaler\n",
    "sc_X = StandardScaler()\n",
    "sc_y = StandardScaler()\n",
    "X = sc_X.fit_transform(X)\n",
    "y = sc_y.fit_transform(y)\n",
    "\n",
    "#Train the SVR\n",
    "from sklearn.svm import SVR\n",
    "regressor = SVR(kernel = 'rbf')\n",
    "regressor.fit(X, y)\n",
    "\n",
    "#Predict a new result\n",
    "print(\"AVG for 2021: \", sc_y.inverse_transform(regressor.predict(sc_X.transform([[28]]))))\n",
    "\n",
    "y_pred = sc_y.inverse_transform(regressor.predict(sc_X.transform(X_test)))\n",
    "np.set_printoptions(precision=3)\n",
    "print(np.concatenate((y_pred.reshape(len(y_pred),1), y_test.reshape(len(y_test),1)),1))\n",
    "\n",
    "from sklearn.metrics import mean_squared_error\n",
    "print(\"MSE: \" , mean_squared_error(y_test, y_pred))\n",
    "\n",
    "from sklearn.metrics import r2_score\n",
    "print(\"R2 Score: \" , r2_score(y_test, y_pred))\n",
    "\n",
    "X_grid = np.arange(min(sc_X.inverse_transform(X)), max(sc_X.inverse_transform(X)), 0.1)\n",
    "X_grid = X_grid.reshape((len(X_grid), 1))\n",
    "plt.scatter(sc_X.inverse_transform(X), sc_y.inverse_transform(y), color = 'red')\n",
    "plt.plot(X_grid, sc_y.inverse_transform(regressor.predict(sc_X.transform(X_grid))), color = 'blue')\n",
    "plt.title('AVG (SVR)')\n",
    "plt.xlabel('Age')\n",
    "plt.ylabel('AVG')\n",
    "plt.show()"
   ]
  },
  {
   "cell_type": "code",
   "execution_count": 5,
   "metadata": {},
   "outputs": [
    {
     "name": "stdout",
     "output_type": "stream",
     "text": [
      "K/9 for 2021:  [9.582]\n",
      "[[ 8.158  7.98 ]\n",
      " [ 8.145  8.07 ]\n",
      " [ 7.978  7.8  ]\n",
      " [ 8.479  8.3  ]\n",
      " [ 9.716 12.48 ]]\n",
      "MSE:  1.5483288003651834\n",
      "R2 Score:  0.5136645071951113\n"
     ]
    },
    {
     "name": "stderr",
     "output_type": "stream",
     "text": [
      "/opt/anaconda3/lib/python3.8/site-packages/sklearn/utils/validation.py:63: DataConversionWarning: A column-vector y was passed when a 1d array was expected. Please change the shape of y to (n_samples, ), for example using ravel().\n",
      "  return f(*args, **kwargs)\n"
     ]
    },
    {
     "data": {
      "image/png": "[encoded data removed]",
      "text/plain": [
       "<Figure size 432x288 with 1 Axes>"
      ]
     },
     "metadata": {
      "needs_background": "light"
     },
     "output_type": "display_data"
    }
   ],
   "source": [
    "#import data\n",
    "col_list = [\"Age\", \"K/9\"]\n",
    "dataset = pd.read_csv('PadresPitchers.csv', usecols=col_list)\n",
    "X = dataset.iloc[29:34, :-1].values\n",
    "y = dataset.iloc[29:34, -1].values\n",
    "\n",
    "y_train = y\n",
    "y_test = y\n",
    "X_test = X\n",
    "X_train = X\n",
    "\n",
    "#reshape y \n",
    "y = y.reshape(len(y),1)\n",
    "\n",
    "#Feature scaling the data\n",
    "from sklearn.preprocessing import StandardScaler\n",
    "sc_X = StandardScaler()\n",
    "sc_y = StandardScaler()\n",
    "X = sc_X.fit_transform(X)\n",
    "y = sc_y.fit_transform(y)\n",
    "\n",
    "#Train the SVR\n",
    "from sklearn.svm import SVR\n",
    "regressor = SVR(kernel = 'rbf')\n",
    "regressor.fit(X, y)\n",
    "\n",
    "#Predict a new result\n",
    "print(\"K/9 for 2021: \", sc_y.inverse_transform(regressor.predict(sc_X.transform([[28]]))))\n",
    "\n",
    "y_pred = sc_y.inverse_transform(regressor.predict(sc_X.transform(X_test)))\n",
    "np.set_printoptions(precision=3)\n",
    "print(np.concatenate((y_pred.reshape(len(y_pred),1), y_test.reshape(len(y_test),1)),1))\n",
    "\n",
    "from sklearn.metrics import mean_squared_error\n",
    "print(\"MSE: \" , mean_squared_error(y_test, y_pred))\n",
    "\n",
    "from sklearn.metrics import r2_score\n",
    "print(\"R2 Score: \" , r2_score(y_test, y_pred))\n",
    "\n",
    "\n",
    "X_grid = np.arange(min(sc_X.inverse_transform(X)), max(sc_X.inverse_transform(X)), 0.1)\n",
    "X_grid = X_grid.reshape((len(X_grid), 1))\n",
    "plt.scatter(sc_X.inverse_transform(X), sc_y.inverse_transform(y), color = 'red')\n",
    "plt.plot(X_grid, sc_y.inverse_transform(regressor.predict(sc_X.transform(X_grid))), color = 'blue')\n",
    "plt.title('K/9 (SVR)')\n",
    "plt.xlabel('Age')\n",
    "plt.ylabel('K/9')\n",
    "plt.show()"
   ]
  },
  {
   "cell_type": "code",
   "execution_count": 6,
   "metadata": {},
   "outputs": [
    {
     "name": "stdout",
     "output_type": "stream",
     "text": [
      " BB/9 for 2021:  [2.685]\n",
      "[[2.384 2.32 ]\n",
      " [2.236 2.3  ]\n",
      " [1.853 1.79 ]\n",
      " [2.123 2.06 ]\n",
      " [2.727 3.63 ]]\n",
      "MSE:  0.16648787099372325\n",
      "R2 Score:  0.5868787320255006\n"
     ]
    },
    {
     "name": "stderr",
     "output_type": "stream",
     "text": [
      "/opt/anaconda3/lib/python3.8/site-packages/sklearn/utils/validation.py:63: DataConversionWarning: A column-vector y was passed when a 1d array was expected. Please change the shape of y to (n_samples, ), for example using ravel().\n",
      "  return f(*args, **kwargs)\n"
     ]
    },
    {
     "data": {
      "image/png": "[encoded data removed]",
      "text/plain": [
       "<Figure size 432x288 with 1 Axes>"
      ]
     },
     "metadata": {
      "needs_background": "light"
     },
     "output_type": "display_data"
    }
   ],
   "source": [
    "#import data\n",
    "col_list = [\"Age\", \"BB/9\"]\n",
    "dataset = pd.read_csv('PadresPitchers.csv', usecols=col_list)\n",
    "X = dataset.iloc[29:34, :-1].values\n",
    "y = dataset.iloc[29:34, -1].values\n",
    "\n",
    "y_train = y\n",
    "y_test = y\n",
    "X_test = X\n",
    "X_train = X\n",
    "\n",
    "#reshape y \n",
    "y = y.reshape(len(y),1)\n",
    "\n",
    "#Feature scaling the data\n",
    "from sklearn.preprocessing import StandardScaler\n",
    "sc_X = StandardScaler()\n",
    "sc_y = StandardScaler()\n",
    "X = sc_X.fit_transform(X)\n",
    "y = sc_y.fit_transform(y)\n",
    "\n",
    "#Train the SVR\n",
    "from sklearn.svm import SVR\n",
    "regressor = SVR(kernel = 'rbf')\n",
    "regressor.fit(X, y)\n",
    "\n",
    "#Predict a new result\n",
    "print(\" BB/9 for 2021: \", sc_y.inverse_transform(regressor.predict(sc_X.transform([[28]]))))\n",
    "\n",
    "\n",
    "y_pred = sc_y.inverse_transform(regressor.predict(sc_X.transform(X_test)))\n",
    "np.set_printoptions(precision=3)\n",
    "print(np.concatenate((y_pred.reshape(len(y_pred),1), y_test.reshape(len(y_test),1)),1))\n",
    "\n",
    "from sklearn.metrics import mean_squared_error\n",
    "print(\"MSE: \" , mean_squared_error(y_test, y_pred))\n",
    "\n",
    "from sklearn.metrics import r2_score\n",
    "print(\"R2 Score: \" , r2_score(y_test, y_pred))\n",
    "\n",
    "\n",
    "X_grid = np.arange(min(sc_X.inverse_transform(X)), max(sc_X.inverse_transform(X)), 0.1)\n",
    "X_grid = X_grid.reshape((len(X_grid), 1))\n",
    "plt.scatter(sc_X.inverse_transform(X), sc_y.inverse_transform(y), color = 'red')\n",
    "plt.plot(X_grid, sc_y.inverse_transform(regressor.predict(sc_X.transform(X_grid))), color = 'blue')\n",
    "plt.title('BB/9 (SVR)')\n",
    "plt.xlabel('Age')\n",
    "plt.ylabel('BB/9')\n",
    "plt.show()"
   ]
  },
  {
   "cell_type": "code",
   "execution_count": 7,
   "metadata": {},
   "outputs": [
    {
     "name": "stdout",
     "output_type": "stream",
     "text": [
      " ADJ_IP for 2021:  [99.769]\n",
      "[[ 84.282  62.   ]\n",
      " [105.639 109.1  ]\n",
      " [118.553 115.1  ]\n",
      " [123.24  170.1  ]\n",
      " [109.293 105.84 ]]\n",
      "MSE:  545.6275715586987\n",
      "R2 Score:  0.5399941987914751\n"
     ]
    },
    {
     "name": "stderr",
     "output_type": "stream",
     "text": [
      "/opt/anaconda3/lib/python3.8/site-packages/sklearn/utils/validation.py:63: DataConversionWarning: A column-vector y was passed when a 1d array was expected. Please change the shape of y to (n_samples, ), for example using ravel().\n",
      "  return f(*args, **kwargs)\n"
     ]
    },
    {
     "data": {
      "image/png": "[encoded data removed]",
      "text/plain": [
       "<Figure size 432x288 with 1 Axes>"
      ]
     },
     "metadata": {
      "needs_background": "light"
     },
     "output_type": "display_data"
    }
   ],
   "source": [
    "#import data\n",
    "col_list = [\"Age\", \"ADJ_IP\"]\n",
    "dataset = pd.read_csv('PadresPitchers.csv', usecols=col_list)\n",
    "X = dataset.iloc[29:34, :-1].values\n",
    "y = dataset.iloc[29:34, -1].values\n",
    "\n",
    "y_train = y\n",
    "y_test = y\n",
    "X_test = X\n",
    "X_train = X\n",
    "\n",
    "#reshape y \n",
    "y = y.reshape(len(y),1)\n",
    "\n",
    "#Feature scaling the data\n",
    "from sklearn.preprocessing import StandardScaler\n",
    "sc_X = StandardScaler()\n",
    "sc_y = StandardScaler()\n",
    "X = sc_X.fit_transform(X)\n",
    "y = sc_y.fit_transform(y)\n",
    "\n",
    "#Train the SVR\n",
    "from sklearn.svm import SVR\n",
    "regressor = SVR(kernel = 'rbf')\n",
    "regressor.fit(X, y)\n",
    "\n",
    "#Predict a new result\n",
    "print(\" ADJ_IP for 2021: \", sc_y.inverse_transform(regressor.predict(sc_X.transform([[28]]))))\n",
    "\n",
    "\n",
    "y_pred = sc_y.inverse_transform(regressor.predict(sc_X.transform(X_test)))\n",
    "np.set_printoptions(precision=3)\n",
    "print(np.concatenate((y_pred.reshape(len(y_pred),1), y_test.reshape(len(y_test),1)),1))\n",
    "\n",
    "from sklearn.metrics import mean_squared_error\n",
    "print(\"MSE: \" , mean_squared_error(y_test, y_pred))\n",
    "\n",
    "from sklearn.metrics import r2_score\n",
    "print(\"R2 Score: \" , r2_score(y_test, y_pred))\n",
    "\n",
    "\n",
    "X_grid = np.arange(min(sc_X.inverse_transform(X)), max(sc_X.inverse_transform(X)), 0.1)\n",
    "X_grid = X_grid.reshape((len(X_grid), 1))\n",
    "plt.scatter(sc_X.inverse_transform(X), sc_y.inverse_transform(y), color = 'red')\n",
    "plt.plot(X_grid, sc_y.inverse_transform(regressor.predict(sc_X.transform(X_grid))), color = 'blue')\n",
    "plt.title('ADJ_IP (SVR)')\n",
    "plt.xlabel('Age')\n",
    "plt.ylabel('ADJ_IP')\n",
    "plt.show()"
   ]
  },
  {
   "cell_type": "code",
   "execution_count": 8,
   "metadata": {},
   "outputs": [
    {
     "name": "stdout",
     "output_type": "stream",
     "text": [
      " ADJ_GS for 2021:  [17.935]\n",
      "[[10.777 10.   ]\n",
      " [14.297 15.   ]\n",
      " [19.703 19.   ]\n",
      " [23.223 31.   ]\n",
      " [21.07  21.6  ]]\n",
      "MSE:  12.47066959425063\n",
      "R2 Score:  0.7478105061668723\n"
     ]
    },
    {
     "name": "stderr",
     "output_type": "stream",
     "text": [
      "/opt/anaconda3/lib/python3.8/site-packages/sklearn/utils/validation.py:63: DataConversionWarning: A column-vector y was passed when a 1d array was expected. Please change the shape of y to (n_samples, ), for example using ravel().\n",
      "  return f(*args, **kwargs)\n"
     ]
    },
    {
     "data": {
      "image/png": "[encoded data removed]",
      "text/plain": [
       "<Figure size 432x288 with 1 Axes>"
      ]
     },
     "metadata": {
      "needs_background": "light"
     },
     "output_type": "display_data"
    }
   ],
   "source": [
    "#import data\n",
    "col_list = [\"Age\", \"ADJ_GS\"]\n",
    "dataset = pd.read_csv('PadresPitchers.csv', usecols=col_list)\n",
    "X = dataset.iloc[29:34, :-1].values\n",
    "y = dataset.iloc[29:34, -1].values\n",
    "y_train = y\n",
    "y_test = y\n",
    "X_test = X\n",
    "X_train = X\n",
    "\n",
    "#reshape y \n",
    "y = y.reshape(len(y),1)\n",
    "\n",
    "#Feature scaling the data\n",
    "from sklearn.preprocessing import StandardScaler\n",
    "sc_X = StandardScaler()\n",
    "sc_y = StandardScaler()\n",
    "X = sc_X.fit_transform(X)\n",
    "y = sc_y.fit_transform(y)\n",
    "\n",
    "#Train the SVR\n",
    "from sklearn.svm import SVR\n",
    "regressor = SVR(kernel = 'rbf')\n",
    "regressor.fit(X, y)\n",
    "\n",
    "#Predict a new result\n",
    "print(\" ADJ_GS for 2021: \", sc_y.inverse_transform(regressor.predict(sc_X.transform([[28]]))))\n",
    "\n",
    "\n",
    "y_pred = sc_y.inverse_transform(regressor.predict(sc_X.transform(X_test)))\n",
    "np.set_printoptions(precision=3)\n",
    "print(np.concatenate((y_pred.reshape(len(y_pred),1), y_test.reshape(len(y_test),1)),1))\n",
    "\n",
    "from sklearn.metrics import mean_squared_error\n",
    "print(\"MSE: \" , mean_squared_error(y_test, y_pred))\n",
    "\n",
    "from sklearn.metrics import r2_score\n",
    "print(\"R2 Score: \" , r2_score(y_test, y_pred))\n",
    "\n",
    "\n",
    "X_grid = np.arange(min(sc_X.inverse_transform(X)), max(sc_X.inverse_transform(X)), 0.1)\n",
    "X_grid = X_grid.reshape((len(X_grid), 1))\n",
    "plt.scatter(sc_X.inverse_transform(X), sc_y.inverse_transform(y), color = 'red')\n",
    "plt.plot(X_grid, sc_y.inverse_transform(regressor.predict(sc_X.transform(X_grid))), color = 'blue')\n",
    "plt.title('ADJ_GS (SVR)')\n",
    "plt.xlabel('Age')\n",
    "plt.ylabel('ADJ_GS')\n",
    "plt.show()"
   ]
  },
  {
   "cell_type": "code",
   "execution_count": null,
   "metadata": {},
   "outputs": [],
   "source": []
  }
 ],
 "metadata": {
  "kernelspec": {
   "display_name": "Python 3",
   "language": "python",
   "name": "python3"
  },
  "language_info": {
   "codemirror_mode": {
    "name": "ipython",
    "version": 3
   },
   "file_extension": ".py",
   "mimetype": "text/x-python",
   "name": "python",
   "nbconvert_exporter": "python",
   "pygments_lexer": "ipython3",
   "version": "3.8.3"
  }
 },
 "nbformat": 4,
 "nbformat_minor": 4
}
