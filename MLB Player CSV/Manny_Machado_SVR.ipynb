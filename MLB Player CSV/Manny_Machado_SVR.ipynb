{
 "cells": [
  {
   "cell_type": "code",
   "execution_count": 18,
   "metadata": {},
   "outputs": [
    {
     "name": "stdout",
     "output_type": "stream",
     "text": [
      "[[19]\n",
      " [20]\n",
      " [21]\n",
      " [22]\n",
      " [23]\n",
      " [24]\n",
      " [25]\n",
      " [26]\n",
      " [27]]\n"
     ]
    }
   ],
   "source": [
    "#import packages\n",
    "import numpy as np\n",
    "import matplotlib.pyplot as plt\n",
    "import pandas as pd\n",
    "\n",
    "#import data\n",
    "col_list = [\"Age\", \"AVG\"]\n",
    "dataset = pd.read_csv('PadresBatters.csv', usecols=col_list)\n",
    "X = dataset.iloc[21:30, :-1].values\n",
    "y = dataset.iloc[21:30, -1].values\n",
    "\n",
    "print(X)"
   ]
  },
  {
   "cell_type": "code",
   "execution_count": 19,
   "metadata": {},
   "outputs": [
    {
     "name": "stdout",
     "output_type": "stream",
     "text": [
      "Batting AVG for 2021:  [0.295]\n",
      "[[0.277 0.262]\n",
      " [0.278 0.283]\n",
      " [0.282 0.278]\n",
      " [0.286 0.286]\n",
      " [0.289 0.294]\n",
      " [0.291 0.259]\n",
      " [0.292 0.297]\n",
      " [0.294 0.256]\n",
      " [0.296 0.304]]\n",
      "MSE:  0.00031546387971810656\n",
      "R2 Score:  -0.15842661425182025\n"
     ]
    },
    {
     "name": "stderr",
     "output_type": "stream",
     "text": [
      "/opt/anaconda3/lib/python3.8/site-packages/sklearn/utils/validation.py:63: DataConversionWarning: A column-vector y was passed when a 1d array was expected. Please change the shape of y to (n_samples, ), for example using ravel().\n",
      "  return f(*args, **kwargs)\n"
     ]
    },
    {
     "data": {
      "image/png": "[encoded data removed]",
      "text/plain": [
       "<Figure size 432x288 with 1 Axes>"
      ]
     },
     "metadata": {
      "needs_background": "light"
     },
     "output_type": "display_data"
    }
   ],
   "source": [
    "y_train = y\n",
    "y_test = y\n",
    "X_test = X\n",
    "X_train = X\n",
    "\n",
    "#reshape y \n",
    "y = y.reshape(len(y),1)\n",
    "\n",
    "#Feature scaling the data\n",
    "from sklearn.preprocessing import StandardScaler\n",
    "sc_X = StandardScaler()\n",
    "sc_y = StandardScaler()\n",
    "X = sc_X.fit_transform(X)\n",
    "y = sc_y.fit_transform(y)\n",
    "\n",
    "#Train the SVR\n",
    "from sklearn.svm import SVR\n",
    "regressor = SVR(kernel = 'rbf')\n",
    "regressor.fit(X, y)\n",
    "\n",
    "#Predict a new result\n",
    "print(\"Batting AVG for 2021: \", sc_y.inverse_transform(regressor.predict(sc_X.transform([[28]]))))\n",
    "\n",
    "y_pred = sc_y.inverse_transform(regressor.predict(sc_X.transform(X_test)))\n",
    "np.set_printoptions(precision=3)\n",
    "print(np.concatenate((y_pred.reshape(len(y_pred),1), y_test.reshape(len(y_test),1)),1))\n",
    "\n",
    "from sklearn.metrics import mean_squared_error\n",
    "print(\"MSE: \" , mean_squared_error(y_test, y_pred))\n",
    "\n",
    "from sklearn.metrics import r2_score\n",
    "print(\"R2 Score: \" , r2_score(y_test, y_pred))\n",
    "\n",
    "\n",
    "X_grid = np.arange(min(sc_X.inverse_transform(X)), max(sc_X.inverse_transform(X)), 0.1)\n",
    "X_grid = X_grid.reshape((len(X_grid), 1))\n",
    "plt.scatter(sc_X.inverse_transform(X), sc_y.inverse_transform(y), color = 'red')\n",
    "plt.plot(X_grid, sc_y.inverse_transform(regressor.predict(sc_X.transform(X_grid))), color = 'blue')\n",
    "plt.title('Manny Machado AVG (SVR)')\n",
    "plt.xlabel('Age')\n",
    "plt.ylabel('AVG')\n",
    "plt.show()"
   ]
  },
  {
   "cell_type": "code",
   "execution_count": 20,
   "metadata": {},
   "outputs": [
    {
     "name": "stdout",
     "output_type": "stream",
     "text": [
      "SLG for 2021:  [0.518]\n",
      "[[0.44  0.445]\n",
      " [0.437 0.432]\n",
      " [0.461 0.431]\n",
      " [0.497 0.502]\n",
      " [0.521 0.533]\n",
      " [0.524 0.471]\n",
      " [0.519 0.538]\n",
      " [0.518 0.462]\n",
      " [0.52  0.58 ]]\n",
      "MSE:  0.001223005430481112\n",
      "R2 Score:  0.5082528847121388\n"
     ]
    },
    {
     "name": "stderr",
     "output_type": "stream",
     "text": [
      "/opt/anaconda3/lib/python3.8/site-packages/sklearn/utils/validation.py:63: DataConversionWarning: A column-vector y was passed when a 1d array was expected. Please change the shape of y to (n_samples, ), for example using ravel().\n",
      "  return f(*args, **kwargs)\n"
     ]
    },
    {
     "data": {
      "image/png": "[encoded data removed]",
      "text/plain": [
       "<Figure size 432x288 with 1 Axes>"
      ]
     },
     "metadata": {
      "needs_background": "light"
     },
     "output_type": "display_data"
    }
   ],
   "source": [
    "#import data\n",
    "col_list = [\"Age\", \"SLG\"]\n",
    "dataset = pd.read_csv('PadresBatters.csv', usecols=col_list)\n",
    "X = dataset.iloc[21:30, :-1].values\n",
    "y = dataset.iloc[21:30, -1].values\n",
    "y_train = y\n",
    "y_test = y\n",
    "X_test = X\n",
    "X_train = X\n",
    "\n",
    "#reshape y \n",
    "y = y.reshape(len(y),1)\n",
    "\n",
    "#Feature scaling the data\n",
    "from sklearn.preprocessing import StandardScaler\n",
    "sc_X = StandardScaler()\n",
    "sc_y = StandardScaler()\n",
    "X = sc_X.fit_transform(X)\n",
    "y = sc_y.fit_transform(y)\n",
    "\n",
    "#Train the SVR\n",
    "from sklearn.svm import SVR\n",
    "regressor = SVR(kernel = 'rbf')\n",
    "regressor.fit(X, y)\n",
    "\n",
    "#Predict a new result\n",
    "print(\"SLG for 2021: \", sc_y.inverse_transform(regressor.predict(sc_X.transform([[28]]))))\n",
    "\n",
    "y_pred = sc_y.inverse_transform(regressor.predict(sc_X.transform(X_test)))\n",
    "np.set_printoptions(precision=3)\n",
    "print(np.concatenate((y_pred.reshape(len(y_pred),1), y_test.reshape(len(y_test),1)),1))\n",
    "\n",
    "from sklearn.metrics import mean_squared_error\n",
    "print(\"MSE: \" , mean_squared_error(y_test, y_pred))\n",
    "\n",
    "from sklearn.metrics import r2_score\n",
    "print(\"R2 Score: \" , r2_score(y_test, y_pred))\n",
    "\n",
    "X_grid = np.arange(min(sc_X.inverse_transform(X)), max(sc_X.inverse_transform(X)), 0.1)\n",
    "X_grid = X_grid.reshape((len(X_grid), 1))\n",
    "plt.scatter(sc_X.inverse_transform(X), sc_y.inverse_transform(y), color = 'red')\n",
    "plt.plot(X_grid, sc_y.inverse_transform(regressor.predict(sc_X.transform(X_grid))), color = 'blue')\n",
    "plt.title('Manny Machado SLG (SVR)')\n",
    "plt.xlabel('Age')\n",
    "plt.ylabel('SLG')\n",
    "plt.show()"
   ]
  },
  {
   "cell_type": "code",
   "execution_count": 21,
   "metadata": {},
   "outputs": [
    {
     "name": "stdout",
     "output_type": "stream",
     "text": [
      "OBP for 2021:  [0.341]\n",
      "[[0.304 0.294]\n",
      " [0.312 0.314]\n",
      " [0.327 0.324]\n",
      " [0.338 0.359]\n",
      " [0.34  0.343]\n",
      " [0.337 0.31 ]\n",
      " [0.335 0.367]\n",
      " [0.337 0.334]\n",
      " [0.341 0.37 ]]\n",
      "MSE:  0.00035328388548799356\n",
      "R2 Score:  0.4478021935755574\n"
     ]
    },
    {
     "name": "stderr",
     "output_type": "stream",
     "text": [
      "/opt/anaconda3/lib/python3.8/site-packages/sklearn/utils/validation.py:63: DataConversionWarning: A column-vector y was passed when a 1d array was expected. Please change the shape of y to (n_samples, ), for example using ravel().\n",
      "  return f(*args, **kwargs)\n"
     ]
    },
    {
     "data": {
      "image/png": "[encoded data removed]",
      "text/plain": [
       "<Figure size 432x288 with 1 Axes>"
      ]
     },
     "metadata": {
      "needs_background": "light"
     },
     "output_type": "display_data"
    }
   ],
   "source": [
    "#import data\n",
    "col_list = [\"Age\", \"OBP\"]\n",
    "dataset = pd.read_csv('PadresBatters.csv', usecols=col_list)\n",
    "X = dataset.iloc[21:30, :-1].values\n",
    "y = dataset.iloc[21:30, -1].values\n",
    "\n",
    "y_train = y\n",
    "y_test = y\n",
    "X_test = X\n",
    "X_train = X\n",
    "\n",
    "#reshape y \n",
    "y = y.reshape(len(y),1)\n",
    "\n",
    "#Feature scaling the data\n",
    "from sklearn.preprocessing import StandardScaler\n",
    "sc_X = StandardScaler()\n",
    "sc_y = StandardScaler()\n",
    "X = sc_X.fit_transform(X)\n",
    "y = sc_y.fit_transform(y)\n",
    "\n",
    "#Train the SVR\n",
    "from sklearn.svm import SVR\n",
    "regressor = SVR(kernel = 'rbf')\n",
    "regressor.fit(X, y)\n",
    "\n",
    "#Predict a new result\n",
    "print(\"OBP for 2021: \", sc_y.inverse_transform(regressor.predict(sc_X.transform([[28]]))))\n",
    "\n",
    "y_pred = sc_y.inverse_transform(regressor.predict(sc_X.transform(X_test)))\n",
    "np.set_printoptions(precision=3)\n",
    "print(np.concatenate((y_pred.reshape(len(y_pred),1), y_test.reshape(len(y_test),1)),1))\n",
    "\n",
    "from sklearn.metrics import mean_squared_error\n",
    "print(\"MSE: \" , mean_squared_error(y_test, y_pred))\n",
    "\n",
    "from sklearn.metrics import r2_score\n",
    "print(\"R2 Score: \" , r2_score(y_test, y_pred))\n",
    "\n",
    "X_grid = np.arange(min(sc_X.inverse_transform(X)), max(sc_X.inverse_transform(X)), 0.1)\n",
    "X_grid = X_grid.reshape((len(X_grid), 1))\n",
    "plt.scatter(sc_X.inverse_transform(X), sc_y.inverse_transform(y), color = 'red')\n",
    "plt.plot(X_grid, sc_y.inverse_transform(regressor.predict(sc_X.transform(X_grid))), color = 'blue')\n",
    "plt.title('Manny Machado OBP (SVR)')\n",
    "plt.xlabel('Age')\n",
    "plt.ylabel('OBP')\n",
    "plt.show()"
   ]
  },
  {
   "cell_type": "code",
   "execution_count": 7,
   "metadata": {},
   "outputs": [
    {
     "name": "stdout",
     "output_type": "stream",
     "text": [
      "OPS for 2021:  [0.862]\n",
      "[[0.746 0.739]\n",
      " [0.753 0.746]\n",
      " [0.792 0.755]\n",
      " [0.841 0.861]\n",
      " [0.869 0.876]\n",
      " [0.869 0.782]\n",
      " [0.861 0.905]\n",
      " [0.86  0.796]\n",
      " [0.864 0.95 ]]\n",
      "MSE:  0.0025561283558650223\n",
      "R2 Score:  0.5118165859692467\n"
     ]
    },
    {
     "name": "stderr",
     "output_type": "stream",
     "text": [
      "/opt/anaconda3/lib/python3.8/site-packages/sklearn/utils/validation.py:63: DataConversionWarning: A column-vector y was passed when a 1d array was expected. Please change the shape of y to (n_samples, ), for example using ravel().\n",
      "  return f(*args, **kwargs)\n"
     ]
    },
    {
     "data": {
      "image/png": "[encoded data removed]",
      "text/plain": [
       "<Figure size 432x288 with 1 Axes>"
      ]
     },
     "metadata": {
      "needs_background": "light"
     },
     "output_type": "display_data"
    }
   ],
   "source": [
    "#import data\n",
    "col_list = [\"Age\", \"OPS\"]\n",
    "dataset = pd.read_csv('PadresBatters.csv', usecols=col_list)\n",
    "X = dataset.iloc[21:30, :-1].values\n",
    "y = dataset.iloc[21:30, -1].values\n",
    "\n",
    "y_train = y\n",
    "y_test = y\n",
    "X_test = X\n",
    "X_train = X\n",
    "\n",
    "#reshape y \n",
    "y = y.reshape(len(y),1)\n",
    "\n",
    "#Feature scaling the data\n",
    "from sklearn.preprocessing import StandardScaler\n",
    "sc_X = StandardScaler()\n",
    "sc_y = StandardScaler()\n",
    "X = sc_X.fit_transform(X)\n",
    "y = sc_y.fit_transform(y)\n",
    "\n",
    "#Train the SVR\n",
    "from sklearn.svm import SVR\n",
    "regressor = SVR(kernel = 'rbf')\n",
    "regressor.fit(X, y)\n",
    "\n",
    "#Predict a new result\n",
    "print(\"OPS for 2021: \", sc_y.inverse_transform(regressor.predict(sc_X.transform([[28]]))))\n",
    "\n",
    "y_pred = sc_y.inverse_transform(regressor.predict(sc_X.transform(X_test)))\n",
    "np.set_printoptions(precision=3)\n",
    "print(np.concatenate((y_pred.reshape(len(y_pred),1), y_test.reshape(len(y_test),1)),1))\n",
    "\n",
    "from sklearn.metrics import mean_squared_error\n",
    "print(\"MSE: \" , mean_squared_error(y_test, y_pred))\n",
    "\n",
    "from sklearn.metrics import r2_score\n",
    "print(\"R2 Score: \" , r2_score(y_test, y_pred))\n",
    "\n",
    "\n",
    "X_grid = np.arange(min(sc_X.inverse_transform(X)), max(sc_X.inverse_transform(X)), 0.1)\n",
    "X_grid = X_grid.reshape((len(X_grid), 1))\n",
    "plt.scatter(sc_X.inverse_transform(X), sc_y.inverse_transform(y), color = 'red')\n",
    "plt.plot(X_grid, sc_y.inverse_transform(regressor.predict(sc_X.transform(X_grid))), color = 'blue')\n",
    "plt.title('Manny Machado OPS (SVR)')\n",
    "plt.xlabel('Age')\n",
    "plt.ylabel('OPS')\n",
    "plt.show()"
   ]
  },
  {
   "cell_type": "code",
   "execution_count": 8,
   "metadata": {},
   "outputs": [
    {
     "name": "stdout",
     "output_type": "stream",
     "text": [
      " %G for 2021:  [0.991]\n",
      "[[0.985 1.   ]\n",
      " [0.969 0.963]\n",
      " [0.967 0.506]\n",
      " [0.977 1.   ]\n",
      " [0.982 0.969]\n",
      " [0.978 0.963]\n",
      " [0.975 1.   ]\n",
      " [0.978 0.963]\n",
      " [0.985 1.   ]]\n",
      "MSE:  0.023841356458871223\n",
      "R2 Score:  -0.05173689264298642\n"
     ]
    },
    {
     "name": "stderr",
     "output_type": "stream",
     "text": [
      "/opt/anaconda3/lib/python3.8/site-packages/sklearn/utils/validation.py:63: DataConversionWarning: A column-vector y was passed when a 1d array was expected. Please change the shape of y to (n_samples, ), for example using ravel().\n",
      "  return f(*args, **kwargs)\n"
     ]
    },
    {
     "data": {
      "image/png": "[encoded data removed]",
      "text/plain": [
       "<Figure size 432x288 with 1 Axes>"
      ]
     },
     "metadata": {
      "needs_background": "light"
     },
     "output_type": "display_data"
    }
   ],
   "source": [
    "#import data\n",
    "col_list = [\"Age\", \"%G\"]\n",
    "dataset = pd.read_csv('PadresBatters.csv', usecols=col_list)\n",
    "X = dataset.iloc[21:30, :-1].values\n",
    "y = dataset.iloc[21:30, -1].values\n",
    "\n",
    "y_train = y\n",
    "y_test = y\n",
    "X_test = X\n",
    "X_train = X\n",
    "\n",
    "#reshape y \n",
    "y = y.reshape(len(y),1)\n",
    "\n",
    "#Feature scaling the data\n",
    "from sklearn.preprocessing import StandardScaler\n",
    "sc_X = StandardScaler()\n",
    "sc_y = StandardScaler()\n",
    "X = sc_X.fit_transform(X)\n",
    "y = sc_y.fit_transform(y)\n",
    "\n",
    "#Train the SVR\n",
    "from sklearn.svm import SVR\n",
    "regressor = SVR(kernel = 'rbf')\n",
    "regressor.fit(X, y)\n",
    "\n",
    "#Predict a new result\n",
    "print(\" %G for 2021: \", sc_y.inverse_transform(regressor.predict(sc_X.transform([[28]]))))\n",
    "\n",
    "\n",
    "y_pred = sc_y.inverse_transform(regressor.predict(sc_X.transform(X_test)))\n",
    "np.set_printoptions(precision=3)\n",
    "print(np.concatenate((y_pred.reshape(len(y_pred),1), y_test.reshape(len(y_test),1)),1))\n",
    "\n",
    "from sklearn.metrics import mean_squared_error\n",
    "print(\"MSE: \" , mean_squared_error(y_test, y_pred))\n",
    "\n",
    "from sklearn.metrics import r2_score\n",
    "print(\"R2 Score: \" , r2_score(y_test, y_pred))\n",
    "\n",
    "\n",
    "X_grid = np.arange(min(sc_X.inverse_transform(X)), max(sc_X.inverse_transform(X)), 0.1)\n",
    "X_grid = X_grid.reshape((len(X_grid), 1))\n",
    "plt.scatter(sc_X.inverse_transform(X), sc_y.inverse_transform(y), color = 'red')\n",
    "plt.plot(X_grid, sc_y.inverse_transform(regressor.predict(sc_X.transform(X_grid))), color = 'blue')\n",
    "plt.title('Manny Machado %G (SVR)')\n",
    "plt.xlabel('Age')\n",
    "plt.ylabel('%G')\n",
    "plt.show()"
   ]
  },
  {
   "cell_type": "code",
   "execution_count": 36,
   "metadata": {},
   "outputs": [
    {
     "name": "stdout",
     "output_type": "stream",
     "text": [
      "160.38 Games Played\n"
     ]
    }
   ],
   "source": [
    "print(.99 * 162, \"Games Played\")"
   ]
  },
  {
   "cell_type": "code",
   "execution_count": 9,
   "metadata": {},
   "outputs": [
    {
     "name": "stdout",
     "output_type": "stream",
     "text": [
      " PA/G for 2021:  [4.249]\n",
      "[[4.239 3.961]\n",
      " [4.279 4.551]\n",
      " [4.333 4.317]\n",
      " [4.385 4.401]\n",
      " [4.417 4.433]\n",
      " [4.409 4.423]\n",
      " [4.356 4.377]\n",
      " [4.289 4.237]\n",
      " [4.249 4.233]]\n",
      "MSE:  0.017336193669090543\n",
      "R2 Score:  0.3210488128271318\n"
     ]
    },
    {
     "name": "stderr",
     "output_type": "stream",
     "text": [
      "/opt/anaconda3/lib/python3.8/site-packages/sklearn/utils/validation.py:63: DataConversionWarning: A column-vector y was passed when a 1d array was expected. Please change the shape of y to (n_samples, ), for example using ravel().\n",
      "  return f(*args, **kwargs)\n"
     ]
    },
    {
     "data": {
      "image/png": "[encoded data removed]",
      "text/plain": [
       "<Figure size 432x288 with 1 Axes>"
      ]
     },
     "metadata": {
      "needs_background": "light"
     },
     "output_type": "display_data"
    }
   ],
   "source": [
    "#import data\n",
    "col_list = [\"Age\", \"PA/G\"]\n",
    "dataset = pd.read_csv('PadresBatters.csv', usecols=col_list)\n",
    "X = dataset.iloc[21:30, :-1].values\n",
    "y = dataset.iloc[21:30, -1].values\n",
    "\n",
    "y_train = y\n",
    "y_test = y\n",
    "X_test = X\n",
    "X_train = X\n",
    "\n",
    "#reshape y \n",
    "y = y.reshape(len(y),1)\n",
    "\n",
    "#Feature scaling the data\n",
    "from sklearn.preprocessing import StandardScaler\n",
    "sc_X = StandardScaler()\n",
    "sc_y = StandardScaler()\n",
    "X = sc_X.fit_transform(X)\n",
    "y = sc_y.fit_transform(y)\n",
    "\n",
    "#Train the SVR\n",
    "from sklearn.svm import SVR\n",
    "regressor = SVR(kernel = 'rbf')\n",
    "regressor.fit(X, y)\n",
    "\n",
    "#Predict a new result\n",
    "print(\" PA/G for 2021: \", sc_y.inverse_transform(regressor.predict(sc_X.transform([[28]]))))\n",
    "\n",
    "\n",
    "y_pred = sc_y.inverse_transform(regressor.predict(sc_X.transform(X_test)))\n",
    "np.set_printoptions(precision=3)\n",
    "print(np.concatenate((y_pred.reshape(len(y_pred),1), y_test.reshape(len(y_test),1)),1))\n",
    "\n",
    "from sklearn.metrics import mean_squared_error\n",
    "print(\"MSE: \" , mean_squared_error(y_test, y_pred))\n",
    "\n",
    "from sklearn.metrics import r2_score\n",
    "print(\"R2 Score: \" , r2_score(y_test, y_pred))\n",
    "\n",
    "\n",
    "X_grid = np.arange(min(sc_X.inverse_transform(X)), max(sc_X.inverse_transform(X)), 0.1)\n",
    "X_grid = X_grid.reshape((len(X_grid), 1))\n",
    "plt.scatter(sc_X.inverse_transform(X), sc_y.inverse_transform(y), color = 'red')\n",
    "plt.plot(X_grid, sc_y.inverse_transform(regressor.predict(sc_X.transform(X_grid))), color = 'blue')\n",
    "plt.title('Manny Machado PA/G (SVR)')\n",
    "plt.xlabel('Age')\n",
    "plt.ylabel('PA/G')\n",
    "plt.show()"
   ]
  },
  {
   "cell_type": "code",
   "execution_count": 13,
   "metadata": {},
   "outputs": [
    {
     "name": "stdout",
     "output_type": "stream",
     "text": [
      "681.44 PA\n"
     ]
    }
   ],
   "source": [
    "print(4.259 * 160, \"PA\")"
   ]
  },
  {
   "cell_type": "code",
   "execution_count": 10,
   "metadata": {},
   "outputs": [
    {
     "name": "stdout",
     "output_type": "stream",
     "text": [
      " HR/G for 2021:  [0.219]\n",
      "[[0.135 0.137]\n",
      " [0.133 0.09 ]\n",
      " [0.158 0.146]\n",
      " [0.197 0.216]\n",
      " [0.223 0.236]\n",
      " [0.226 0.212]\n",
      " [0.22  0.228]\n",
      " [0.219 0.205]\n",
      " [0.221 0.267]]\n",
      "MSE:  0.0005606737729683874\n",
      "R2 Score:  0.8018717289389318\n"
     ]
    },
    {
     "name": "stderr",
     "output_type": "stream",
     "text": [
      "/opt/anaconda3/lib/python3.8/site-packages/sklearn/utils/validation.py:63: DataConversionWarning: A column-vector y was passed when a 1d array was expected. Please change the shape of y to (n_samples, ), for example using ravel().\n",
      "  return f(*args, **kwargs)\n"
     ]
    },
    {
     "data": {
      "image/png": "[encoded data removed]",
      "text/plain": [
       "<Figure size 432x288 with 1 Axes>"
      ]
     },
     "metadata": {
      "needs_background": "light"
     },
     "output_type": "display_data"
    }
   ],
   "source": [
    "#import data\n",
    "col_list = [\"Age\", \"HR/G\"]\n",
    "dataset = pd.read_csv('PadresBatters.csv', usecols=col_list)\n",
    "X = dataset.iloc[21:30, :-1].values\n",
    "y = dataset.iloc[21:30, -1].values\n",
    "\n",
    "y_train = y\n",
    "y_test = y\n",
    "X_test = X\n",
    "X_train = X\n",
    "\n",
    "#reshape y \n",
    "y = y.reshape(len(y),1)\n",
    "\n",
    "#Feature scaling the data\n",
    "from sklearn.preprocessing import StandardScaler\n",
    "sc_X = StandardScaler()\n",
    "sc_y = StandardScaler()\n",
    "X = sc_X.fit_transform(X)\n",
    "y = sc_y.fit_transform(y)\n",
    "\n",
    "#Train the SVR\n",
    "from sklearn.svm import SVR\n",
    "regressor = SVR(kernel = 'rbf')\n",
    "regressor.fit(X, y)\n",
    "\n",
    "#Predict a new result\n",
    "print(\" HR/G for 2021: \", sc_y.inverse_transform(regressor.predict(sc_X.transform([[28]]))))\n",
    "\n",
    "\n",
    "y_pred = sc_y.inverse_transform(regressor.predict(sc_X.transform(X_test)))\n",
    "np.set_printoptions(precision=3)\n",
    "print(np.concatenate((y_pred.reshape(len(y_pred),1), y_test.reshape(len(y_test),1)),1))\n",
    "\n",
    "from sklearn.metrics import mean_squared_error\n",
    "print(\"MSE: \" , mean_squared_error(y_test, y_pred))\n",
    "\n",
    "from sklearn.metrics import r2_score\n",
    "print(\"R2 Score: \" , r2_score(y_test, y_pred))\n",
    "\n",
    "\n",
    "X_grid = np.arange(min(sc_X.inverse_transform(X)), max(sc_X.inverse_transform(X)), 0.1)\n",
    "X_grid = X_grid.reshape((len(X_grid), 1))\n",
    "plt.scatter(sc_X.inverse_transform(X), sc_y.inverse_transform(y), color = 'red')\n",
    "plt.plot(X_grid, sc_y.inverse_transform(regressor.predict(sc_X.transform(X_grid))), color = 'blue')\n",
    "plt.title('Manny Machado HR/G (SVR)')\n",
    "plt.xlabel('Age')\n",
    "plt.ylabel('HR')\n",
    "plt.show()"
   ]
  },
  {
   "cell_type": "code",
   "execution_count": 35,
   "metadata": {},
   "outputs": [
    {
     "name": "stdout",
     "output_type": "stream",
     "text": [
      "35.04  HRs\n"
     ]
    }
   ],
   "source": [
    "print(.219 * 160, \" HRs\")"
   ]
  },
  {
   "cell_type": "code",
   "execution_count": 11,
   "metadata": {},
   "outputs": [
    {
     "name": "stdout",
     "output_type": "stream",
     "text": [
      " RBI/G for 2021:  [0.632]\n",
      "[[0.499 0.51 ]\n",
      " [0.466 0.455]\n",
      " [0.474 0.39 ]\n",
      " [0.525 0.531]\n",
      " [0.585 0.611]\n",
      " [0.62  0.609]\n",
      " [0.632 0.66 ]\n",
      " [0.636 0.545]\n",
      " [0.639 0.783]]\n",
      "MSE:  0.004252390937216147\n",
      "R2 Score:  0.6459561741083215\n"
     ]
    },
    {
     "name": "stderr",
     "output_type": "stream",
     "text": [
      "/opt/anaconda3/lib/python3.8/site-packages/sklearn/utils/validation.py:63: DataConversionWarning: A column-vector y was passed when a 1d array was expected. Please change the shape of y to (n_samples, ), for example using ravel().\n",
      "  return f(*args, **kwargs)\n"
     ]
    },
    {
     "data": {
      "image/png": "[encoded data removed]",
      "text/plain": [
       "<Figure size 432x288 with 1 Axes>"
      ]
     },
     "metadata": {
      "needs_background": "light"
     },
     "output_type": "display_data"
    }
   ],
   "source": [
    "#import data\n",
    "col_list = [\"Age\", \"RBI/G\"]\n",
    "dataset = pd.read_csv('PadresBatters.csv', usecols=col_list)\n",
    "X = dataset.iloc[21:30, :-1].values\n",
    "y = dataset.iloc[21:30, -1].values\n",
    "\n",
    "y_train = y\n",
    "y_test = y\n",
    "X_test = X\n",
    "X_train = X\n",
    "\n",
    "#reshape y \n",
    "y = y.reshape(len(y),1)\n",
    "\n",
    "#Feature scaling the data\n",
    "from sklearn.preprocessing import StandardScaler\n",
    "sc_X = StandardScaler()\n",
    "sc_y = StandardScaler()\n",
    "X = sc_X.fit_transform(X)\n",
    "y = sc_y.fit_transform(y)\n",
    "\n",
    "#Train the SVR\n",
    "from sklearn.svm import SVR\n",
    "regressor = SVR(kernel = 'rbf')\n",
    "regressor.fit(X, y)\n",
    "\n",
    "#Predict a new result\n",
    "print(\" RBI/G for 2021: \", sc_y.inverse_transform(regressor.predict(sc_X.transform([[28]]))))\n",
    "\n",
    "\n",
    "y_pred = sc_y.inverse_transform(regressor.predict(sc_X.transform(X_test)))\n",
    "np.set_printoptions(precision=3)\n",
    "print(np.concatenate((y_pred.reshape(len(y_pred),1), y_test.reshape(len(y_test),1)),1))\n",
    "\n",
    "from sklearn.metrics import mean_squared_error\n",
    "print(\"MSE: \" , mean_squared_error(y_test, y_pred))\n",
    "\n",
    "from sklearn.metrics import r2_score\n",
    "print(\"R2 Score: \" , r2_score(y_test, y_pred))\n",
    "\n",
    "\n",
    "X_grid = np.arange(min(sc_X.inverse_transform(X)), max(sc_X.inverse_transform(X)), 0.1)\n",
    "X_grid = X_grid.reshape((len(X_grid), 1))\n",
    "plt.scatter(sc_X.inverse_transform(X), sc_y.inverse_transform(y), color = 'red')\n",
    "plt.plot(X_grid, sc_y.inverse_transform(regressor.predict(sc_X.transform(X_grid))), color = 'blue')\n",
    "plt.title('Manny Machado RBI/G (SVR)')\n",
    "plt.xlabel('Age')\n",
    "plt.ylabel('RBI/G')\n",
    "plt.show()"
   ]
  },
  {
   "cell_type": "code",
   "execution_count": 34,
   "metadata": {},
   "outputs": [
    {
     "name": "stdout",
     "output_type": "stream",
     "text": [
      "101.12  RBIs\n"
     ]
    }
   ],
   "source": [
    "print(.632 * 160, \" RBIs\")"
   ]
  },
  {
   "cell_type": "code",
   "execution_count": 12,
   "metadata": {},
   "outputs": [
    {
     "name": "stdout",
     "output_type": "stream",
     "text": [
      " R/G for 2021:  [0.58]\n",
      "[[0.525 0.471]\n",
      " [0.555 0.564]\n",
      " [0.595 0.463]\n",
      " [0.616 0.63 ]\n",
      " [0.597 0.669]\n",
      " [0.552 0.519]\n",
      " [0.521 0.519]\n",
      " [0.528 0.519]\n",
      " [0.558 0.733]]\n",
      "MSE:  0.006386761556214878\n",
      "R2 Score:  0.16536190681272522\n"
     ]
    },
    {
     "name": "stderr",
     "output_type": "stream",
     "text": [
      "/opt/anaconda3/lib/python3.8/site-packages/sklearn/utils/validation.py:63: DataConversionWarning: A column-vector y was passed when a 1d array was expected. Please change the shape of y to (n_samples, ), for example using ravel().\n",
      "  return f(*args, **kwargs)\n"
     ]
    },
    {
     "data": {
      "image/png": "[encoded data removed]",
      "text/plain": [
       "<Figure size 432x288 with 1 Axes>"
      ]
     },
     "metadata": {
      "needs_background": "light"
     },
     "output_type": "display_data"
    }
   ],
   "source": [
    "#import data\n",
    "col_list = [\"Age\", \"R/G\"]\n",
    "dataset = pd.read_csv('PadresBatters.csv', usecols=col_list)\n",
    "X = dataset.iloc[21:30, :-1].values\n",
    "y = dataset.iloc[21:30, -1].values\n",
    "\n",
    "y_train = y\n",
    "y_test = y\n",
    "X_test = X\n",
    "X_train = X\n",
    "\n",
    "#reshape y \n",
    "y = y.reshape(len(y),1)\n",
    "\n",
    "#Feature scaling the data\n",
    "from sklearn.preprocessing import StandardScaler\n",
    "sc_X = StandardScaler()\n",
    "sc_y = StandardScaler()\n",
    "X = sc_X.fit_transform(X)\n",
    "y = sc_y.fit_transform(y)\n",
    "\n",
    "#Train the SVR\n",
    "from sklearn.svm import SVR\n",
    "regressor = SVR(kernel = 'rbf')\n",
    "regressor.fit(X, y)\n",
    "\n",
    "#Predict a new result\n",
    "print(\" R/G for 2021: \", sc_y.inverse_transform(regressor.predict(sc_X.transform([[28]]))))\n",
    "\n",
    "\n",
    "y_pred = sc_y.inverse_transform(regressor.predict(sc_X.transform(X_test)))\n",
    "np.set_printoptions(precision=3)\n",
    "print(np.concatenate((y_pred.reshape(len(y_pred),1), y_test.reshape(len(y_test),1)),1))\n",
    "\n",
    "from sklearn.metrics import mean_squared_error\n",
    "print(\"MSE: \" , mean_squared_error(y_test, y_pred))\n",
    "\n",
    "from sklearn.metrics import r2_score\n",
    "print(\"R2 Score: \" , r2_score(y_test, y_pred))\n",
    "\n",
    "X_grid = np.arange(min(sc_X.inverse_transform(X)), max(sc_X.inverse_transform(X)), 0.1)\n",
    "X_grid = X_grid.reshape((len(X_grid), 1))\n",
    "plt.scatter(sc_X.inverse_transform(X), sc_y.inverse_transform(y), color = 'red')\n",
    "plt.plot(X_grid, sc_y.inverse_transform(regressor.predict(sc_X.transform(X_grid))), color = 'blue')\n",
    "plt.title('Manny Machado R/G (SVR)')\n",
    "plt.xlabel('Age')\n",
    "plt.ylabel('R/G')\n",
    "plt.show()"
   ]
  },
  {
   "cell_type": "code",
   "execution_count": 32,
   "metadata": {},
   "outputs": [
    {
     "name": "stdout",
     "output_type": "stream",
     "text": [
      "92.8  runs\n"
     ]
    }
   ],
   "source": [
    "print(.58 * 160, \" runs\")"
   ]
  },
  {
   "cell_type": "code",
   "execution_count": 13,
   "metadata": {},
   "outputs": [
    {
     "name": "stdout",
     "output_type": "stream",
     "text": [
      " SB/G for 2021:  [0.077]\n",
      "[[0.042 0.039]\n",
      " [0.036 0.038]\n",
      " [0.033 0.024]\n",
      " [0.036 0.123]\n",
      " [0.045 0.   ]\n",
      " [0.056 0.058]\n",
      " [0.068 0.086]\n",
      " [0.076 0.032]\n",
      " [0.079 0.1  ]]\n",
      "MSE:  0.0013767163209139543\n",
      "R2 Score:  0.025301243641480453\n"
     ]
    },
    {
     "name": "stderr",
     "output_type": "stream",
     "text": [
      "/opt/anaconda3/lib/python3.8/site-packages/sklearn/utils/validation.py:63: DataConversionWarning: A column-vector y was passed when a 1d array was expected. Please change the shape of y to (n_samples, ), for example using ravel().\n",
      "  return f(*args, **kwargs)\n"
     ]
    },
    {
     "data": {
      "image/png": "[encoded data removed]",
      "text/plain": [
       "<Figure size 432x288 with 1 Axes>"
      ]
     },
     "metadata": {
      "needs_background": "light"
     },
     "output_type": "display_data"
    }
   ],
   "source": [
    "#import data\n",
    "col_list = [\"Age\", \"SB/G\"]\n",
    "dataset = pd.read_csv('PadresBatters.csv', usecols=col_list)\n",
    "X = dataset.iloc[21:30, :-1].values\n",
    "y = dataset.iloc[21:30, -1].values\n",
    "\n",
    "y_train = y\n",
    "y_test = y\n",
    "X_test = X\n",
    "X_train = X\n",
    "\n",
    "#reshape y \n",
    "y = y.reshape(len(y),1)\n",
    "\n",
    "#Feature scaling the data\n",
    "from sklearn.preprocessing import StandardScaler\n",
    "sc_X = StandardScaler()\n",
    "sc_y = StandardScaler()\n",
    "X = sc_X.fit_transform(X)\n",
    "y = sc_y.fit_transform(y)\n",
    "\n",
    "#Train the SVR\n",
    "from sklearn.svm import SVR\n",
    "regressor = SVR(kernel = 'rbf')\n",
    "regressor.fit(X, y)\n",
    "\n",
    "#Predict a new result\n",
    "print(\" SB/G for 2021: \", sc_y.inverse_transform(regressor.predict(sc_X.transform([[28]]))))\n",
    "\n",
    "\n",
    "y_pred = sc_y.inverse_transform(regressor.predict(sc_X.transform(X_test)))\n",
    "np.set_printoptions(precision=3)\n",
    "print(np.concatenate((y_pred.reshape(len(y_pred),1), y_test.reshape(len(y_test),1)),1))\n",
    "\n",
    "from sklearn.metrics import mean_squared_error\n",
    "print(\"MSE: \" , mean_squared_error(y_test, y_pred))\n",
    "\n",
    "from sklearn.metrics import r2_score\n",
    "print(\"R2 Score: \" , r2_score(y_test, y_pred))\n",
    "\n",
    "\n",
    "X_grid = np.arange(min(sc_X.inverse_transform(X)), max(sc_X.inverse_transform(X)), 0.1)\n",
    "X_grid = X_grid.reshape((len(X_grid), 1))\n",
    "plt.scatter(sc_X.inverse_transform(X), sc_y.inverse_transform(y), color = 'red')\n",
    "plt.plot(X_grid, sc_y.inverse_transform(regressor.predict(sc_X.transform(X_grid))), color = 'blue')\n",
    "plt.title('Manny Machado SB/G (SVR)')\n",
    "plt.xlabel('Age')\n",
    "plt.ylabel('SB/G')\n",
    "plt.show()"
   ]
  },
  {
   "cell_type": "code",
   "execution_count": 39,
   "metadata": {},
   "outputs": [
    {
     "name": "stdout",
     "output_type": "stream",
     "text": [
      "12.32  SBs\n"
     ]
    }
   ],
   "source": [
    "print(.077 * 160, \" SBs\")"
   ]
  },
  {
   "cell_type": "code",
   "execution_count": 14,
   "metadata": {},
   "outputs": [
    {
     "name": "stdout",
     "output_type": "stream",
     "text": [
      " 2B/G for 2021:  [0.194]\n",
      "[[0.162 0.157]\n",
      " [0.167 0.327]\n",
      " [0.176 0.171]\n",
      " [0.191 0.185]\n",
      " [0.208 0.255]\n",
      " [0.216 0.212]\n",
      " [0.211 0.216]\n",
      " [0.2   0.135]\n",
      " [0.195 0.2  ]]\n",
      "MSE:  0.0035724460305342795\n",
      "R2 Score:  -0.2199217719559956\n"
     ]
    },
    {
     "name": "stderr",
     "output_type": "stream",
     "text": [
      "/opt/anaconda3/lib/python3.8/site-packages/sklearn/utils/validation.py:63: DataConversionWarning: A column-vector y was passed when a 1d array was expected. Please change the shape of y to (n_samples, ), for example using ravel().\n",
      "  return f(*args, **kwargs)\n"
     ]
    },
    {
     "data": {
      "image/png": "[encoded data removed]",
      "text/plain": [
       "<Figure size 432x288 with 1 Axes>"
      ]
     },
     "metadata": {
      "needs_background": "light"
     },
     "output_type": "display_data"
    }
   ],
   "source": [
    "#import data\n",
    "col_list = [\"Age\", \"2B/G\"]\n",
    "dataset = pd.read_csv('PadresBatters.csv', usecols=col_list)\n",
    "X = dataset.iloc[21:30, :-1].values\n",
    "y = dataset.iloc[21:30, -1].values\n",
    "\n",
    "y_train = y\n",
    "y_test = y\n",
    "X_test = X\n",
    "X_train = X\n",
    "\n",
    "#reshape y \n",
    "y = y.reshape(len(y),1)\n",
    "\n",
    "#Feature scaling the data\n",
    "from sklearn.preprocessing import StandardScaler\n",
    "sc_X = StandardScaler()\n",
    "sc_y = StandardScaler()\n",
    "X = sc_X.fit_transform(X)\n",
    "y = sc_y.fit_transform(y)\n",
    "\n",
    "#Train the SVR\n",
    "from sklearn.svm import SVR\n",
    "regressor = SVR(kernel = 'rbf')\n",
    "regressor.fit(X, y)\n",
    "\n",
    "#Predict a new result\n",
    "print(\" 2B/G for 2021: \", sc_y.inverse_transform(regressor.predict(sc_X.transform([[28]]))))\n",
    "\n",
    "\n",
    "y_pred = sc_y.inverse_transform(regressor.predict(sc_X.transform(X_test)))\n",
    "np.set_printoptions(precision=3)\n",
    "print(np.concatenate((y_pred.reshape(len(y_pred),1), y_test.reshape(len(y_test),1)),1))\n",
    "\n",
    "from sklearn.metrics import mean_squared_error\n",
    "print(\"MSE: \" , mean_squared_error(y_test, y_pred))\n",
    "\n",
    "from sklearn.metrics import r2_score\n",
    "print(\"R2 Score: \" , r2_score(y_test, y_pred))\n",
    "\n",
    "\n",
    "X_grid = np.arange(min(sc_X.inverse_transform(X)), max(sc_X.inverse_transform(X)), 0.1)\n",
    "X_grid = X_grid.reshape((len(X_grid), 1))\n",
    "plt.scatter(sc_X.inverse_transform(X), sc_y.inverse_transform(y), color = 'red')\n",
    "plt.plot(X_grid, sc_y.inverse_transform(regressor.predict(sc_X.transform(X_grid))), color = 'blue')\n",
    "plt.title('Manny Machado 2B/G (SVR)')\n",
    "plt.xlabel('Age')\n",
    "plt.ylabel('2B/G')\n",
    "plt.show()"
   ]
  },
  {
   "cell_type": "code",
   "execution_count": 37,
   "metadata": {},
   "outputs": [
    {
     "name": "stdout",
     "output_type": "stream",
     "text": [
      "31.04  2Bs\n"
     ]
    }
   ],
   "source": [
    "print(.194 * 160, \" 2Bs\")"
   ]
  },
  {
   "cell_type": "code",
   "execution_count": 15,
   "metadata": {},
   "outputs": [
    {
     "name": "stdout",
     "output_type": "stream",
     "text": [
      " 3B/G for 2021:  [0.015]\n",
      "[[0.025 0.059]\n",
      " [0.018 0.019]\n",
      " [0.009 0.   ]\n",
      " [0.005 0.006]\n",
      " [0.005 0.006]\n",
      " [0.008 0.006]\n",
      " [0.012 0.019]\n",
      " [0.014 0.013]\n",
      " [0.015 0.017]]\n",
      "MSE:  0.0001463169798256212\n",
      "R2 Score:  0.4509359749581089\n"
     ]
    },
    {
     "name": "stderr",
     "output_type": "stream",
     "text": [
      "/opt/anaconda3/lib/python3.8/site-packages/sklearn/utils/validation.py:63: DataConversionWarning: A column-vector y was passed when a 1d array was expected. Please change the shape of y to (n_samples, ), for example using ravel().\n",
      "  return f(*args, **kwargs)\n"
     ]
    },
    {
     "data": {
      "image/png": "[encoded data removed]",
      "text/plain": [
       "<Figure size 432x288 with 1 Axes>"
      ]
     },
     "metadata": {
      "needs_background": "light"
     },
     "output_type": "display_data"
    }
   ],
   "source": [
    "#import data\n",
    "col_list = [\"Age\", \"3B/G\"]\n",
    "dataset = pd.read_csv('PadresBatters.csv', usecols=col_list)\n",
    "X = dataset.iloc[21:30, :-1].values\n",
    "y = dataset.iloc[21:30, -1].values\n",
    "\n",
    "y_train = y\n",
    "y_test = y\n",
    "X_test = X\n",
    "X_train = X\n",
    "\n",
    "#reshape y \n",
    "y = y.reshape(len(y),1)\n",
    "\n",
    "#Feature scaling the data\n",
    "from sklearn.preprocessing import StandardScaler\n",
    "sc_X = StandardScaler()\n",
    "sc_y = StandardScaler()\n",
    "X = sc_X.fit_transform(X)\n",
    "y = sc_y.fit_transform(y)\n",
    "\n",
    "#Train the SVR\n",
    "from sklearn.svm import SVR\n",
    "regressor = SVR(kernel = 'rbf')\n",
    "regressor.fit(X, y)\n",
    "\n",
    "#Predict a new result\n",
    "print(\" 3B/G for 2021: \", sc_y.inverse_transform(regressor.predict(sc_X.transform([[28]]))))\n",
    "\n",
    "\n",
    "y_pred = sc_y.inverse_transform(regressor.predict(sc_X.transform(X_test)))\n",
    "np.set_printoptions(precision=3)\n",
    "print(np.concatenate((y_pred.reshape(len(y_pred),1), y_test.reshape(len(y_test),1)),1))\n",
    "\n",
    "from sklearn.metrics import mean_squared_error\n",
    "print(\"MSE: \" , mean_squared_error(y_test, y_pred))\n",
    "\n",
    "from sklearn.metrics import r2_score\n",
    "print(\"R2 Score: \" , r2_score(y_test, y_pred))\n",
    "\n",
    "\n",
    "X_grid = np.arange(min(sc_X.inverse_transform(X)), max(sc_X.inverse_transform(X)), 0.1)\n",
    "X_grid = X_grid.reshape((len(X_grid), 1))\n",
    "plt.scatter(sc_X.inverse_transform(X), sc_y.inverse_transform(y), color = 'red')\n",
    "plt.plot(X_grid, sc_y.inverse_transform(regressor.predict(sc_X.transform(X_grid))), color = 'blue')\n",
    "plt.title('Manny Machado 3B/G (SVR)')\n",
    "plt.xlabel('Age')\n",
    "plt.ylabel('3B/G')\n",
    "plt.show()"
   ]
  },
  {
   "cell_type": "code",
   "execution_count": 25,
   "metadata": {},
   "outputs": [
    {
     "name": "stdout",
     "output_type": "stream",
     "text": [
      "2.4  triples\n"
     ]
    }
   ],
   "source": [
    "print(.015 * 160, \" 3Bs\")"
   ]
  },
  {
   "cell_type": "code",
   "execution_count": 16,
   "metadata": {},
   "outputs": [
    {
     "name": "stdout",
     "output_type": "stream",
     "text": [
      " BB/G for 2021:  [0.399]\n",
      "[[0.187 0.176]\n",
      " [0.201 0.186]\n",
      " [0.247 0.244]\n",
      " [0.291 0.432]\n",
      " [0.316 0.306]\n",
      " [0.34  0.321]\n",
      " [0.38  0.432]\n",
      " [0.416 0.417]\n",
      " [0.423 0.433]]\n",
      "MSE:  0.0026243718672297094\n",
      "R2 Score:  0.7415981612084137\n"
     ]
    },
    {
     "name": "stderr",
     "output_type": "stream",
     "text": [
      "/opt/anaconda3/lib/python3.8/site-packages/sklearn/utils/validation.py:63: DataConversionWarning: A column-vector y was passed when a 1d array was expected. Please change the shape of y to (n_samples, ), for example using ravel().\n",
      "  return f(*args, **kwargs)\n"
     ]
    },
    {
     "data": {
      "image/png": "[encoded data removed]",
      "text/plain": [
       "<Figure size 432x288 with 1 Axes>"
      ]
     },
     "metadata": {
      "needs_background": "light"
     },
     "output_type": "display_data"
    }
   ],
   "source": [
    "#import data\n",
    "col_list = [\"Age\", \"BB/G\"]\n",
    "dataset = pd.read_csv('PadresBatters.csv', usecols=col_list)\n",
    "X = dataset.iloc[21:30, :-1].values\n",
    "y = dataset.iloc[21:30, -1].values\n",
    "\n",
    "y_train = y\n",
    "y_test = y\n",
    "X_test = X\n",
    "X_train = X\n",
    "\n",
    "#reshape y \n",
    "y = y.reshape(len(y),1)\n",
    "\n",
    "#Feature scaling the data\n",
    "from sklearn.preprocessing import StandardScaler\n",
    "sc_X = StandardScaler()\n",
    "sc_y = StandardScaler()\n",
    "X = sc_X.fit_transform(X)\n",
    "y = sc_y.fit_transform(y)\n",
    "\n",
    "#Train the SVR\n",
    "from sklearn.svm import SVR\n",
    "regressor = SVR(kernel = 'rbf')\n",
    "regressor.fit(X, y)\n",
    "\n",
    "#Predict a new result\n",
    "print(\" BB/G for 2021: \", sc_y.inverse_transform(regressor.predict(sc_X.transform([[28]]))))\n",
    "\n",
    "\n",
    "y_pred = sc_y.inverse_transform(regressor.predict(sc_X.transform(X_test)))\n",
    "np.set_printoptions(precision=3)\n",
    "print(np.concatenate((y_pred.reshape(len(y_pred),1), y_test.reshape(len(y_test),1)),1))\n",
    "\n",
    "from sklearn.metrics import mean_squared_error\n",
    "print(\"MSE: \" , mean_squared_error(y_test, y_pred))\n",
    "\n",
    "from sklearn.metrics import r2_score\n",
    "print(\"R2 Score: \" , r2_score(y_test, y_pred))\n",
    "\n",
    "\n",
    "X_grid = np.arange(min(sc_X.inverse_transform(X)), max(sc_X.inverse_transform(X)), 0.1)\n",
    "X_grid = X_grid.reshape((len(X_grid), 1))\n",
    "plt.scatter(sc_X.inverse_transform(X), sc_y.inverse_transform(y), color = 'red')\n",
    "plt.plot(X_grid, sc_y.inverse_transform(regressor.predict(sc_X.transform(X_grid))), color = 'blue')\n",
    "plt.title('Manny Machado 3B/G (SVR)')\n",
    "plt.xlabel('Age')\n",
    "plt.ylabel('BB/G')\n",
    "plt.show()"
   ]
  },
  {
   "cell_type": "code",
   "execution_count": 56,
   "metadata": {},
   "outputs": [
    {
     "name": "stdout",
     "output_type": "stream",
     "text": [
      "63.84  BBs\n"
     ]
    }
   ],
   "source": [
    "print(.399 * 160, \" BBs\")"
   ]
  },
  {
   "cell_type": "code",
   "execution_count": 17,
   "metadata": {},
   "outputs": [
    {
     "name": "stdout",
     "output_type": "stream",
     "text": [
      " SO/G for 2021:  [0.683]\n",
      "[[0.738 0.745]\n",
      " [0.735 0.724]\n",
      " [0.735 0.829]\n",
      " [0.74  0.685]\n",
      " [0.741 0.764]\n",
      " [0.73  0.737]\n",
      " [0.711 0.642]\n",
      " [0.691 0.821]\n",
      " [0.681 0.617]]\n",
      "MSE:  0.0042374829636660045\n",
      "R2 Score:  0.09486873306759136\n"
     ]
    },
    {
     "name": "stderr",
     "output_type": "stream",
     "text": [
      "/opt/anaconda3/lib/python3.8/site-packages/sklearn/utils/validation.py:63: DataConversionWarning: A column-vector y was passed when a 1d array was expected. Please change the shape of y to (n_samples, ), for example using ravel().\n",
      "  return f(*args, **kwargs)\n"
     ]
    },
    {
     "data": {
      "image/png": "[encoded data removed]",
      "text/plain": [
       "<Figure size 432x288 with 1 Axes>"
      ]
     },
     "metadata": {
      "needs_background": "light"
     },
     "output_type": "display_data"
    }
   ],
   "source": [
    "#import data\n",
    "col_list = [\"Age\", \"SO/G\"]\n",
    "dataset = pd.read_csv('PadresBatters.csv', usecols=col_list)\n",
    "X = dataset.iloc[21:30, :-1].values\n",
    "y = dataset.iloc[21:30, -1].values\n",
    "\n",
    "y_train = y\n",
    "y_test = y\n",
    "X_test = X\n",
    "X_train = X\n",
    "\n",
    "#reshape y \n",
    "y = y.reshape(len(y),1)\n",
    "\n",
    "#Feature scaling the data\n",
    "from sklearn.preprocessing import StandardScaler\n",
    "sc_X = StandardScaler()\n",
    "sc_y = StandardScaler()\n",
    "X = sc_X.fit_transform(X)\n",
    "y = sc_y.fit_transform(y)\n",
    "\n",
    "#Train the SVR\n",
    "from sklearn.svm import SVR\n",
    "regressor = SVR(kernel = 'rbf')\n",
    "regressor.fit(X, y)\n",
    "\n",
    "#Predict a new result\n",
    "print(\" SO/G for 2021: \", sc_y.inverse_transform(regressor.predict(sc_X.transform([[28]]))))\n",
    "\n",
    "\n",
    "y_pred = sc_y.inverse_transform(regressor.predict(sc_X.transform(X_test)))\n",
    "np.set_printoptions(precision=3)\n",
    "print(np.concatenate((y_pred.reshape(len(y_pred),1), y_test.reshape(len(y_test),1)),1))\n",
    "\n",
    "from sklearn.metrics import mean_squared_error\n",
    "print(\"MSE: \" , mean_squared_error(y_test, y_pred))\n",
    "\n",
    "from sklearn.metrics import r2_score\n",
    "print(\"R2 Score: \" , r2_score(y_test, y_pred))\n",
    "\n",
    "\n",
    "X_grid = np.arange(min(sc_X.inverse_transform(X)), max(sc_X.inverse_transform(X)), 0.1)\n",
    "X_grid = X_grid.reshape((len(X_grid), 1))\n",
    "plt.scatter(sc_X.inverse_transform(X), sc_y.inverse_transform(y), color = 'red')\n",
    "plt.plot(X_grid, sc_y.inverse_transform(regressor.predict(sc_X.transform(X_grid))), color = 'blue')\n",
    "plt.title('Manny Machado SO/G (SVR)')\n",
    "plt.xlabel('Age')\n",
    "plt.ylabel('SO/G')\n",
    "plt.show()"
   ]
  },
  {
   "cell_type": "code",
   "execution_count": 58,
   "metadata": {},
   "outputs": [
    {
     "name": "stdout",
     "output_type": "stream",
     "text": [
      "109.28  SOs\n"
     ]
    }
   ],
   "source": [
    "print(.683 * 160, ' SOs')"
   ]
  },
  {
   "cell_type": "code",
   "execution_count": null,
   "metadata": {},
   "outputs": [],
   "source": []
  }
 ],
 "metadata": {
  "kernelspec": {
   "display_name": "Python 3",
   "language": "python",
   "name": "python3"
  },
  "language_info": {
   "codemirror_mode": {
    "name": "ipython",
    "version": 3
   },
   "file_extension": ".py",
   "mimetype": "text/x-python",
   "name": "python",
   "nbconvert_exporter": "python",
   "pygments_lexer": "ipython3",
   "version": "3.8.3"
  }
 },
 "nbformat": 4,
 "nbformat_minor": 4
}
