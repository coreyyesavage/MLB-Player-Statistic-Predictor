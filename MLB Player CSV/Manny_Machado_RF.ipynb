{
 "cells": [
  {
   "cell_type": "code",
   "execution_count": 1,
   "metadata": {},
   "outputs": [
    {
     "name": "stdout",
     "output_type": "stream",
     "text": [
      "[['Manny Machado' 19]\n",
      " ['Manny Machado' 20]\n",
      " ['Manny Machado' 21]\n",
      " ['Manny Machado' 22]\n",
      " ['Manny Machado' 23]\n",
      " ['Manny Machado' 24]\n",
      " ['Manny Machado' 25]\n",
      " ['Manny Machado' 26]\n",
      " ['Manny Machado' 27]]\n"
     ]
    }
   ],
   "source": [
    "#import packages\n",
    "import numpy as np\n",
    "import matplotlib.pyplot as plt\n",
    "import pandas as pd\n",
    "\n",
    "#import data\n",
    "col_list = [\"Name\",\"Age\", \"AVG\"]\n",
    "dataset = pd.read_csv('PadresBatters.csv', usecols=col_list)\n",
    "X = dataset.iloc[21:30, :-1].values\n",
    "y = dataset.iloc[21:30, -1].values\n",
    "\n",
    "print(X)"
   ]
  },
  {
   "cell_type": "code",
   "execution_count": 2,
   "metadata": {},
   "outputs": [
    {
     "name": "stdout",
     "output_type": "stream",
     "text": [
      "[[0.27 0.26]\n",
      " [0.28 0.28]\n",
      " [0.28 0.28]\n",
      " [0.28 0.29]\n",
      " [0.29 0.29]\n",
      " [0.28 0.26]\n",
      " [0.27 0.3 ]\n",
      " [0.26 0.26]\n",
      " [0.28 0.3 ]]\n"
     ]
    },
    {
     "data": {
      "image/png": "[encoded data removed]",
      "text/plain": [
       "<Figure size 432x288 with 1 Axes>"
      ]
     },
     "metadata": {
      "needs_background": "light"
     },
     "output_type": "display_data"
    },
    {
     "name": "stdout",
     "output_type": "stream",
     "text": [
      "MSE:  0.00021506666666666648\n",
      "R2 Score:  0.21024571584005813\n",
      "Predicted Batting AVG in 2021:  [0.28]\n"
     ]
    }
   ],
   "source": [
    "#import data\n",
    "col_list = [\"Age\", \"AVG\"]\n",
    "dataset = pd.read_csv('PadresBatters.csv', usecols=col_list)\n",
    "X = dataset.iloc[21:30, :-1].values\n",
    "y = dataset.iloc[21:30, -1].values\n",
    "\n",
    "from sklearn.model_selection import train_test_split\n",
    "X_train = X\n",
    "X_test = X\n",
    "y_train = y\n",
    "y_test = y\n",
    "\n",
    "from sklearn.ensemble import RandomForestRegressor\n",
    "regressor = RandomForestRegressor(n_estimators = 10, random_state = 0)\n",
    "regressor.fit(X_train, y_train)\n",
    "\n",
    "y_pred = regressor.predict(X_test)\n",
    "np.set_printoptions(precision=2)\n",
    "print(np.concatenate((y_pred.reshape(len(y_pred),1), y_test.reshape(len(y_test),1)),1))\n",
    "\n",
    "X_grid = np.arange(min(X), max(X), 0.01)\n",
    "X_grid = X_grid.reshape((len(X_grid), 1))\n",
    "plt.scatter(X, y, color = 'red')\n",
    "plt.plot(X_grid, regressor.predict(X_grid), color = 'blue')\n",
    "plt.title('Batting AVG (Random Forest Regression)')\n",
    "plt.xlabel('Age')\n",
    "plt.ylabel('AVG')\n",
    "plt.show()\n",
    "\n",
    "#reshape y \n",
    "y = y.reshape(len(y),1)\n",
    "\n",
    "from sklearn.metrics import mean_squared_error\n",
    "print(\"MSE: \" , mean_squared_error(y_test, y_pred))\n",
    "\n",
    "from sklearn.metrics import r2_score\n",
    "print(\"R2 Score: \" , r2_score(y_test, y_pred))\n",
    "\n",
    "print(\"Predicted Batting AVG in 2021: \" ,regressor.predict([[28]]))"
   ]
  },
  {
   "cell_type": "code",
   "execution_count": 3,
   "metadata": {},
   "outputs": [
    {
     "name": "stdout",
     "output_type": "stream",
     "text": [
      "[[0.44 0.45]\n",
      " [0.43 0.43]\n",
      " [0.44 0.43]\n",
      " [0.48 0.5 ]\n",
      " [0.52 0.53]\n",
      " [0.5  0.47]\n",
      " [0.49 0.54]\n",
      " [0.47 0.46]\n",
      " [0.51 0.58]]\n"
     ]
    },
    {
     "data": {
      "image/png": "[encoded data removed]",
      "text/plain": [
       "<Figure size 432x288 with 1 Axes>"
      ]
     },
     "metadata": {
      "needs_background": "light"
     },
     "output_type": "display_data"
    },
    {
     "name": "stdout",
     "output_type": "stream",
     "text": [
      "MSE:  0.0009913866666666647\n",
      "R2 Score:  0.601382364037091\n",
      "Predicted SLG% in 2021:  [0.51]\n"
     ]
    }
   ],
   "source": [
    "#import data\n",
    "col_list = [\"Age\", \"SLG\"]\n",
    "dataset = pd.read_csv('PadresBatters.csv', usecols=col_list)\n",
    "X = dataset.iloc[21:30, :-1].values\n",
    "y = dataset.iloc[21:30, -1].values\n",
    "\n",
    "from sklearn.model_selection import train_test_split\n",
    "X_train = X\n",
    "X_test = X\n",
    "y_train = y\n",
    "y_test = y\n",
    "\n",
    "from sklearn.ensemble import RandomForestRegressor\n",
    "regressor = RandomForestRegressor(n_estimators = 10, random_state = 0)\n",
    "regressor.fit(X_train, y_train)\n",
    "\n",
    "y_pred = regressor.predict(X_test)\n",
    "np.set_printoptions(precision=2)\n",
    "print(np.concatenate((y_pred.reshape(len(y_pred),1), y_test.reshape(len(y_test),1)),1))\n",
    "\n",
    "X_grid = np.arange(min(X), max(X), 0.01)\n",
    "X_grid = X_grid.reshape((len(X_grid), 1))\n",
    "plt.scatter(X, y, color = 'red')\n",
    "plt.plot(X_grid, regressor.predict(X_grid), color = 'blue')\n",
    "plt.title('SLG% (Random Forest Regression)')\n",
    "plt.xlabel('Age')\n",
    "plt.ylabel('SLG%')\n",
    "plt.show()\n",
    "\n",
    "#reshape y \n",
    "y = y.reshape(len(y),1)\n",
    "\n",
    "from sklearn.metrics import mean_squared_error\n",
    "print(\"MSE: \" , mean_squared_error(y_test, y_pred))\n",
    "\n",
    "from sklearn.metrics import r2_score\n",
    "print(\"R2 Score: \" , r2_score(y_test, y_pred))\n",
    "\n",
    "print(\"Predicted SLG% in 2021: \" ,regressor.predict([[28]]))"
   ]
  },
  {
   "cell_type": "code",
   "execution_count": 4,
   "metadata": {},
   "outputs": [
    {
     "name": "stdout",
     "output_type": "stream",
     "text": [
      "[[0.3  0.29]\n",
      " [0.31 0.31]\n",
      " [0.32 0.32]\n",
      " [0.35 0.36]\n",
      " [0.35 0.34]\n",
      " [0.33 0.31]\n",
      " [0.33 0.37]\n",
      " [0.34 0.33]\n",
      " [0.35 0.37]]\n"
     ]
    },
    {
     "data": {
      "image/png": "[encoded data removed]",
      "text/plain": [
       "<Figure size 432x288 with 1 Axes>"
      ]
     },
     "metadata": {
      "needs_background": "light"
     },
     "output_type": "display_data"
    },
    {
     "name": "stdout",
     "output_type": "stream",
     "text": [
      "MSE:  0.000248057777777778\n",
      "R2 Score:  0.6122750955192774\n",
      "Predicted OBP% in 2021:  [0.35]\n"
     ]
    }
   ],
   "source": [
    "#import data\n",
    "col_list = [\"Age\", \"OBP\"]\n",
    "dataset = pd.read_csv('PadresBatters.csv', usecols=col_list)\n",
    "X = dataset.iloc[21:30, :-1].values\n",
    "y = dataset.iloc[21:30, -1].values\n",
    "\n",
    "from sklearn.model_selection import train_test_split\n",
    "X_train = X\n",
    "X_test = X\n",
    "y_train = y\n",
    "y_test = y\n",
    "\n",
    "from sklearn.ensemble import RandomForestRegressor\n",
    "regressor = RandomForestRegressor(n_estimators = 10, random_state = 0)\n",
    "regressor.fit(X_train, y_train)\n",
    "\n",
    "y_pred = regressor.predict(X_test)\n",
    "np.set_printoptions(precision=2)\n",
    "print(np.concatenate((y_pred.reshape(len(y_pred),1), y_test.reshape(len(y_test),1)),1))\n",
    "\n",
    "X_grid = np.arange(min(X), max(X), 0.01)\n",
    "X_grid = X_grid.reshape((len(X_grid), 1))\n",
    "plt.scatter(X, y, color = 'red')\n",
    "plt.plot(X_grid, regressor.predict(X_grid), color = 'blue')\n",
    "plt.title('OBP% (Random Forest Regression)')\n",
    "plt.xlabel('Age')\n",
    "plt.ylabel('OBP%')\n",
    "plt.show()\n",
    "\n",
    "#reshape y \n",
    "y = y.reshape(len(y),1)\n",
    "\n",
    "from sklearn.metrics import mean_squared_error\n",
    "print(\"MSE: \" , mean_squared_error(y_test, y_pred))\n",
    "\n",
    "from sklearn.metrics import r2_score\n",
    "print(\"R2 Score: \" , r2_score(y_test, y_pred))\n",
    "\n",
    "print(\"Predicted OBP% in 2021: \" ,regressor.predict([[28]]))"
   ]
  },
  {
   "cell_type": "code",
   "execution_count": 5,
   "metadata": {},
   "outputs": [
    {
     "name": "stdout",
     "output_type": "stream",
     "text": [
      "[[0.74 0.74]\n",
      " [0.74 0.75]\n",
      " [0.76 0.76]\n",
      " [0.83 0.86]\n",
      " [0.87 0.88]\n",
      " [0.83 0.78]\n",
      " [0.82 0.91]\n",
      " [0.81 0.8 ]\n",
      " [0.86 0.95]]\n"
     ]
    },
    {
     "data": {
      "image/png": "[encoded data removed]",
      "text/plain": [
       "<Figure size 432x288 with 1 Axes>"
      ]
     },
     "metadata": {
      "needs_background": "light"
     },
     "output_type": "display_data"
    },
    {
     "name": "stdout",
     "output_type": "stream",
     "text": [
      "MSE:  0.0021269366666666605\n",
      "R2 Score:  0.5937859689330287\n",
      "Predicted OPS in 2021:  [0.86]\n"
     ]
    }
   ],
   "source": [
    "#import data\n",
    "col_list = [\"Age\", \"OPS\"]\n",
    "dataset = pd.read_csv('PadresBatters.csv', usecols=col_list)\n",
    "X = dataset.iloc[21:30, :-1].values\n",
    "y = dataset.iloc[21:30, -1].values\n",
    "\n",
    "from sklearn.model_selection import train_test_split\n",
    "X_train = X\n",
    "X_test = X\n",
    "y_train = y\n",
    "y_test = y\n",
    "\n",
    "from sklearn.ensemble import RandomForestRegressor\n",
    "regressor = RandomForestRegressor(n_estimators = 10, random_state = 0)\n",
    "regressor.fit(X_train, y_train)\n",
    "\n",
    "y_pred = regressor.predict(X_test)\n",
    "np.set_printoptions(precision=2)\n",
    "print(np.concatenate((y_pred.reshape(len(y_pred),1), y_test.reshape(len(y_test),1)),1))\n",
    "\n",
    "X_grid = np.arange(min(X), max(X), 0.01)\n",
    "X_grid = X_grid.reshape((len(X_grid), 1))\n",
    "plt.scatter(X, y, color = 'red')\n",
    "plt.plot(X_grid, regressor.predict(X_grid), color = 'blue')\n",
    "plt.title('OPS (Random Forest Regression)')\n",
    "plt.xlabel('Age')\n",
    "plt.ylabel('OPS')\n",
    "plt.show()\n",
    "\n",
    "#reshape y \n",
    "y = y.reshape(len(y),1)\n",
    "\n",
    "from sklearn.metrics import mean_squared_error\n",
    "print(\"MSE: \" , mean_squared_error(y_test, y_pred))\n",
    "\n",
    "from sklearn.metrics import r2_score\n",
    "print(\"R2 Score: \" , r2_score(y_test, y_pred))\n",
    "\n",
    "print(\"Predicted OPS in 2021: \" ,regressor.predict([[28]]))"
   ]
  },
  {
   "cell_type": "code",
   "execution_count": 6,
   "metadata": {},
   "outputs": [
    {
     "name": "stdout",
     "output_type": "stream",
     "text": [
      "[[0.99 1.  ]\n",
      " [0.97 0.96]\n",
      " [0.69 0.51]\n",
      " [0.85 1.  ]\n",
      " [0.98 0.97]\n",
      " [0.97 0.96]\n",
      " [0.97 1.  ]\n",
      " [0.97 0.96]\n",
      " [0.98 1.  ]]\n"
     ]
    },
    {
     "data": {
      "image/png": "[encoded data removed]",
      "text/plain": [
       "<Figure size 432x288 with 1 Axes>"
      ]
     },
     "metadata": {
      "needs_background": "light"
     },
     "output_type": "display_data"
    },
    {
     "name": "stdout",
     "output_type": "stream",
     "text": [
      "MSE:  0.006462344819333264\n",
      "R2 Score:  0.7149203120553125\n",
      "Predicted %G in 2021:  [0.98]\n"
     ]
    }
   ],
   "source": [
    "#import data\n",
    "col_list = [\"Age\", \"%G\"]\n",
    "dataset = pd.read_csv('PadresBatters.csv', usecols=col_list)\n",
    "X = dataset.iloc[21:30, :-1].values\n",
    "y = dataset.iloc[21:30, -1].values\n",
    "\n",
    "from sklearn.model_selection import train_test_split\n",
    "X_train = X\n",
    "X_test = X\n",
    "y_train = y\n",
    "y_test = y\n",
    "\n",
    "from sklearn.ensemble import RandomForestRegressor\n",
    "regressor = RandomForestRegressor(n_estimators = 10, random_state = 0)\n",
    "regressor.fit(X_train, y_train)\n",
    "\n",
    "y_pred = regressor.predict(X_test)\n",
    "np.set_printoptions(precision=2)\n",
    "print(np.concatenate((y_pred.reshape(len(y_pred),1), y_test.reshape(len(y_test),1)),1))\n",
    "\n",
    "X_grid = np.arange(min(X), max(X), 0.01)\n",
    "X_grid = X_grid.reshape((len(X_grid), 1))\n",
    "plt.scatter(X, y, color = 'red')\n",
    "plt.plot(X_grid, regressor.predict(X_grid), color = 'blue')\n",
    "plt.title('%G Played (Random Forest Regression)')\n",
    "plt.xlabel('Age')\n",
    "plt.ylabel('%G')\n",
    "plt.show()\n",
    "\n",
    "#reshape y \n",
    "y = y.reshape(len(y),1)\n",
    "\n",
    "from sklearn.metrics import mean_squared_error\n",
    "print(\"MSE: \" , mean_squared_error(y_test, y_pred))\n",
    "\n",
    "from sklearn.metrics import r2_score\n",
    "print(\"R2 Score: \" , r2_score(y_test, y_pred))\n",
    "\n",
    "print(\"Predicted %G in 2021: \" ,regressor.predict([[28]]))"
   ]
  },
  {
   "cell_type": "code",
   "execution_count": 2,
   "metadata": {},
   "outputs": [
    {
     "data": {
      "text/plain": [
       "153.9"
      ]
     },
     "execution_count": 2,
     "metadata": {},
     "output_type": "execute_result"
    }
   ],
   "source": [
    ".95 * 162"
   ]
  },
  {
   "cell_type": "code",
   "execution_count": 7,
   "metadata": {},
   "outputs": [
    {
     "name": "stdout",
     "output_type": "stream",
     "text": [
      "[[4.08 3.96]\n",
      " [4.43 4.55]\n",
      " [4.4  4.32]\n",
      " [4.38 4.4 ]\n",
      " [4.42 4.43]\n",
      " [4.42 4.42]\n",
      " [4.35 4.38]\n",
      " [4.26 4.24]\n",
      " [4.25 4.23]]\n"
     ]
    },
    {
     "data": {
      "image/png": "[encoded data removed]",
      "text/plain": [
       "<Figure size 432x288 with 1 Axes>"
      ]
     },
     "metadata": {
      "needs_background": "light"
     },
     "output_type": "display_data"
    },
    {
     "name": "stdout",
     "output_type": "stream",
     "text": [
      "MSE:  0.004015015872249717\n",
      "R2 Score:  0.8427567293596772\n",
      "Predicted PA/G in 2021:  [4.25]\n"
     ]
    }
   ],
   "source": [
    "#import data\n",
    "col_list = [\"Age\", \"PA/G\"]\n",
    "dataset = pd.read_csv('PadresBatters.csv', usecols=col_list)\n",
    "X = dataset.iloc[21:30, :-1].values\n",
    "y = dataset.iloc[21:30, -1].values\n",
    "\n",
    "from sklearn.model_selection import train_test_split\n",
    "X_train = X\n",
    "X_test = X\n",
    "y_train = y\n",
    "y_test = y\n",
    "\n",
    "from sklearn.ensemble import RandomForestRegressor\n",
    "regressor = RandomForestRegressor(n_estimators = 10, random_state = 0)\n",
    "regressor.fit(X_train, y_train)\n",
    "\n",
    "y_pred = regressor.predict(X_test)\n",
    "np.set_printoptions(precision=2)\n",
    "print(np.concatenate((y_pred.reshape(len(y_pred),1), y_test.reshape(len(y_test),1)),1))\n",
    "\n",
    "X_grid = np.arange(min(X), max(X), 0.01)\n",
    "X_grid = X_grid.reshape((len(X_grid), 1))\n",
    "plt.scatter(X, y, color = 'red')\n",
    "plt.plot(X_grid, regressor.predict(X_grid), color = 'blue')\n",
    "plt.title('PA/G (Random Forest Regression)')\n",
    "plt.xlabel('Age')\n",
    "plt.ylabel('PA/G')\n",
    "plt.show()\n",
    "\n",
    "#reshape y \n",
    "y = y.reshape(len(y),1)\n",
    "\n",
    "from sklearn.metrics import mean_squared_error\n",
    "print(\"MSE: \" , mean_squared_error(y_test, y_pred))\n",
    "\n",
    "from sklearn.metrics import r2_score\n",
    "print(\"R2 Score: \" , r2_score(y_test, y_pred))\n",
    "\n",
    "print(\"Predicted PA/G in 2021: \" ,regressor.predict([[28]]))"
   ]
  },
  {
   "cell_type": "code",
   "execution_count": 3,
   "metadata": {},
   "outputs": [
    {
     "data": {
      "text/plain": [
       "654.5"
      ]
     },
     "execution_count": 3,
     "metadata": {},
     "output_type": "execute_result"
    }
   ],
   "source": [
    "154 * 4.25"
   ]
  },
  {
   "cell_type": "code",
   "execution_count": 8,
   "metadata": {},
   "outputs": [
    {
     "name": "stdout",
     "output_type": "stream",
     "text": [
      "[[0.13 0.14]\n",
      " [0.1  0.09]\n",
      " [0.14 0.15]\n",
      " [0.2  0.22]\n",
      " [0.23 0.24]\n",
      " [0.22 0.21]\n",
      " [0.21 0.23]\n",
      " [0.21 0.21]\n",
      " [0.23 0.27]]\n"
     ]
    },
    {
     "data": {
      "image/png": "[encoded data removed]",
      "text/plain": [
       "<Figure size 432x288 with 1 Axes>"
      ]
     },
     "metadata": {
      "needs_background": "light"
     },
     "output_type": "display_data"
    },
    {
     "name": "stdout",
     "output_type": "stream",
     "text": [
      "MSE:  0.00026572270645789726\n",
      "R2 Score:  0.9061001549377995\n",
      "Predicted HR/G in 2021:  [0.23]\n"
     ]
    }
   ],
   "source": [
    "#import data\n",
    "col_list = [\"Age\", \"HR/G\"]\n",
    "dataset = pd.read_csv('PadresBatters.csv', usecols=col_list)\n",
    "X = dataset.iloc[21:30, :-1].values\n",
    "y = dataset.iloc[21:30, -1].values\n",
    "\n",
    "from sklearn.model_selection import train_test_split\n",
    "X_train = X\n",
    "X_test = X\n",
    "y_train = y\n",
    "y_test = y\n",
    "\n",
    "from sklearn.ensemble import RandomForestRegressor\n",
    "regressor = RandomForestRegressor(n_estimators = 10, random_state = 0)\n",
    "regressor.fit(X_train, y_train)\n",
    "\n",
    "y_pred = regressor.predict(X_test)\n",
    "np.set_printoptions(precision=2)\n",
    "print(np.concatenate((y_pred.reshape(len(y_pred),1), y_test.reshape(len(y_test),1)),1))\n",
    "\n",
    "X_grid = np.arange(min(X), max(X), 0.01)\n",
    "X_grid = X_grid.reshape((len(X_grid), 1))\n",
    "plt.scatter(X, y, color = 'red')\n",
    "plt.plot(X_grid, regressor.predict(X_grid), color = 'blue')\n",
    "plt.title('HR/G (Random Forest Regression)')\n",
    "plt.xlabel('Age')\n",
    "plt.ylabel('HR/G')\n",
    "plt.show()\n",
    "\n",
    "#reshape y \n",
    "y = y.reshape(len(y),1)\n",
    "\n",
    "from sklearn.metrics import mean_squared_error\n",
    "print(\"MSE: \" , mean_squared_error(y_test, y_pred))\n",
    "\n",
    "from sklearn.metrics import r2_score\n",
    "print(\"R2 Score: \" , r2_score(y_test, y_pred))\n",
    "\n",
    "print(\"Predicted HR/G in 2021: \" ,regressor.predict([[28]]))"
   ]
  },
  {
   "cell_type": "code",
   "execution_count": 9,
   "metadata": {},
   "outputs": [
    {
     "name": "stdout",
     "output_type": "stream",
     "text": [
      "[[0.5  0.51]\n",
      " [0.47 0.46]\n",
      " [0.42 0.39]\n",
      " [0.49 0.53]\n",
      " [0.59 0.61]\n",
      " [0.61 0.61]\n",
      " [0.61 0.66]\n",
      " [0.58 0.54]\n",
      " [0.65 0.78]]\n"
     ]
    },
    {
     "data": {
      "image/png": "[encoded data removed]",
      "text/plain": [
       "<Figure size 432x288 with 1 Axes>"
      ]
     },
     "metadata": {
      "needs_background": "light"
     },
     "output_type": "display_data"
    },
    {
     "name": "stdout",
     "output_type": "stream",
     "text": [
      "MSE:  0.002931326588072038\n",
      "R2 Score:  0.7559448095196915\n",
      "Predicted RBI/G in 2021:  [0.65]\n"
     ]
    }
   ],
   "source": [
    "#import data\n",
    "col_list = [\"Age\", \"RBI/G\"]\n",
    "dataset = pd.read_csv('PadresBatters.csv', usecols=col_list)\n",
    "X = dataset.iloc[21:30, :-1].values\n",
    "y = dataset.iloc[21:30, -1].values\n",
    "\n",
    "from sklearn.model_selection import train_test_split\n",
    "X_train = X\n",
    "X_test = X\n",
    "y_train = y\n",
    "y_test = y\n",
    "\n",
    "from sklearn.ensemble import RandomForestRegressor\n",
    "regressor = RandomForestRegressor(n_estimators = 10, random_state = 0)\n",
    "regressor.fit(X_train, y_train)\n",
    "\n",
    "y_pred = regressor.predict(X_test)\n",
    "np.set_printoptions(precision=2)\n",
    "print(np.concatenate((y_pred.reshape(len(y_pred),1), y_test.reshape(len(y_test),1)),1))\n",
    "\n",
    "X_grid = np.arange(min(X), max(X), 0.01)\n",
    "X_grid = X_grid.reshape((len(X_grid), 1))\n",
    "plt.scatter(X, y, color = 'red')\n",
    "plt.plot(X_grid, regressor.predict(X_grid), color = 'blue')\n",
    "plt.title('RBI/G (Random Forest Regression)')\n",
    "plt.xlabel('Age')\n",
    "plt.ylabel('RBI/G')\n",
    "plt.show()\n",
    "\n",
    "#reshape y \n",
    "y = y.reshape(len(y),1)\n",
    "\n",
    "from sklearn.metrics import mean_squared_error\n",
    "print(\"MSE: \" , mean_squared_error(y_test, y_pred))\n",
    "\n",
    "from sklearn.metrics import r2_score\n",
    "print(\"R2 Score: \" , r2_score(y_test, y_pred))\n",
    "\n",
    "print(\"Predicted RBI/G in 2021: \" ,regressor.predict([[28]]))"
   ]
  },
  {
   "cell_type": "code",
   "execution_count": 10,
   "metadata": {},
   "outputs": [
    {
     "name": "stdout",
     "output_type": "stream",
     "text": [
      "[[0.49 0.47]\n",
      " [0.55 0.56]\n",
      " [0.51 0.46]\n",
      " [0.58 0.63]\n",
      " [0.66 0.67]\n",
      " [0.58 0.52]\n",
      " [0.52 0.52]\n",
      " [0.54 0.52]\n",
      " [0.6  0.73]]\n"
     ]
    },
    {
     "data": {
      "image/png": "[encoded data removed]",
      "text/plain": [
       "<Figure size 432x288 with 1 Axes>"
      ]
     },
     "metadata": {
      "needs_background": "light"
     },
     "output_type": "display_data"
    },
    {
     "name": "stdout",
     "output_type": "stream",
     "text": [
      "MSE:  0.00284396051821741\n",
      "R2 Score:  0.6283440734193253\n",
      "Predicted R/G in 2021:  [0.6]\n"
     ]
    }
   ],
   "source": [
    "#import data\n",
    "col_list = [\"Age\", \"R/G\"]\n",
    "dataset = pd.read_csv('PadresBatters.csv', usecols=col_list)\n",
    "X = dataset.iloc[21:30, :-1].values\n",
    "y = dataset.iloc[21:30, -1].values\n",
    "\n",
    "from sklearn.model_selection import train_test_split\n",
    "X_train = X\n",
    "X_test = X\n",
    "y_train = y\n",
    "y_test = y\n",
    "\n",
    "from sklearn.ensemble import RandomForestRegressor\n",
    "regressor = RandomForestRegressor(n_estimators = 10, random_state = 0)\n",
    "regressor.fit(X_train, y_train)\n",
    "\n",
    "y_pred = regressor.predict(X_test)\n",
    "np.set_printoptions(precision=2)\n",
    "print(np.concatenate((y_pred.reshape(len(y_pred),1), y_test.reshape(len(y_test),1)),1))\n",
    "\n",
    "X_grid = np.arange(min(X), max(X), 0.01)\n",
    "X_grid = X_grid.reshape((len(X_grid), 1))\n",
    "plt.scatter(X, y, color = 'red')\n",
    "plt.plot(X_grid, regressor.predict(X_grid), color = 'blue')\n",
    "plt.title('R/G (Random Forest Regression)')\n",
    "plt.xlabel('Age')\n",
    "plt.ylabel('R/G')\n",
    "plt.show()\n",
    "\n",
    "#reshape y \n",
    "y = y.reshape(len(y),1)\n",
    "\n",
    "from sklearn.metrics import mean_squared_error\n",
    "print(\"MSE: \" , mean_squared_error(y_test, y_pred))\n",
    "\n",
    "from sklearn.metrics import r2_score\n",
    "print(\"R2 Score: \" , r2_score(y_test, y_pred))\n",
    "\n",
    "print(\"Predicted R/G in 2021: \" ,regressor.predict([[28]]))"
   ]
  },
  {
   "cell_type": "code",
   "execution_count": 11,
   "metadata": {},
   "outputs": [
    {
     "name": "stdout",
     "output_type": "stream",
     "text": [
      "[[0.04 0.04]\n",
      " [0.04 0.04]\n",
      " [0.04 0.02]\n",
      " [0.09 0.12]\n",
      " [0.04 0.  ]\n",
      " [0.05 0.06]\n",
      " [0.06 0.09]\n",
      " [0.04 0.03]\n",
      " [0.06 0.1 ]]\n"
     ]
    },
    {
     "data": {
      "image/png": "[encoded data removed]",
      "text/plain": [
       "<Figure size 432x288 with 1 Axes>"
      ]
     },
     "metadata": {
      "needs_background": "light"
     },
     "output_type": "display_data"
    },
    {
     "name": "stdout",
     "output_type": "stream",
     "text": [
      "MSE:  0.0005373964628921387\n",
      "R2 Score:  0.6195297055062858\n",
      "Predicted SB/G in 2021:  [0.06]\n"
     ]
    }
   ],
   "source": [
    "#import data\n",
    "col_list = [\"Age\", \"SB/G\"]\n",
    "dataset = pd.read_csv('PadresBatters.csv', usecols=col_list)\n",
    "X = dataset.iloc[21:30, :-1].values\n",
    "y = dataset.iloc[21:30, -1].values\n",
    "\n",
    "from sklearn.model_selection import train_test_split\n",
    "X_train = X\n",
    "X_test = X\n",
    "y_train = y\n",
    "y_test = y\n",
    "\n",
    "from sklearn.ensemble import RandomForestRegressor\n",
    "regressor = RandomForestRegressor(n_estimators = 10, random_state = 0)\n",
    "regressor.fit(X_train, y_train)\n",
    "\n",
    "y_pred = regressor.predict(X_test)\n",
    "np.set_printoptions(precision=2)\n",
    "print(np.concatenate((y_pred.reshape(len(y_pred),1), y_test.reshape(len(y_test),1)),1))\n",
    "\n",
    "X_grid = np.arange(min(X), max(X), 0.01)\n",
    "X_grid = X_grid.reshape((len(X_grid), 1))\n",
    "plt.scatter(X, y, color = 'red')\n",
    "plt.plot(X_grid, regressor.predict(X_grid), color = 'blue')\n",
    "plt.title('SB/G (Random Forest Regression)')\n",
    "plt.xlabel('Age')\n",
    "plt.ylabel('SB/G')\n",
    "plt.show()\n",
    "\n",
    "#reshape y \n",
    "y = y.reshape(len(y),1)\n",
    "\n",
    "from sklearn.metrics import mean_squared_error\n",
    "print(\"MSE: \" , mean_squared_error(y_test, y_pred))\n",
    "\n",
    "from sklearn.metrics import r2_score\n",
    "print(\"R2 Score: \" , r2_score(y_test, y_pred))\n",
    "\n",
    "print(\"Predicted SB/G in 2021: \" ,regressor.predict([[28]]))"
   ]
  },
  {
   "cell_type": "code",
   "execution_count": 12,
   "metadata": {},
   "outputs": [
    {
     "name": "stdout",
     "output_type": "stream",
     "text": [
      "[[0.19 0.16]\n",
      " [0.29 0.33]\n",
      " [0.22 0.17]\n",
      " [0.18 0.19]\n",
      " [0.23 0.25]\n",
      " [0.22 0.21]\n",
      " [0.19 0.22]\n",
      " [0.15 0.13]\n",
      " [0.17 0.2 ]]\n"
     ]
    },
    {
     "data": {
      "image/png": "[encoded data removed]",
      "text/plain": [
       "<Figure size 432x288 with 1 Axes>"
      ]
     },
     "metadata": {
      "needs_background": "light"
     },
     "output_type": "display_data"
    },
    {
     "name": "stdout",
     "output_type": "stream",
     "text": [
      "MSE:  0.0007892533971880004\n",
      "R2 Score:  0.7304851089168509\n",
      "Predicted 2B/G in 2021:  [0.17]\n"
     ]
    }
   ],
   "source": [
    "#import data\n",
    "col_list = [\"Age\", \"2B/G\"]\n",
    "dataset = pd.read_csv('PadresBatters.csv', usecols=col_list)\n",
    "X = dataset.iloc[21:30, :-1].values\n",
    "y = dataset.iloc[21:30, -1].values\n",
    "\n",
    "from sklearn.model_selection import train_test_split\n",
    "X_train = X\n",
    "X_test = X\n",
    "y_train = y\n",
    "y_test = y\n",
    "\n",
    "from sklearn.ensemble import RandomForestRegressor\n",
    "regressor = RandomForestRegressor(n_estimators = 10, random_state = 0)\n",
    "regressor.fit(X_train, y_train)\n",
    "\n",
    "y_pred = regressor.predict(X_test)\n",
    "np.set_printoptions(precision=2)\n",
    "print(np.concatenate((y_pred.reshape(len(y_pred),1), y_test.reshape(len(y_test),1)),1))\n",
    "\n",
    "X_grid = np.arange(min(X), max(X), 0.01)\n",
    "X_grid = X_grid.reshape((len(X_grid), 1))\n",
    "plt.scatter(X, y, color = 'red')\n",
    "plt.plot(X_grid, regressor.predict(X_grid), color = 'blue')\n",
    "plt.title('2B/G (Random Forest Regression)')\n",
    "plt.xlabel('Age')\n",
    "plt.ylabel('2B/G')\n",
    "plt.show()\n",
    "\n",
    "#reshape y \n",
    "y = y.reshape(len(y),1)\n",
    "\n",
    "from sklearn.metrics import mean_squared_error\n",
    "print(\"MSE: \" , mean_squared_error(y_test, y_pred))\n",
    "\n",
    "from sklearn.metrics import r2_score\n",
    "print(\"R2 Score: \" , r2_score(y_test, y_pred))\n",
    "\n",
    "print(\"Predicted 2B/G in 2021: \" ,regressor.predict([[28]]))"
   ]
  },
  {
   "cell_type": "code",
   "execution_count": 13,
   "metadata": {},
   "outputs": [
    {
     "name": "stdout",
     "output_type": "stream",
     "text": [
      "[[0.05 0.06]\n",
      " [0.03 0.02]\n",
      " [0.01 0.  ]\n",
      " [0.   0.01]\n",
      " [0.01 0.01]\n",
      " [0.01 0.01]\n",
      " [0.01 0.02]\n",
      " [0.01 0.01]\n",
      " [0.01 0.02]]\n"
     ]
    },
    {
     "data": {
      "image/png": "[encoded data removed]",
      "text/plain": [
       "<Figure size 432x288 with 1 Axes>"
      ]
     },
     "metadata": {
      "needs_background": "light"
     },
     "output_type": "display_data"
    },
    {
     "name": "stdout",
     "output_type": "stream",
     "text": [
      "MSE:  2.474513654521758e-05\n",
      "R2 Score:  0.9071422586228831\n",
      "Predicted 3B/G in 2021:  [0.01]\n"
     ]
    }
   ],
   "source": [
    "#import data\n",
    "col_list = [\"Age\", \"3B/G\"]\n",
    "dataset = pd.read_csv('PadresBatters.csv', usecols=col_list)\n",
    "X = dataset.iloc[21:30, :-1].values\n",
    "y = dataset.iloc[21:30, -1].values\n",
    "\n",
    "from sklearn.model_selection import train_test_split\n",
    "X_train = X\n",
    "X_test = X\n",
    "y_train = y\n",
    "y_test = y\n",
    "\n",
    "from sklearn.ensemble import RandomForestRegressor\n",
    "regressor = RandomForestRegressor(n_estimators = 10, random_state = 0)\n",
    "regressor.fit(X_train, y_train)\n",
    "\n",
    "y_pred = regressor.predict(X_test)\n",
    "np.set_printoptions(precision=2)\n",
    "print(np.concatenate((y_pred.reshape(len(y_pred),1), y_test.reshape(len(y_test),1)),1))\n",
    "\n",
    "X_grid = np.arange(min(X), max(X), 0.01)\n",
    "X_grid = X_grid.reshape((len(X_grid), 1))\n",
    "plt.scatter(X, y, color = 'red')\n",
    "plt.plot(X_grid, regressor.predict(X_grid), color = 'blue')\n",
    "plt.title('3B/G (Random Forest Regression)')\n",
    "plt.xlabel('Age')\n",
    "plt.ylabel('3B/G')\n",
    "plt.show()\n",
    "\n",
    "#reshape y \n",
    "y = y.reshape(len(y),1)\n",
    "\n",
    "from sklearn.metrics import mean_squared_error\n",
    "print(\"MSE: \" , mean_squared_error(y_test, y_pred))\n",
    "\n",
    "from sklearn.metrics import r2_score\n",
    "print(\"R2 Score: \" , r2_score(y_test, y_pred))\n",
    "\n",
    "print(\"Predicted 3B/G in 2021: \" ,regressor.predict([[28]]))"
   ]
  },
  {
   "cell_type": "code",
   "execution_count": 14,
   "metadata": {},
   "outputs": [
    {
     "name": "stdout",
     "output_type": "stream",
     "text": [
      "[[0.18 0.18]\n",
      " [0.18 0.19]\n",
      " [0.25 0.24]\n",
      " [0.38 0.43]\n",
      " [0.34 0.31]\n",
      " [0.34 0.32]\n",
      " [0.38 0.43]\n",
      " [0.41 0.42]\n",
      " [0.41 0.43]]\n"
     ]
    },
    {
     "data": {
      "image/png": "[encoded data removed]",
      "text/plain": [
       "<Figure size 432x288 with 1 Axes>"
      ]
     },
     "metadata": {
      "needs_background": "light"
     },
     "output_type": "display_data"
    },
    {
     "name": "stdout",
     "output_type": "stream",
     "text": [
      "MSE:  0.0008698421588383396\n",
      "R2 Score:  0.9143532911212251\n",
      "Predicted BB/G in 2021:  [0.41]\n"
     ]
    }
   ],
   "source": [
    "#import data\n",
    "col_list = [\"Age\", \"BB/G\"]\n",
    "dataset = pd.read_csv('PadresBatters.csv', usecols=col_list)\n",
    "X = dataset.iloc[21:30, :-1].values\n",
    "y = dataset.iloc[21:30, -1].values\n",
    "\n",
    "from sklearn.model_selection import train_test_split\n",
    "X_train = X\n",
    "X_test = X\n",
    "y_train = y\n",
    "y_test = y\n",
    "\n",
    "from sklearn.ensemble import RandomForestRegressor\n",
    "regressor = RandomForestRegressor(n_estimators = 10, random_state = 0)\n",
    "regressor.fit(X_train, y_train)\n",
    "\n",
    "y_pred = regressor.predict(X_test)\n",
    "np.set_printoptions(precision=2)\n",
    "print(np.concatenate((y_pred.reshape(len(y_pred),1), y_test.reshape(len(y_test),1)),1))\n",
    "\n",
    "X_grid = np.arange(min(X), max(X), 0.01)\n",
    "X_grid = X_grid.reshape((len(X_grid), 1))\n",
    "plt.scatter(X, y, color = 'red')\n",
    "plt.plot(X_grid, regressor.predict(X_grid), color = 'blue')\n",
    "plt.title('BB/G (Random Forest Regression)')\n",
    "plt.xlabel('Age')\n",
    "plt.ylabel('BB/G')\n",
    "plt.show()\n",
    "\n",
    "#reshape y \n",
    "y = y.reshape(len(y),1)\n",
    "\n",
    "from sklearn.metrics import mean_squared_error\n",
    "print(\"MSE: \" , mean_squared_error(y_test, y_pred))\n",
    "\n",
    "from sklearn.metrics import r2_score\n",
    "print(\"R2 Score: \" , r2_score(y_test, y_pred))\n",
    "\n",
    "print(\"Predicted BB/G in 2021: \" ,regressor.predict([[28]]))"
   ]
  },
  {
   "cell_type": "code",
   "execution_count": 15,
   "metadata": {},
   "outputs": [
    {
     "name": "stdout",
     "output_type": "stream",
     "text": [
      "[[0.74 0.75]\n",
      " [0.73 0.72]\n",
      " [0.78 0.83]\n",
      " [0.73 0.69]\n",
      " [0.74 0.76]\n",
      " [0.73 0.74]\n",
      " [0.73 0.64]\n",
      " [0.79 0.82]\n",
      " [0.73 0.62]]\n"
     ]
    },
    {
     "data": {
      "image/png": "[encoded data removed]",
      "text/plain": [
       "<Figure size 432x288 with 1 Axes>"
      ]
     },
     "metadata": {
      "needs_background": "light"
     },
     "output_type": "display_data"
    },
    {
     "name": "stdout",
     "output_type": "stream",
     "text": [
      "MSE:  0.0029809078225181158\n",
      "R2 Score:  0.3632746380010665\n",
      "Predicted SO/G in 2021:  [0.73]\n"
     ]
    }
   ],
   "source": [
    "#import data\n",
    "col_list = [\"Age\", \"SO/G\"]\n",
    "dataset = pd.read_csv('PadresBatters.csv', usecols=col_list)\n",
    "X = dataset.iloc[21:30, :-1].values\n",
    "y = dataset.iloc[21:30, -1].values\n",
    "\n",
    "from sklearn.model_selection import train_test_split\n",
    "X_train = X\n",
    "X_test = X\n",
    "y_train = y\n",
    "y_test = y\n",
    "\n",
    "from sklearn.ensemble import RandomForestRegressor\n",
    "regressor = RandomForestRegressor(n_estimators = 10, random_state = 0)\n",
    "regressor.fit(X_train, y_train)\n",
    "\n",
    "y_pred = regressor.predict(X_test)\n",
    "np.set_printoptions(precision=2)\n",
    "print(np.concatenate((y_pred.reshape(len(y_pred),1), y_test.reshape(len(y_test),1)),1))\n",
    "\n",
    "X_grid = np.arange(min(X), max(X), 0.01)\n",
    "X_grid = X_grid.reshape((len(X_grid), 1))\n",
    "plt.scatter(X, y, color = 'red')\n",
    "plt.plot(X_grid, regressor.predict(X_grid), color = 'blue')\n",
    "plt.title('SO/G (Random Forest Regression)')\n",
    "plt.xlabel('Age')\n",
    "plt.ylabel('SO/G')\n",
    "plt.show()\n",
    "\n",
    "#reshape y \n",
    "y = y.reshape(len(y),1)\n",
    "\n",
    "from sklearn.metrics import mean_squared_error\n",
    "print(\"MSE: \" , mean_squared_error(y_test, y_pred))\n",
    "\n",
    "from sklearn.metrics import r2_score\n",
    "print(\"R2 Score: \" , r2_score(y_test, y_pred))\n",
    "\n",
    "print(\"Predicted SO/G in 2021: \" ,regressor.predict([[28]]))"
   ]
  },
  {
   "cell_type": "code",
   "execution_count": null,
   "metadata": {},
   "outputs": [],
   "source": []
  }
 ],
 "metadata": {
  "kernelspec": {
   "display_name": "Python 3",
   "language": "python",
   "name": "python3"
  },
  "language_info": {
   "codemirror_mode": {
    "name": "ipython",
    "version": 3
   },
   "file_extension": ".py",
   "mimetype": "text/x-python",
   "name": "python",
   "nbconvert_exporter": "python",
   "pygments_lexer": "ipython3",
   "version": "3.8.3"
  }
 },
 "nbformat": 4,
 "nbformat_minor": 4
}
