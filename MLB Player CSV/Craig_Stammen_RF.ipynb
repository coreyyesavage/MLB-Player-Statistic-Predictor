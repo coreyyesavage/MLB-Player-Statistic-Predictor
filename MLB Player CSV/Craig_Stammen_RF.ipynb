{
 "cells": [
  {
   "cell_type": "code",
   "execution_count": 1,
   "metadata": {},
   "outputs": [
    {
     "name": "stdout",
     "output_type": "stream",
     "text": [
      "[['Craig Stammen' 25]\n",
      " ['Craig Stammen' 26]\n",
      " ['Craig Stammen' 27]\n",
      " ['Craig Stammen' 28]\n",
      " ['Craig Stammen' 29]\n",
      " ['Craig Stammen' 30]\n",
      " ['Craig Stammen' 31]\n",
      " ['Craig Stammen' 33]\n",
      " ['Craig Stammen' 34]\n",
      " ['Craig Stammen' 35]\n",
      " ['Craig Stammen' 36]]\n"
     ]
    }
   ],
   "source": [
    "#import packages\n",
    "import numpy as np\n",
    "import matplotlib.pyplot as plt\n",
    "import pandas as pd\n",
    "\n",
    "#import data\n",
    "col_list = [\"Name\",\"Age\", \"ERA\"]\n",
    "dataset = pd.read_csv('PadresRelievers.csv', usecols=col_list)\n",
    "X = dataset.iloc[4:15, :-1].values\n",
    "y = dataset.iloc[4:15, -1].values\n",
    "\n",
    "print(X)"
   ]
  },
  {
   "cell_type": "code",
   "execution_count": 9,
   "metadata": {},
   "outputs": [
    {
     "name": "stdout",
     "output_type": "stream",
     "text": [
      "[[5.11 5.11]\n",
      " [5.13 5.13]\n",
      " [3.43 0.87]\n",
      " [2.28 2.34]\n",
      " [2.68 2.76]\n",
      " [3.09 3.84]\n",
      " [2.51 0.  ]\n",
      " [3.11 3.14]\n",
      " [2.95 2.73]\n",
      " [3.12 3.29]\n",
      " [4.64 5.63]]\n"
     ]
    },
    {
     "data": {
      "image/png": "[encoded data removed]",
      "text/plain": [
       "<Figure size 432x288 with 1 Axes>"
      ]
     },
     "metadata": {
      "needs_background": "light"
     },
     "output_type": "display_data"
    },
    {
     "name": "stdout",
     "output_type": "stream",
     "text": [
      "MSE:  1.3152869999999999\n",
      "R2 Score:  0.5257961751366003\n",
      "Predicted ERA in 2021:  [4.64]\n"
     ]
    }
   ],
   "source": [
    "#import data\n",
    "col_list = [\"Age\", \"ERA\"]\n",
    "dataset = pd.read_csv('PadresRelievers.csv', usecols=col_list)\n",
    "X = dataset.iloc[4:15, :-1].values\n",
    "y = dataset.iloc[4:15, -1].values\n",
    "\n",
    "from sklearn.model_selection import train_test_split\n",
    "X_train = X\n",
    "X_test = X\n",
    "y_train = y\n",
    "y_test = y\n",
    "\n",
    "from sklearn.ensemble import RandomForestRegressor\n",
    "regressor = RandomForestRegressor(n_estimators = 10, random_state = 0)\n",
    "regressor.fit(X_train, y_train)\n",
    "\n",
    "y_pred = regressor.predict(X_test)\n",
    "np.set_printoptions(precision=2)\n",
    "print(np.concatenate((y_pred.reshape(len(y_pred),1), y_test.reshape(len(y_test),1)),1))\n",
    "\n",
    "X_grid = np.arange(min(X), max(X), 0.01)\n",
    "X_grid = X_grid.reshape((len(X_grid), 1))\n",
    "plt.scatter(X, y, color = 'red')\n",
    "plt.plot(X_grid, regressor.predict(X_grid), color = 'blue')\n",
    "plt.title('ERA (Random Forest Regression)')\n",
    "plt.xlabel('Age')\n",
    "plt.ylabel('ERA')\n",
    "plt.show()\n",
    "\n",
    "#reshape y \n",
    "y = y.reshape(len(y),1)\n",
    "\n",
    "from sklearn.metrics import mean_squared_error\n",
    "print(\"MSE: \" , mean_squared_error(y_test, y_pred))\n",
    "\n",
    "from sklearn.metrics import r2_score\n",
    "print(\"R2 Score: \" , r2_score(y_test, y_pred))\n",
    "\n",
    "print(\"Predicted ERA in 2021: \" ,regressor.predict([[37]]))"
   ]
  },
  {
   "cell_type": "code",
   "execution_count": 10,
   "metadata": {},
   "outputs": [
    {
     "name": "stdout",
     "output_type": "stream",
     "text": [
      "[[1.33 1.29]\n",
      " [1.46 1.5 ]\n",
      " [1.17 0.68]\n",
      " [1.17 1.2 ]\n",
      " [1.27 1.29]\n",
      " [1.26 1.27]\n",
      " [1.26 1.25]\n",
      " [1.18 1.2 ]\n",
      " [1.12 1.04]\n",
      " [1.12 1.16]\n",
      " [1.23 1.29]]\n"
     ]
    },
    {
     "data": {
      "image/png": "[encoded data removed]",
      "text/plain": [
       "<Figure size 432x288 with 1 Axes>"
      ]
     },
     "metadata": {
      "needs_background": "light"
     },
     "output_type": "display_data"
    },
    {
     "name": "stdout",
     "output_type": "stream",
     "text": [
      "MSE:  0.023522363636363623\n",
      "R2 Score:  0.3827891746541183\n",
      "Predicted WHIP in 2021:  [1.23]\n"
     ]
    }
   ],
   "source": [
    "#import data\n",
    "col_list = [\"Age\", \"WHIP\"]\n",
    "dataset = pd.read_csv('PadresRelievers.csv', usecols=col_list)\n",
    "X = dataset.iloc[4:15, :-1].values\n",
    "y = dataset.iloc[4:15, -1].values\n",
    "\n",
    "from sklearn.model_selection import train_test_split\n",
    "X_train = X\n",
    "X_test = X\n",
    "y_train = y\n",
    "y_test = y\n",
    "\n",
    "from sklearn.ensemble import RandomForestRegressor\n",
    "regressor = RandomForestRegressor(n_estimators = 10, random_state = 0)\n",
    "regressor.fit(X_train, y_train)\n",
    "\n",
    "y_pred = regressor.predict(X_test)\n",
    "np.set_printoptions(precision=2)\n",
    "print(np.concatenate((y_pred.reshape(len(y_pred),1), y_test.reshape(len(y_test),1)),1))\n",
    "\n",
    "X_grid = np.arange(min(X), max(X), 0.01)\n",
    "X_grid = X_grid.reshape((len(X_grid), 1))\n",
    "plt.scatter(X, y, color = 'red')\n",
    "plt.plot(X_grid, regressor.predict(X_grid), color = 'blue')\n",
    "plt.title('WHIP (Random Forest Regression)')\n",
    "plt.xlabel('Age')\n",
    "plt.ylabel('WHIP')\n",
    "plt.show()\n",
    "\n",
    "#reshape y \n",
    "y = y.reshape(len(y),1)\n",
    "\n",
    "from sklearn.metrics import mean_squared_error\n",
    "print(\"MSE: \" , mean_squared_error(y_test, y_pred))\n",
    "\n",
    "from sklearn.metrics import r2_score\n",
    "print(\"R2 Score: \" , r2_score(y_test, y_pred))\n",
    "\n",
    "print(\"Predicted WHIP in 2021: \" ,regressor.predict([[37]]))"
   ]
  },
  {
   "cell_type": "code",
   "execution_count": 11,
   "metadata": {},
   "outputs": [
    {
     "name": "stdout",
     "output_type": "stream",
     "text": [
      "[[0.27 0.27]\n",
      " [0.29 0.29]\n",
      " [0.21 0.09]\n",
      " [0.21 0.21]\n",
      " [0.24 0.25]\n",
      " [0.25 0.27]\n",
      " [0.23 0.14]\n",
      " [0.23 0.23]\n",
      " [0.23 0.22]\n",
      " [0.24 0.25]\n",
      " [0.26 0.27]]\n"
     ]
    },
    {
     "data": {
      "image/png": "[encoded data removed]",
      "text/plain": [
       "<Figure size 432x288 with 1 Axes>"
      ]
     },
     "metadata": {
      "needs_background": "light"
     },
     "output_type": "display_data"
    },
    {
     "name": "stdout",
     "output_type": "stream",
     "text": [
      "MSE:  0.002059273636363636\n",
      "R2 Score:  0.39413983514479545\n",
      "Predicted AVG in 2021:  [0.26]\n"
     ]
    }
   ],
   "source": [
    "#import data\n",
    "col_list = [\"Age\", \"AVG\"]\n",
    "dataset = pd.read_csv('PadresRelievers.csv', usecols=col_list)\n",
    "X = dataset.iloc[4:15, :-1].values\n",
    "y = dataset.iloc[4:15, -1].values\n",
    "\n",
    "from sklearn.model_selection import train_test_split\n",
    "X_train = X\n",
    "X_test = X\n",
    "y_train = y\n",
    "y_test = y\n",
    "\n",
    "from sklearn.ensemble import RandomForestRegressor\n",
    "regressor = RandomForestRegressor(n_estimators = 10, random_state = 0)\n",
    "regressor.fit(X_train, y_train)\n",
    "\n",
    "y_pred = regressor.predict(X_test)\n",
    "np.set_printoptions(precision=2)\n",
    "print(np.concatenate((y_pred.reshape(len(y_pred),1), y_test.reshape(len(y_test),1)),1))\n",
    "\n",
    "X_grid = np.arange(min(X), max(X), 0.01)\n",
    "X_grid = X_grid.reshape((len(X_grid), 1))\n",
    "plt.scatter(X, y, color = 'red')\n",
    "plt.plot(X_grid, regressor.predict(X_grid), color = 'blue')\n",
    "plt.title('AVG (Random Forest Regression)')\n",
    "plt.xlabel('Age')\n",
    "plt.ylabel('AVG')\n",
    "plt.show()\n",
    "\n",
    "#reshape y \n",
    "y = y.reshape(len(y),1)\n",
    "\n",
    "from sklearn.metrics import mean_squared_error\n",
    "print(\"MSE: \" , mean_squared_error(y_test, y_pred))\n",
    "\n",
    "from sklearn.metrics import r2_score\n",
    "print(\"R2 Score: \" , r2_score(y_test, y_pred))\n",
    "\n",
    "print(\"Predicted AVG in 2021: \" ,regressor.predict([[37]]))"
   ]
  },
  {
   "cell_type": "code",
   "execution_count": 13,
   "metadata": {},
   "outputs": [
    {
     "name": "stdout",
     "output_type": "stream",
     "text": [
      "[[19.  19. ]\n",
      " [19.  19. ]\n",
      " [11.4  0. ]\n",
      " [ 0.   0. ]\n",
      " [ 0.   0. ]\n",
      " [ 0.   0. ]\n",
      " [ 0.   0. ]\n",
      " [ 0.   0. ]\n",
      " [ 0.   0. ]\n",
      " [ 0.   0. ]\n",
      " [ 0.   0. ]]\n"
     ]
    },
    {
     "data": {
      "image/png": "[encoded data removed]",
      "text/plain": [
       "<Figure size 432x288 with 1 Axes>"
      ]
     },
     "metadata": {
      "needs_background": "light"
     },
     "output_type": "display_data"
    },
    {
     "name": "stdout",
     "output_type": "stream",
     "text": [
      "MSE:  11.814545454545454\n",
      "R2 Score:  0.7799999999999999\n",
      "Predicted GS in 2021:  [0.]\n"
     ]
    }
   ],
   "source": [
    "#import data\n",
    "col_list = [\"Age\", \"GS\"]\n",
    "dataset = pd.read_csv('PadresRelievers.csv', usecols=col_list)\n",
    "X = dataset.iloc[4:15, :-1].values\n",
    "y = dataset.iloc[4:15, -1].values\n",
    "\n",
    "from sklearn.model_selection import train_test_split\n",
    "X_train = X\n",
    "X_test = X\n",
    "y_train = y\n",
    "y_test = y\n",
    "\n",
    "from sklearn.ensemble import RandomForestRegressor\n",
    "regressor = RandomForestRegressor(n_estimators = 10, random_state = 0)\n",
    "regressor.fit(X_train, y_train)\n",
    "\n",
    "y_pred = regressor.predict(X_test)\n",
    "np.set_printoptions(precision=2)\n",
    "print(np.concatenate((y_pred.reshape(len(y_pred),1), y_test.reshape(len(y_test),1)),1))\n",
    "\n",
    "X_grid = np.arange(min(X), max(X), 0.01)\n",
    "X_grid = X_grid.reshape((len(X_grid), 1))\n",
    "plt.scatter(X, y, color = 'red')\n",
    "plt.plot(X_grid, regressor.predict(X_grid), color = 'blue')\n",
    "plt.title('GS (Random Forest Regression)')\n",
    "plt.xlabel('Age')\n",
    "plt.ylabel('GS')\n",
    "plt.show()\n",
    "\n",
    "#reshape y \n",
    "y = y.reshape(len(y),1)\n",
    "\n",
    "from sklearn.metrics import mean_squared_error\n",
    "print(\"MSE: \" , mean_squared_error(y_test, y_pred))\n",
    "\n",
    "from sklearn.metrics import r2_score\n",
    "print(\"R2 Score: \" , r2_score(y_test, y_pred))\n",
    "\n",
    "print(\"Predicted GS in 2021: \" ,regressor.predict([[37]]))"
   ]
  },
  {
   "cell_type": "code",
   "execution_count": 14,
   "metadata": {},
   "outputs": [
    {
     "name": "stdout",
     "output_type": "stream",
     "text": [
      "[[109.76 105.2 ]\n",
      " [123.44 128.  ]\n",
      " [ 80.84  10.1 ]\n",
      " [ 78.92  88.1 ]\n",
      " [ 82.58  81.2 ]\n",
      " [ 68.77  72.2 ]\n",
      " [ 53.43   4.  ]\n",
      " [ 80.18  80.1 ]\n",
      " [ 79.74  79.  ]\n",
      " [ 81.1   82.  ]\n",
      " [ 71.38  64.8 ]]\n"
     ]
    },
    {
     "data": {
      "image/png": "[encoded data removed]",
      "text/plain": [
       "<Figure size 432x288 with 1 Axes>"
      ]
     },
     "metadata": {
      "needs_background": "light"
     },
     "output_type": "display_data"
    },
    {
     "name": "stdout",
     "output_type": "stream",
     "text": [
      "MSE:  693.7874363636365\n",
      "R2 Score:  0.4263429808089172\n",
      "Predicted IP in 2021:  [71.38]\n"
     ]
    }
   ],
   "source": [
    "#import data\n",
    "col_list = [\"Age\", \"ADJ_IP\"]\n",
    "dataset = pd.read_csv('PadresRelievers.csv', usecols=col_list)\n",
    "X = dataset.iloc[4:15, :-1].values\n",
    "y = dataset.iloc[4:15, -1].values\n",
    "\n",
    "from sklearn.model_selection import train_test_split\n",
    "X_train = X\n",
    "X_test = X\n",
    "y_train = y\n",
    "y_test = y\n",
    "\n",
    "from sklearn.ensemble import RandomForestRegressor\n",
    "regressor = RandomForestRegressor(n_estimators = 10, random_state = 0)\n",
    "regressor.fit(X_train, y_train)\n",
    "\n",
    "y_pred = regressor.predict(X_test)\n",
    "np.set_printoptions(precision=2)\n",
    "print(np.concatenate((y_pred.reshape(len(y_pred),1), y_test.reshape(len(y_test),1)),1))\n",
    "\n",
    "X_grid = np.arange(min(X), max(X), 0.01)\n",
    "X_grid = X_grid.reshape((len(X_grid), 1))\n",
    "plt.scatter(X, y, color = 'red')\n",
    "plt.plot(X_grid, regressor.predict(X_grid), color = 'blue')\n",
    "plt.title('ADJ_IP (Random Forest Regression)')\n",
    "plt.xlabel('Age')\n",
    "plt.ylabel('IP')\n",
    "plt.show()\n",
    "\n",
    "#reshape y \n",
    "y = y.reshape(len(y),1)\n",
    "\n",
    "from sklearn.metrics import mean_squared_error\n",
    "print(\"MSE: \" , mean_squared_error(y_test, y_pred))\n",
    "\n",
    "from sklearn.metrics import r2_score\n",
    "print(\"R2 Score: \" , r2_score(y_test, y_pred))\n",
    "\n",
    "print(\"Predicted IP in 2021: \" ,regressor.predict([[37]]))"
   ]
  },
  {
   "cell_type": "code",
   "execution_count": 15,
   "metadata": {},
   "outputs": [
    {
     "name": "stdout",
     "output_type": "stream",
     "text": [
      "[[ 4.47  4.09]\n",
      " [ 5.6   5.98]\n",
      " [ 7.77 10.45]\n",
      " [ 8.99  8.86]\n",
      " [ 8.74  8.71]\n",
      " [ 7.47  6.94]\n",
      " [ 7.2   6.75]\n",
      " [ 8.44  8.29]\n",
      " [ 9.13 10.03]\n",
      " [ 8.62  8.01]\n",
      " [ 7.91  7.5 ]]\n"
     ]
    },
    {
     "data": {
      "image/png": "[encoded data removed]",
      "text/plain": [
       "<Figure size 432x288 with 1 Axes>"
      ]
     },
     "metadata": {
      "needs_background": "light"
     },
     "output_type": "display_data"
    },
    {
     "name": "stdout",
     "output_type": "stream",
     "text": [
      "MSE:  0.8483617272727257\n",
      "R2 Score:  0.7192259769345316\n",
      "Predicted KK/9 in 2021:  [7.91]\n"
     ]
    }
   ],
   "source": [
    "#import data\n",
    "col_list = [\"Age\", \"K/9\"]\n",
    "dataset = pd.read_csv('PadresRelievers.csv', usecols=col_list)\n",
    "X = dataset.iloc[4:15, :-1].values\n",
    "y = dataset.iloc[4:15, -1].values\n",
    "\n",
    "from sklearn.model_selection import train_test_split\n",
    "X_train = X\n",
    "X_test = X\n",
    "y_train = y\n",
    "y_test = y\n",
    "\n",
    "from sklearn.ensemble import RandomForestRegressor\n",
    "regressor = RandomForestRegressor(n_estimators = 10, random_state = 0)\n",
    "regressor.fit(X_train, y_train)\n",
    "\n",
    "y_pred = regressor.predict(X_test)\n",
    "np.set_printoptions(precision=2)\n",
    "print(np.concatenate((y_pred.reshape(len(y_pred),1), y_test.reshape(len(y_test),1)),1))\n",
    "\n",
    "X_grid = np.arange(min(X), max(X), 0.01)\n",
    "X_grid = X_grid.reshape((len(X_grid), 1))\n",
    "plt.scatter(X, y, color = 'red')\n",
    "plt.plot(X_grid, regressor.predict(X_grid), color = 'blue')\n",
    "plt.title('K/9 (Random Forest Regression)')\n",
    "plt.xlabel('Age')\n",
    "plt.ylabel('K/9')\n",
    "plt.show()\n",
    "\n",
    "#reshape y \n",
    "y = y.reshape(len(y),1)\n",
    "\n",
    "from sklearn.metrics import mean_squared_error\n",
    "print(\"MSE: \" , mean_squared_error(y_test, y_pred))\n",
    "\n",
    "from sklearn.metrics import r2_score\n",
    "print(\"R2 Score: \" , r2_score(y_test, y_pred))\n",
    "\n",
    "print(\"Predicted KK/9 in 2021: \" ,regressor.predict([[37]]))"
   ]
  },
  {
   "cell_type": "code",
   "execution_count": 16,
   "metadata": {},
   "outputs": [
    {
     "name": "stdout",
     "output_type": "stream",
     "text": [
      "[[2.21 2.04]\n",
      " [2.71 2.88]\n",
      " [3.12 3.48]\n",
      " [3.51 3.67]\n",
      " [3.12 2.98]\n",
      " [2.68 1.73]\n",
      " [3.5  6.75]\n",
      " [2.87 3.14]\n",
      " [2.39 1.94]\n",
      " [1.74 1.65]\n",
      " [1.59 1.5 ]]\n"
     ]
    },
    {
     "data": {
      "image/png": "[encoded data removed]",
      "text/plain": [
       "<Figure size 432x288 with 1 Axes>"
      ]
     },
     "metadata": {
      "needs_background": "light"
     },
     "output_type": "display_data"
    },
    {
     "name": "stdout",
     "output_type": "stream",
     "text": [
      "MSE:  1.0877648181818182\n",
      "R2 Score:  0.46504210338924346\n",
      "Predicted BB/9 in 2021:  [1.59]\n"
     ]
    }
   ],
   "source": [
    "#import data\n",
    "col_list = [\"Age\", \"BB/9\"]\n",
    "dataset = pd.read_csv('PadresRelievers.csv', usecols=col_list)\n",
    "X = dataset.iloc[4:15, :-1].values\n",
    "y = dataset.iloc[4:15, -1].values\n",
    "\n",
    "from sklearn.model_selection import train_test_split\n",
    "X_train = X\n",
    "X_test = X\n",
    "y_train = y\n",
    "y_test = y\n",
    "\n",
    "from sklearn.ensemble import RandomForestRegressor\n",
    "regressor = RandomForestRegressor(n_estimators = 10, random_state = 0)\n",
    "regressor.fit(X_train, y_train)\n",
    "\n",
    "y_pred = regressor.predict(X_test)\n",
    "np.set_printoptions(precision=2)\n",
    "print(np.concatenate((y_pred.reshape(len(y_pred),1), y_test.reshape(len(y_test),1)),1))\n",
    "\n",
    "X_grid = np.arange(min(X), max(X), 0.01)\n",
    "X_grid = X_grid.reshape((len(X_grid), 1))\n",
    "plt.scatter(X, y, color = 'red')\n",
    "plt.plot(X_grid, regressor.predict(X_grid), color = 'blue')\n",
    "plt.title('BB/9 (Random Forest Regression)')\n",
    "plt.xlabel('Age')\n",
    "plt.ylabel('BB/9')\n",
    "plt.show()\n",
    "\n",
    "#reshape y \n",
    "y = y.reshape(len(y),1)\n",
    "\n",
    "from sklearn.metrics import mean_squared_error\n",
    "print(\"MSE: \" , mean_squared_error(y_test, y_pred))\n",
    "\n",
    "from sklearn.metrics import r2_score\n",
    "print(\"R2 Score: \" , r2_score(y_test, y_pred))\n",
    "\n",
    "print(\"Predicted BB/9 in 2021: \" ,regressor.predict([[37]]))"
   ]
  },
  {
   "cell_type": "code",
   "execution_count": null,
   "metadata": {},
   "outputs": [],
   "source": []
  }
 ],
 "metadata": {
  "kernelspec": {
   "display_name": "Python 3",
   "language": "python",
   "name": "python3"
  },
  "language_info": {
   "codemirror_mode": {
    "name": "ipython",
    "version": 3
   },
   "file_extension": ".py",
   "mimetype": "text/x-python",
   "name": "python",
   "nbconvert_exporter": "python",
   "pygments_lexer": "ipython3",
   "version": "3.8.3"
  }
 },
 "nbformat": 4,
 "nbformat_minor": 4
}
