{
 "cells": [
  {
   "cell_type": "code",
   "execution_count": 1,
   "metadata": {},
   "outputs": [
    {
     "name": "stdout",
     "output_type": "stream",
     "text": [
      "[['Miguel Diaz' 22]\n",
      " ['Miguel Diaz' 23]\n",
      " ['Miguel Diaz' 24]]\n"
     ]
    }
   ],
   "source": [
    "#import packages\n",
    "import numpy as np\n",
    "import matplotlib.pyplot as plt\n",
    "import pandas as pd\n",
    "\n",
    "#import data\n",
    "col_list = [\"Name\",\"Age\", \"ERA\"]\n",
    "dataset = pd.read_csv('PadresRelievers.csv', usecols=col_list)\n",
    "X = dataset.iloc[47:50, :-1].values\n",
    "y = dataset.iloc[47:50, -1].values\n",
    "\n",
    "print(X)"
   ]
  },
  {
   "cell_type": "code",
   "execution_count": 2,
   "metadata": {},
   "outputs": [
    {
     "name": "stdout",
     "output_type": "stream",
     "text": [
      "ERA for 2021:  [6.8932342]\n",
      "[[7.226 7.34 ]\n",
      " [5.911 4.82 ]\n",
      " [6.996 7.11 ]]\n",
      "MSE:  0.40544969374287954\n",
      "R2 Score:  0.6867071411915178\n"
     ]
    },
    {
     "name": "stderr",
     "output_type": "stream",
     "text": [
      "/opt/anaconda3/lib/python3.8/site-packages/sklearn/utils/validation.py:63: DataConversionWarning: A column-vector y was passed when a 1d array was expected. Please change the shape of y to (n_samples, ), for example using ravel().\n",
      "  return f(*args, **kwargs)\n"
     ]
    },
    {
     "data": {
      "image/png": "[encoded data removed]",
      "text/plain": [
       "<Figure size 432x288 with 1 Axes>"
      ]
     },
     "metadata": {
      "needs_background": "light"
     },
     "output_type": "display_data"
    }
   ],
   "source": [
    "#import data\n",
    "col_list = [\"Age\", \"ERA\"]\n",
    "dataset = pd.read_csv('PadresRelievers.csv', usecols=col_list)\n",
    "X = dataset.iloc[47:50, :-1].values\n",
    "y = dataset.iloc[47:50, -1].values\n",
    "\n",
    "y_train = y\n",
    "y_test = y\n",
    "X_test = X\n",
    "X_train = X\n",
    "\n",
    "#reshape y \n",
    "y = y.reshape(len(y),1)\n",
    "\n",
    "#Feature scaling the data\n",
    "from sklearn.preprocessing import StandardScaler\n",
    "sc_X = StandardScaler()\n",
    "sc_y = StandardScaler()\n",
    "X = sc_X.fit_transform(X)\n",
    "y = sc_y.fit_transform(y)\n",
    "\n",
    "#Train the SVR\n",
    "from sklearn.svm import SVR\n",
    "regressor = SVR(kernel = 'rbf')\n",
    "regressor.fit(X, y)\n",
    "\n",
    "#Predict a new result\n",
    "print(\"ERA for 2021: \", sc_y.inverse_transform(regressor.predict(sc_X.transform([[25]]))))\n",
    "\n",
    "y_pred = sc_y.inverse_transform(regressor.predict(sc_X.transform(X_test)))\n",
    "np.set_printoptions(precision=3)\n",
    "print(np.concatenate((y_pred.reshape(len(y_pred),1), y_test.reshape(len(y_test),1)),1))\n",
    "\n",
    "from sklearn.metrics import mean_squared_error\n",
    "print(\"MSE: \" , mean_squared_error(y_test, y_pred))\n",
    "\n",
    "from sklearn.metrics import r2_score\n",
    "print(\"R2 Score: \" , r2_score(y_test, y_pred))\n",
    "\n",
    "\n",
    "X_grid = np.arange(min(sc_X.inverse_transform(X)), max(sc_X.inverse_transform(X)), 0.1)\n",
    "X_grid = X_grid.reshape((len(X_grid), 1))\n",
    "plt.scatter(sc_X.inverse_transform(X), sc_y.inverse_transform(y), color = 'red')\n",
    "plt.plot(X_grid, sc_y.inverse_transform(regressor.predict(sc_X.transform(X_grid))), color = 'blue')\n",
    "plt.title('ERA (SVR)')\n",
    "plt.xlabel('Age')\n",
    "plt.ylabel('ERA')\n",
    "plt.show()"
   ]
  },
  {
   "cell_type": "code",
   "execution_count": 3,
   "metadata": {},
   "outputs": [
    {
     "name": "stdout",
     "output_type": "stream",
     "text": [
      "WHIP for 2021:  [1.594]\n",
      "[[1.645 1.66 ]\n",
      " [1.544 1.5  ]\n",
      " [1.58  1.58 ]]\n",
      "MSE:  0.0007090605240475121\n",
      "R2 Score:  0.8338139396763642\n"
     ]
    },
    {
     "name": "stderr",
     "output_type": "stream",
     "text": [
      "/opt/anaconda3/lib/python3.8/site-packages/sklearn/utils/validation.py:63: DataConversionWarning: A column-vector y was passed when a 1d array was expected. Please change the shape of y to (n_samples, ), for example using ravel().\n",
      "  return f(*args, **kwargs)\n"
     ]
    },
    {
     "data": {
      "image/png": "[encoded data removed]",
      "text/plain": [
       "<Figure size 432x288 with 1 Axes>"
      ]
     },
     "metadata": {
      "needs_background": "light"
     },
     "output_type": "display_data"
    }
   ],
   "source": [
    "#import data\n",
    "col_list = [\"Age\", \"WHIP\"]\n",
    "dataset = pd.read_csv('PadresRelievers.csv', usecols=col_list)\n",
    "X = dataset.iloc[47:50, :-1].values\n",
    "y = dataset.iloc[47:50, -1].values\n",
    "y_train = y\n",
    "y_test = y\n",
    "X_test = X\n",
    "X_train = X\n",
    "\n",
    "#reshape y \n",
    "y = y.reshape(len(y),1)\n",
    "\n",
    "#Feature scaling the data\n",
    "from sklearn.preprocessing import StandardScaler\n",
    "sc_X = StandardScaler()\n",
    "sc_y = StandardScaler()\n",
    "X = sc_X.fit_transform(X)\n",
    "y = sc_y.fit_transform(y)\n",
    "\n",
    "#Train the SVR\n",
    "from sklearn.svm import SVR\n",
    "regressor = SVR(kernel = 'rbf')\n",
    "regressor.fit(X, y)\n",
    "\n",
    "#Predict a new result\n",
    "print(\"WHIP for 2021: \", sc_y.inverse_transform(regressor.predict(sc_X.transform([[25]]))))\n",
    "\n",
    "y_pred = sc_y.inverse_transform(regressor.predict(sc_X.transform(X_test)))\n",
    "np.set_printoptions(precision=3)\n",
    "print(np.concatenate((y_pred.reshape(len(y_pred),1), y_test.reshape(len(y_test),1)),1))\n",
    "\n",
    "from sklearn.metrics import mean_squared_error\n",
    "print(\"MSE: \" , mean_squared_error(y_test, y_pred))\n",
    "\n",
    "from sklearn.metrics import r2_score\n",
    "print(\"R2 Score: \" , r2_score(y_test, y_pred))\n",
    "\n",
    "\n",
    "X_grid = np.arange(min(sc_X.inverse_transform(X)), max(sc_X.inverse_transform(X)), 0.1)\n",
    "X_grid = X_grid.reshape((len(X_grid), 1))\n",
    "plt.scatter(sc_X.inverse_transform(X), sc_y.inverse_transform(y), color = 'red')\n",
    "plt.plot(X_grid, sc_y.inverse_transform(regressor.predict(sc_X.transform(X_grid))), color = 'blue')\n",
    "plt.title('WHIP (SVR)')\n",
    "plt.xlabel('Age')\n",
    "plt.ylabel('WHIP')\n",
    "plt.show()"
   ]
  },
  {
   "cell_type": "code",
   "execution_count": 4,
   "metadata": {},
   "outputs": [
    {
     "name": "stdout",
     "output_type": "stream",
     "text": [
      "AVG for 2021:  [0.291]\n",
      "[[0.268 0.268]\n",
      " [0.239 0.219]\n",
      " [0.32  0.346]]\n",
      "MSE:  0.0003546173280355749\n",
      "R2 Score:  0.8703357458226956\n"
     ]
    },
    {
     "name": "stderr",
     "output_type": "stream",
     "text": [
      "/opt/anaconda3/lib/python3.8/site-packages/sklearn/utils/validation.py:63: DataConversionWarning: A column-vector y was passed when a 1d array was expected. Please change the shape of y to (n_samples, ), for example using ravel().\n",
      "  return f(*args, **kwargs)\n"
     ]
    },
    {
     "data": {
      "image/png": "[encoded data removed]",
      "text/plain": [
       "<Figure size 432x288 with 1 Axes>"
      ]
     },
     "metadata": {
      "needs_background": "light"
     },
     "output_type": "display_data"
    }
   ],
   "source": [
    "#import data\n",
    "col_list = [\"Age\", \"AVG\"]\n",
    "dataset = pd.read_csv('PadresRelievers.csv', usecols=col_list)\n",
    "X = dataset.iloc[47:50, :-1].values\n",
    "y = dataset.iloc[47:50, -1].values\n",
    "y_train = y\n",
    "y_test = y\n",
    "X_test = X\n",
    "X_train = X\n",
    "\n",
    "#reshape y \n",
    "y = y.reshape(len(y),1)\n",
    "\n",
    "#Feature scaling the data\n",
    "from sklearn.preprocessing import StandardScaler\n",
    "sc_X = StandardScaler()\n",
    "sc_y = StandardScaler()\n",
    "X = sc_X.fit_transform(X)\n",
    "y = sc_y.fit_transform(y)\n",
    "\n",
    "#Train the SVR\n",
    "from sklearn.svm import SVR\n",
    "regressor = SVR(kernel = 'rbf')\n",
    "regressor.fit(X, y)\n",
    "\n",
    "#Predict a new result\n",
    "print(\"AVG for 2021: \", sc_y.inverse_transform(regressor.predict(sc_X.transform([[25]]))))\n",
    "\n",
    "y_pred = sc_y.inverse_transform(regressor.predict(sc_X.transform(X_test)))\n",
    "np.set_printoptions(precision=3)\n",
    "print(np.concatenate((y_pred.reshape(len(y_pred),1), y_test.reshape(len(y_test),1)),1))\n",
    "\n",
    "from sklearn.metrics import mean_squared_error\n",
    "print(\"MSE: \" , mean_squared_error(y_test, y_pred))\n",
    "\n",
    "from sklearn.metrics import r2_score\n",
    "print(\"R2 Score: \" , r2_score(y_test, y_pred))\n",
    "\n",
    "X_grid = np.arange(min(sc_X.inverse_transform(X)), max(sc_X.inverse_transform(X)), 0.1)\n",
    "X_grid = X_grid.reshape((len(X_grid), 1))\n",
    "plt.scatter(sc_X.inverse_transform(X), sc_y.inverse_transform(y), color = 'red')\n",
    "plt.plot(X_grid, sc_y.inverse_transform(regressor.predict(sc_X.transform(X_grid))), color = 'blue')\n",
    "plt.title('AVG (SVR)')\n",
    "plt.xlabel('Age')\n",
    "plt.ylabel('AVG')\n",
    "plt.show()"
   ]
  },
  {
   "cell_type": "code",
   "execution_count": 5,
   "metadata": {},
   "outputs": [
    {
     "name": "stdout",
     "output_type": "stream",
     "text": [
      "K/9 for 2021:  [7.277]\n",
      "[[ 7.514  7.13 ]\n",
      " [10.844 14.46 ]\n",
      " [ 6.064  5.68 ]]\n",
      "MSE:  4.45786729404277\n",
      "R2 Score:  0.6981577940503603\n"
     ]
    },
    {
     "name": "stderr",
     "output_type": "stream",
     "text": [
      "/opt/anaconda3/lib/python3.8/site-packages/sklearn/utils/validation.py:63: DataConversionWarning: A column-vector y was passed when a 1d array was expected. Please change the shape of y to (n_samples, ), for example using ravel().\n",
      "  return f(*args, **kwargs)\n"
     ]
    },
    {
     "data": {
      "image/png": "[encoded data removed]",
      "text/plain": [
       "<Figure size 432x288 with 1 Axes>"
      ]
     },
     "metadata": {
      "needs_background": "light"
     },
     "output_type": "display_data"
    }
   ],
   "source": [
    "#import data\n",
    "col_list = [\"Age\", \"K/9\"]\n",
    "dataset = pd.read_csv('PadresRelievers.csv', usecols=col_list)\n",
    "X = dataset.iloc[47:50, :-1].values\n",
    "y = dataset.iloc[47:50, -1].values\n",
    "\n",
    "y_train = y\n",
    "y_test = y\n",
    "X_test = X\n",
    "X_train = X\n",
    "\n",
    "#reshape y \n",
    "y = y.reshape(len(y),1)\n",
    "\n",
    "#Feature scaling the data\n",
    "from sklearn.preprocessing import StandardScaler\n",
    "sc_X = StandardScaler()\n",
    "sc_y = StandardScaler()\n",
    "X = sc_X.fit_transform(X)\n",
    "y = sc_y.fit_transform(y)\n",
    "\n",
    "#Train the SVR\n",
    "from sklearn.svm import SVR\n",
    "regressor = SVR(kernel = 'rbf')\n",
    "regressor.fit(X, y)\n",
    "\n",
    "#Predict a new result\n",
    "print(\"K/9 for 2021: \", sc_y.inverse_transform(regressor.predict(sc_X.transform([[25]]))))\n",
    "\n",
    "y_pred = sc_y.inverse_transform(regressor.predict(sc_X.transform(X_test)))\n",
    "np.set_printoptions(precision=3)\n",
    "print(np.concatenate((y_pred.reshape(len(y_pred),1), y_test.reshape(len(y_test),1)),1))\n",
    "\n",
    "from sklearn.metrics import mean_squared_error\n",
    "print(\"MSE: \" , mean_squared_error(y_test, y_pred))\n",
    "\n",
    "from sklearn.metrics import r2_score\n",
    "print(\"R2 Score: \" , r2_score(y_test, y_pred))\n",
    "\n",
    "\n",
    "X_grid = np.arange(min(sc_X.inverse_transform(X)), max(sc_X.inverse_transform(X)), 0.1)\n",
    "X_grid = X_grid.reshape((len(X_grid), 1))\n",
    "plt.scatter(sc_X.inverse_transform(X), sc_y.inverse_transform(y), color = 'red')\n",
    "plt.plot(X_grid, sc_y.inverse_transform(regressor.predict(sc_X.transform(X_grid))), color = 'blue')\n",
    "plt.title('K/9 (SVR)')\n",
    "plt.xlabel('Age')\n",
    "plt.ylabel('K/9')\n",
    "plt.show()"
   ]
  },
  {
   "cell_type": "code",
   "execution_count": 6,
   "metadata": {},
   "outputs": [
    {
     "name": "stdout",
     "output_type": "stream",
     "text": [
      " BB/9 for 2021:  [3.976]\n",
      "[[5.203 5.4  ]\n",
      " [5.593 5.79 ]\n",
      " [2.778 1.42 ]]\n",
      "MSE:  0.6408701610605484\n",
      "R2 Score:  0.8356246772659284\n"
     ]
    },
    {
     "name": "stderr",
     "output_type": "stream",
     "text": [
      "/opt/anaconda3/lib/python3.8/site-packages/sklearn/utils/validation.py:63: DataConversionWarning: A column-vector y was passed when a 1d array was expected. Please change the shape of y to (n_samples, ), for example using ravel().\n",
      "  return f(*args, **kwargs)\n"
     ]
    },
    {
     "data": {
      "image/png": "[encoded data removed]",
      "text/plain": [
       "<Figure size 432x288 with 1 Axes>"
      ]
     },
     "metadata": {
      "needs_background": "light"
     },
     "output_type": "display_data"
    }
   ],
   "source": [
    "#import data\n",
    "col_list = [\"Age\", \"BB/9\"]\n",
    "dataset = pd.read_csv('PadresRelievers.csv', usecols=col_list)\n",
    "X = dataset.iloc[47:50, :-1].values\n",
    "y = dataset.iloc[47:50, -1].values\n",
    "\n",
    "y_train = y\n",
    "y_test = y\n",
    "X_test = X\n",
    "X_train = X\n",
    "\n",
    "#reshape y \n",
    "y = y.reshape(len(y),1)\n",
    "\n",
    "#Feature scaling the data\n",
    "from sklearn.preprocessing import StandardScaler\n",
    "sc_X = StandardScaler()\n",
    "sc_y = StandardScaler()\n",
    "X = sc_X.fit_transform(X)\n",
    "y = sc_y.fit_transform(y)\n",
    "\n",
    "#Train the SVR\n",
    "from sklearn.svm import SVR\n",
    "regressor = SVR(kernel = 'rbf')\n",
    "regressor.fit(X, y)\n",
    "\n",
    "#Predict a new result\n",
    "print(\" BB/9 for 2021: \", sc_y.inverse_transform(regressor.predict(sc_X.transform([[25]]))))\n",
    "\n",
    "\n",
    "y_pred = sc_y.inverse_transform(regressor.predict(sc_X.transform(X_test)))\n",
    "np.set_printoptions(precision=3)\n",
    "print(np.concatenate((y_pred.reshape(len(y_pred),1), y_test.reshape(len(y_test),1)),1))\n",
    "\n",
    "from sklearn.metrics import mean_squared_error\n",
    "print(\"MSE: \" , mean_squared_error(y_test, y_pred))\n",
    "\n",
    "from sklearn.metrics import r2_score\n",
    "print(\"R2 Score: \" , r2_score(y_test, y_pred))\n",
    "\n",
    "\n",
    "X_grid = np.arange(min(sc_X.inverse_transform(X)), max(sc_X.inverse_transform(X)), 0.1)\n",
    "X_grid = X_grid.reshape((len(X_grid), 1))\n",
    "plt.scatter(sc_X.inverse_transform(X), sc_y.inverse_transform(y), color = 'red')\n",
    "plt.plot(X_grid, sc_y.inverse_transform(regressor.predict(sc_X.transform(X_grid))), color = 'blue')\n",
    "plt.title('BB/9 (SVR)')\n",
    "plt.xlabel('Age')\n",
    "plt.ylabel('BB/9')\n",
    "plt.show()"
   ]
  },
  {
   "cell_type": "code",
   "execution_count": 7,
   "metadata": {},
   "outputs": [
    {
     "name": "stdout",
     "output_type": "stream",
     "text": [
      " ADJ_IP for 2021:  [17.962]\n",
      "[[35.045 41.2  ]\n",
      " [19.656 18.2  ]\n",
      " [ 7.556  6.1  ]]\n",
      "MSE:  14.041989332588388\n",
      "R2 Score:  0.9337440605669987\n"
     ]
    },
    {
     "name": "stderr",
     "output_type": "stream",
     "text": [
      "/opt/anaconda3/lib/python3.8/site-packages/sklearn/utils/validation.py:63: DataConversionWarning: A column-vector y was passed when a 1d array was expected. Please change the shape of y to (n_samples, ), for example using ravel().\n",
      "  return f(*args, **kwargs)\n"
     ]
    },
    {
     "data": {
      "image/png": "[encoded data removed]",
      "text/plain": [
       "<Figure size 432x288 with 1 Axes>"
      ]
     },
     "metadata": {
      "needs_background": "light"
     },
     "output_type": "display_data"
    }
   ],
   "source": [
    "#import data\n",
    "col_list = [\"Age\", \"ADJ_IP\"]\n",
    "dataset = pd.read_csv('PadresRelievers.csv', usecols=col_list)\n",
    "X = dataset.iloc[47:50, :-1].values\n",
    "y = dataset.iloc[47:50, -1].values\n",
    "\n",
    "y_train = y\n",
    "y_test = y\n",
    "X_test = X\n",
    "X_train = X\n",
    "\n",
    "#reshape y \n",
    "y = y.reshape(len(y),1)\n",
    "\n",
    "#Feature scaling the data\n",
    "from sklearn.preprocessing import StandardScaler\n",
    "sc_X = StandardScaler()\n",
    "sc_y = StandardScaler()\n",
    "X = sc_X.fit_transform(X)\n",
    "y = sc_y.fit_transform(y)\n",
    "\n",
    "#Train the SVR\n",
    "from sklearn.svm import SVR\n",
    "regressor = SVR(kernel = 'rbf')\n",
    "regressor.fit(X, y)\n",
    "\n",
    "#Predict a new result\n",
    "print(\" ADJ_IP for 2021: \", sc_y.inverse_transform(regressor.predict(sc_X.transform([[25]]))))\n",
    "\n",
    "\n",
    "y_pred = sc_y.inverse_transform(regressor.predict(sc_X.transform(X_test)))\n",
    "np.set_printoptions(precision=3)\n",
    "print(np.concatenate((y_pred.reshape(len(y_pred),1), y_test.reshape(len(y_test),1)),1))\n",
    "\n",
    "from sklearn.metrics import mean_squared_error\n",
    "print(\"MSE: \" , mean_squared_error(y_test, y_pred))\n",
    "\n",
    "from sklearn.metrics import r2_score\n",
    "print(\"R2 Score: \" , r2_score(y_test, y_pred))\n",
    "\n",
    "\n",
    "X_grid = np.arange(min(sc_X.inverse_transform(X)), max(sc_X.inverse_transform(X)), 0.1)\n",
    "X_grid = X_grid.reshape((len(X_grid), 1))\n",
    "plt.scatter(sc_X.inverse_transform(X), sc_y.inverse_transform(y), color = 'red')\n",
    "plt.plot(X_grid, sc_y.inverse_transform(regressor.predict(sc_X.transform(X_grid))), color = 'blue')\n",
    "plt.title('ADJ_IP (SVR)')\n",
    "plt.xlabel('Age')\n",
    "plt.ylabel('ADJ_IP')\n",
    "plt.show()"
   ]
  },
  {
   "cell_type": "code",
   "execution_count": 8,
   "metadata": {},
   "outputs": [
    {
     "name": "stdout",
     "output_type": "stream",
     "text": [
      " ADJ_GS for 2021:  [0.732]\n",
      "[[2.057 3.   ]\n",
      " [0.141 0.   ]\n",
      " [0.141 0.   ]]\n",
      "MSE:  0.30965887796011743\n",
      "R2 Score:  0.8451705610199413\n"
     ]
    },
    {
     "name": "stderr",
     "output_type": "stream",
     "text": [
      "/opt/anaconda3/lib/python3.8/site-packages/sklearn/utils/validation.py:63: DataConversionWarning: A column-vector y was passed when a 1d array was expected. Please change the shape of y to (n_samples, ), for example using ravel().\n",
      "  return f(*args, **kwargs)\n"
     ]
    },
    {
     "data": {
      "image/png": "[encoded data removed]",
      "text/plain": [
       "<Figure size 432x288 with 1 Axes>"
      ]
     },
     "metadata": {
      "needs_background": "light"
     },
     "output_type": "display_data"
    }
   ],
   "source": [
    "#import data\n",
    "col_list = [\"Age\", \"GS\"]\n",
    "dataset = pd.read_csv('PadresRelievers.csv', usecols=col_list)\n",
    "X = dataset.iloc[47:50, :-1].values\n",
    "y = dataset.iloc[47:50, -1].values\n",
    "y_train = y\n",
    "y_test = y\n",
    "X_test = X\n",
    "X_train = X\n",
    "\n",
    "#reshape y \n",
    "y = y.reshape(len(y),1)\n",
    "\n",
    "#Feature scaling the data\n",
    "from sklearn.preprocessing import StandardScaler\n",
    "sc_X = StandardScaler()\n",
    "sc_y = StandardScaler()\n",
    "X = sc_X.fit_transform(X)\n",
    "y = sc_y.fit_transform(y)\n",
    "\n",
    "#Train the SVR\n",
    "from sklearn.svm import SVR\n",
    "regressor = SVR(kernel = 'rbf')\n",
    "regressor.fit(X, y)\n",
    "\n",
    "#Predict a new result\n",
    "print(\" ADJ_GS for 2021: \", sc_y.inverse_transform(regressor.predict(sc_X.transform([[25]]))))\n",
    "\n",
    "\n",
    "y_pred = sc_y.inverse_transform(regressor.predict(sc_X.transform(X_test)))\n",
    "np.set_printoptions(precision=3)\n",
    "print(np.concatenate((y_pred.reshape(len(y_pred),1), y_test.reshape(len(y_test),1)),1))\n",
    "\n",
    "from sklearn.metrics import mean_squared_error\n",
    "print(\"MSE: \" , mean_squared_error(y_test, y_pred))\n",
    "\n",
    "from sklearn.metrics import r2_score\n",
    "print(\"R2 Score: \" , r2_score(y_test, y_pred))\n",
    "\n",
    "\n",
    "X_grid = np.arange(min(sc_X.inverse_transform(X)), max(sc_X.inverse_transform(X)), 0.1)\n",
    "X_grid = X_grid.reshape((len(X_grid), 1))\n",
    "plt.scatter(sc_X.inverse_transform(X), sc_y.inverse_transform(y), color = 'red')\n",
    "plt.plot(X_grid, sc_y.inverse_transform(regressor.predict(sc_X.transform(X_grid))), color = 'blue')\n",
    "plt.title('GS (SVR)')\n",
    "plt.xlabel('Age')\n",
    "plt.ylabel('GS')\n",
    "plt.show()"
   ]
  },
  {
   "cell_type": "code",
   "execution_count": null,
   "metadata": {},
   "outputs": [],
   "source": []
  }
 ],
 "metadata": {
  "kernelspec": {
   "display_name": "Python 3",
   "language": "python",
   "name": "python3"
  },
  "language_info": {
   "codemirror_mode": {
    "name": "ipython",
    "version": 3
   },
   "file_extension": ".py",
   "mimetype": "text/x-python",
   "name": "python",
   "nbconvert_exporter": "python",
   "pygments_lexer": "ipython3",
   "version": "3.8.3"
  }
 },
 "nbformat": 4,
 "nbformat_minor": 4
}
