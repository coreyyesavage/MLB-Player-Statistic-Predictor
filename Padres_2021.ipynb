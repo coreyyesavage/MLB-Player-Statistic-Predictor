{
 "cells": [
  {
   "cell_type": "markdown",
   "metadata": {
    "colab_type": "text",
    "id": "lP6JLo1tGNBg"
   },
   "source": [
    "# Artificial Neural Network"
   ]
  },
  {
   "cell_type": "markdown",
   "metadata": {
    "colab_type": "text",
    "id": "gWZyYmS_UE_L"
   },
   "source": [
    "### Importing the libraries"
   ]
  },
  {
   "cell_type": "code",
   "execution_count": 2,
   "metadata": {
    "colab": {},
    "colab_type": "code",
    "id": "MxkJoQBkUIHC"
   },
   "outputs": [],
   "source": [
    "import numpy as np\n",
    "import pandas as pd\n",
    "import tensorflow as tf"
   ]
  },
  {
   "cell_type": "code",
   "execution_count": 3,
   "metadata": {
    "colab": {
     "base_uri": "https://localhost:8080/",
     "height": 34
    },
    "colab_type": "code",
    "id": "ZaTwK7ojXr2F",
    "outputId": "0b27a96d-d11a-43e8-ab4b-87c1f01896fe"
   },
   "outputs": [
    {
     "data": {
      "text/plain": [
       "'2.3.0'"
      ]
     },
     "execution_count": 3,
     "metadata": {},
     "output_type": "execute_result"
    }
   ],
   "source": [
    "tf.__version__"
   ]
  },
  {
   "cell_type": "markdown",
   "metadata": {
    "colab_type": "text",
    "id": "1E0Q3aoKUCRX"
   },
   "source": [
    "## Part 1 - Data Preprocessing"
   ]
  },
  {
   "cell_type": "markdown",
   "metadata": {
    "colab_type": "text",
    "id": "cKWAkFVGUU0Z"
   },
   "source": [
    "### Importing the dataset"
   ]
  },
  {
   "cell_type": "code",
   "execution_count": 21,
   "metadata": {
    "colab": {},
    "colab_type": "code",
    "id": "MXUkhkMfU4wq"
   },
   "outputs": [],
   "source": [
    "dataset = pd.read_csv('TeamData.csv')\n",
    "X = dataset.iloc[:822, 3:9].values\n",
    "y = dataset.iloc[:822, -1].values"
   ]
  },
  {
   "cell_type": "code",
   "execution_count": 22,
   "metadata": {
    "colab": {
     "base_uri": "https://localhost:8080/",
     "height": 137
    },
    "colab_type": "code",
    "id": "VYP9cQTWbzuI",
    "outputId": "797e7a64-9bac-436a-8c9c-94437e5e7587"
   },
   "outputs": [
    {
     "name": "stdout",
     "output_type": "stream",
     "text": [
      "[[1.62e+02 8.13e+02 7.43e+02 3.23e-01 4.34e-01 2.52e-01]\n",
      " [1.62e+02 8.55e+02 7.43e+02 3.36e-01 4.52e-01 2.58e-01]\n",
      " [1.62e+02 7.29e+02 9.81e+02 3.10e-01 4.15e-01 2.46e-01]\n",
      " ...\n",
      " [1.62e+02 5.99e+02 6.98e+02 3.20e-01 3.58e-01 2.56e-01]\n",
      " [1.62e+02 6.76e+02 6.96e+02 3.31e-01 3.76e-01 2.59e-01]\n",
      " [1.62e+02 7.67e+02 6.61e+02 3.28e-01 4.19e-01 2.65e-01]]\n"
     ]
    }
   ],
   "source": [
    "print(X)"
   ]
  },
  {
   "cell_type": "code",
   "execution_count": 23,
   "metadata": {
    "colab": {
     "base_uri": "https://localhost:8080/",
     "height": 34
    },
    "colab_type": "code",
    "id": "38vKGE6Nb2RR",
    "outputId": "a815e42a-e0dd-4cb5-ab97-b17ead98fbc3"
   },
   "outputs": [
    {
     "name": "stdout",
     "output_type": "stream",
     "text": [
      "[0 1 0 0 0 0 0 0 0 0 1 0 0 1 0 1 1 0 1 1 0 0 0 0 0 1 1 0 0 1 0 1 0 1 1 0 0\n",
      " 1 1 0 1 0 0 1 0 1 0 0 1 1 0 0 0 0 0 0 0 0 0 0 1 0 0 1 1 0 0 1 1 0 1 0 0 1\n",
      " 0 0 1 0 1 0 0 0 0 0 0 0 0 0 0 1 0 0 1 1 1 0 0 1 0 0 0 0 0 1 0 0 0 1 0 0 0\n",
      " 0 0 0 1 0 0 1 1 1 0 0 0 0 1 0 0 0 0 0 1 1 0 1 0 0 0 1 1 0 0 1 0 0 0 1 0 1\n",
      " 1 0 0 0 1 0 0 0 0 0 0 1 0 1 1 1 0 0 0 0 0 1 0 1 0 0 1 1 0 0 0 1 0 1 0 1 0\n",
      " 0 1 1 0 1 0 0 0 1 0 0 0 0 0 1 0 1 0 0 0 1 1 0 0 0 0 1 1 0 0 0 1 0 0 1 0 0\n",
      " 0 0 0 0 0 0 1 1 0 0 0 0 1 1 0 1 0 1 1 0 0 0 0 0 0 0 0 1 0 0 0 0 0 1 0 0 1\n",
      " 0 1 0 0 0 0 1 1 1 0 0 0 1 0 0 0 0 1 0 0 0 0 0 0 0 0 0 1 0 1 0 1 0 0 0 1 0\n",
      " 1 1 0 0 0 0 0 1 0 0 0 0 1 0 0 0 0 1 1 0 1 0 1 0 1 0 0 0 0 1 0 0 0 0 0 0 0\n",
      " 1 1 1 0 0 0 0 0 0 0 1 1 1 0 0 0 0 1 0 0 0 0 0 1 0 0 0 1 0 0 1 1 0 0 1 1 0\n",
      " 0 0 0 1 0 0 0 0 1 0 1 0 0 0 0 0 0 0 0 0 0 0 0 0 0 0 0 0 0 1 0 0 0 0 1 0 1\n",
      " 1 1 1 0 0 1 0 0 1 0 0 0 0 0 1 0 1 0 1 0 0 0 0 0 1 0 1 0 0 0 0 1 0 0 0 1 0\n",
      " 0 1 0 0 0 0 1 0 1 0 1 0 0 0 0 0 0 0 1 0 1 0 1 0 0 1 0 0 0 0 0 0 1 0 0 0 0\n",
      " 0 1 0 1 1 0 0 0 0 0 1 0 0 0 0 1 0 0 1 1 0 0 0 0 1 0 0 0 0 1 1 1 0 0 0 0 0\n",
      " 0 0 0 0 0 0 0 0 1 0 0 1 1 0 0 0 0 1 1 0 0 0 0 1 1 0 0 0 0 0 1 0 0 0 1 0 0\n",
      " 0 0 0 0 1 1 0 0 0 1 0 1 0 0 0 0 0 1 0 0 0 1 0 0 0 0 0 0 0 0 0 0 0 1 1 1 0\n",
      " 0 0 1 1 1 0 0 0 0 1 1 0 1 0 0 0 1 0 0 0 1 0 0 0 0 0 1 1 0 0 0 0 0 0 0 0 1\n",
      " 0 0 0 1 0 1 1 0 0 1 0 0 0 1 0 0 0 0 0 0 1 0 0 0 1 0 0 0 0 1 0 0 1 1 0 0 0\n",
      " 0 1 0 0 1 1 0 0 0 0 0 0 1 0 0 0 0 1 1 0 0 0 1 1 0 0 0 0 0 1 0 0 0 0 0 1 0\n",
      " 0 0 0 1 0 0 0 1 0 0 1 1 0 1 0 0 0 0 1 0 0 0 0 0 0 0 0 0 0 0 0 0 0 1 0 0 0\n",
      " 0 0 0 1 1 0 0 0 0 0 0 0 0 0 0 0 0 0 0 0 0 1 0 1 0 0 0 0 0 1 1 0 0 0 0 0 0\n",
      " 0 0 0 0 0 0 1 0 0 0 0 0 1 0 0 0 0 0 1 0 0 1 0 0 0 1 0 0 0 0 0 0 0 0 0 0 1\n",
      " 0 1 0 0 0 0 0 0]\n"
     ]
    }
   ],
   "source": [
    "print(y)"
   ]
  },
  {
   "cell_type": "markdown",
   "metadata": {
    "colab_type": "text",
    "id": "N6bQ0UgSU-NJ"
   },
   "source": [
    "### Encoding categorical data"
   ]
  },
  {
   "cell_type": "markdown",
   "metadata": {
    "colab_type": "text",
    "id": "le5MJreAbW52"
   },
   "source": [
    "Label Encoding the \"Gender\" column"
   ]
  },
  {
   "cell_type": "markdown",
   "metadata": {
    "colab_type": "text",
    "id": "vHol938cW8zd"
   },
   "source": [
    "### Splitting the dataset into the Training set and Test set"
   ]
  },
  {
   "cell_type": "code",
   "execution_count": 24,
   "metadata": {
    "colab": {},
    "colab_type": "code",
    "id": "Z-TDt0Y_XEfc"
   },
   "outputs": [],
   "source": [
    "from sklearn.model_selection import train_test_split\n",
    "X_train, X_test, y_train, y_test = train_test_split(X, y, test_size = 0.2, random_state = 0)"
   ]
  },
  {
   "cell_type": "markdown",
   "metadata": {
    "colab_type": "text",
    "id": "RE_FcHyfV3TQ"
   },
   "source": [
    "### Feature Scaling"
   ]
  },
  {
   "cell_type": "code",
   "execution_count": 25,
   "metadata": {
    "colab": {},
    "colab_type": "code",
    "id": "ViCrE00rV8Sk"
   },
   "outputs": [],
   "source": [
    "from sklearn.preprocessing import StandardScaler\n",
    "sc = StandardScaler()\n",
    "X_train = sc.fit_transform(X_train)\n",
    "X_test = sc.transform(X_test)"
   ]
  },
  {
   "cell_type": "markdown",
   "metadata": {
    "colab_type": "text",
    "id": "-zfEzkRVXIwF"
   },
   "source": [
    "## Part 2 - Building the ANN"
   ]
  },
  {
   "cell_type": "markdown",
   "metadata": {
    "colab_type": "text",
    "id": "KvdeScabXtlB"
   },
   "source": [
    "### Initializing the ANN"
   ]
  },
  {
   "cell_type": "code",
   "execution_count": 26,
   "metadata": {
    "colab": {},
    "colab_type": "code",
    "id": "3dtrScHxXQox"
   },
   "outputs": [],
   "source": [
    "ann = tf.keras.models.Sequential()"
   ]
  },
  {
   "cell_type": "markdown",
   "metadata": {
    "colab_type": "text",
    "id": "rP6urV6SX7kS"
   },
   "source": [
    "### Adding the input layer and the first hidden layer"
   ]
  },
  {
   "cell_type": "code",
   "execution_count": 27,
   "metadata": {
    "colab": {},
    "colab_type": "code",
    "id": "bppGycBXYCQr"
   },
   "outputs": [],
   "source": [
    "ann.add(tf.keras.layers.Dense(units=7, activation='relu'))"
   ]
  },
  {
   "cell_type": "markdown",
   "metadata": {
    "colab_type": "text",
    "id": "BELWAc_8YJze"
   },
   "source": [
    "### Adding the second hidden layer"
   ]
  },
  {
   "cell_type": "code",
   "execution_count": 28,
   "metadata": {
    "colab": {},
    "colab_type": "code",
    "id": "JneR0u0sYRTd"
   },
   "outputs": [],
   "source": [
    "ann.add(tf.keras.layers.Dense(units=7, activation='relu'))"
   ]
  },
  {
   "cell_type": "markdown",
   "metadata": {
    "colab_type": "text",
    "id": "OyNEe6RXYcU4"
   },
   "source": [
    "### Adding the output layer"
   ]
  },
  {
   "cell_type": "code",
   "execution_count": 29,
   "metadata": {
    "colab": {},
    "colab_type": "code",
    "id": "Cn3x41RBYfvY"
   },
   "outputs": [],
   "source": [
    "ann.add(tf.keras.layers.Dense(units=1, activation='sigmoid'))"
   ]
  },
  {
   "cell_type": "markdown",
   "metadata": {
    "colab_type": "text",
    "id": "JT4u2S1_Y4WG"
   },
   "source": [
    "## Part 3 - Training the ANN"
   ]
  },
  {
   "cell_type": "markdown",
   "metadata": {
    "colab_type": "text",
    "id": "8GWlJChhY_ZI"
   },
   "source": [
    "### Compiling the ANN"
   ]
  },
  {
   "cell_type": "markdown",
   "metadata": {
    "colab_type": "text",
    "id": "0QR_G5u7ZLSM"
   },
   "source": [
    "### Training the ANN on the Training set"
   ]
  },
  {
   "cell_type": "code",
   "execution_count": 30,
   "metadata": {},
   "outputs": [
    {
     "ename": "AttributeError",
     "evalue": "'NoneType' object has no attribute 'learning_rate'",
     "output_type": "error",
     "traceback": [
      "\u001b[0;31m---------------------------------------------------------------------------\u001b[0m",
      "\u001b[0;31mAttributeError\u001b[0m                            Traceback (most recent call last)",
      "\u001b[0;32m<ipython-input-30-4e56e652b05c>\u001b[0m in \u001b[0;36m<module>\u001b[0;34m\u001b[0m\n\u001b[0;32m----> 1\u001b[0;31m \u001b[0mann\u001b[0m\u001b[0;34m.\u001b[0m\u001b[0moptimizer\u001b[0m\u001b[0;34m.\u001b[0m\u001b[0mlearning_rate\u001b[0m \u001b[0;34m=\u001b[0m \u001b[0;36m0.01\u001b[0m\u001b[0;34m\u001b[0m\u001b[0;34m\u001b[0m\u001b[0m\n\u001b[0m",
      "\u001b[0;31mAttributeError\u001b[0m: 'NoneType' object has no attribute 'learning_rate'"
     ]
    }
   ],
   "source": [
    "ann.optimizer.learning_rate = 0.01"
   ]
  },
  {
   "cell_type": "code",
   "execution_count": 34,
   "metadata": {
    "colab": {},
    "colab_type": "code",
    "id": "fG3RrwDXZEaS"
   },
   "outputs": [],
   "source": [
    "ann.compile(optimizer = 'adam', loss = 'binary_crossentropy', metrics = ['accuracy'])"
   ]
  },
  {
   "cell_type": "code",
   "execution_count": 35,
   "metadata": {
    "colab": {
     "base_uri": "https://localhost:8080/",
     "height": 1000
    },
    "colab_type": "code",
    "id": "nHZ-LKv_ZRb3",
    "outputId": "718cc4b0-b5aa-40f0-9b20-d3d31730a531"
   },
   "outputs": [
    {
     "name": "stdout",
     "output_type": "stream",
     "text": [
      "Epoch 1/100\n",
      "21/21 [==============================] - 0s 746us/step - loss: 0.7225 - accuracy: 0.5266\n",
      "Epoch 2/100\n",
      "21/21 [==============================] - 0s 768us/step - loss: 0.6840 - accuracy: 0.7002\n",
      "Epoch 3/100\n",
      "21/21 [==============================] - 0s 851us/step - loss: 0.6504 - accuracy: 0.7960\n",
      "Epoch 4/100\n",
      "21/21 [==============================] - 0s 986us/step - loss: 0.6137 - accuracy: 0.8128\n",
      "Epoch 5/100\n",
      "21/21 [==============================] - 0s 905us/step - loss: 0.5752 - accuracy: 0.8128\n",
      "Epoch 6/100\n",
      "21/21 [==============================] - 0s 665us/step - loss: 0.5349 - accuracy: 0.8189\n",
      "Epoch 7/100\n",
      "21/21 [==============================] - 0s 905us/step - loss: 0.4955 - accuracy: 0.8158\n",
      "Epoch 8/100\n",
      "21/21 [==============================] - 0s 921us/step - loss: 0.4625 - accuracy: 0.8265\n",
      "Epoch 9/100\n",
      "21/21 [==============================] - 0s 841us/step - loss: 0.4344 - accuracy: 0.8371\n",
      "Epoch 10/100\n",
      "21/21 [==============================] - 0s 915us/step - loss: 0.4113 - accuracy: 0.8387\n",
      "Epoch 11/100\n",
      "21/21 [==============================] - 0s 922us/step - loss: 0.3914 - accuracy: 0.8356\n",
      "Epoch 12/100\n",
      "21/21 [==============================] - 0s 977us/step - loss: 0.3754 - accuracy: 0.8508\n",
      "Epoch 13/100\n",
      "21/21 [==============================] - 0s 725us/step - loss: 0.3612 - accuracy: 0.8524\n",
      "Epoch 14/100\n",
      "21/21 [==============================] - 0s 891us/step - loss: 0.3491 - accuracy: 0.8524\n",
      "Epoch 15/100\n",
      "21/21 [==============================] - 0s 1ms/step - loss: 0.3378 - accuracy: 0.8615\n",
      "Epoch 16/100\n",
      "21/21 [==============================] - 0s 760us/step - loss: 0.3283 - accuracy: 0.8706\n",
      "Epoch 17/100\n",
      "21/21 [==============================] - 0s 927us/step - loss: 0.3197 - accuracy: 0.8782\n",
      "Epoch 18/100\n",
      "21/21 [==============================] - 0s 1ms/step - loss: 0.3122 - accuracy: 0.8828\n",
      "Epoch 19/100\n",
      "21/21 [==============================] - 0s 1ms/step - loss: 0.3065 - accuracy: 0.8782\n",
      "Epoch 20/100\n",
      "21/21 [==============================] - 0s 823us/step - loss: 0.3003 - accuracy: 0.8843\n",
      "Epoch 21/100\n",
      "21/21 [==============================] - 0s 985us/step - loss: 0.2945 - accuracy: 0.8828\n",
      "Epoch 22/100\n",
      "21/21 [==============================] - 0s 745us/step - loss: 0.2902 - accuracy: 0.8828\n",
      "Epoch 23/100\n",
      "21/21 [==============================] - 0s 895us/step - loss: 0.2865 - accuracy: 0.8843\n",
      "Epoch 24/100\n",
      "21/21 [==============================] - 0s 1ms/step - loss: 0.2837 - accuracy: 0.8813\n",
      "Epoch 25/100\n",
      "21/21 [==============================] - 0s 1ms/step - loss: 0.2806 - accuracy: 0.8813\n",
      "Epoch 26/100\n",
      "21/21 [==============================] - 0s 903us/step - loss: 0.2783 - accuracy: 0.8843\n",
      "Epoch 27/100\n",
      "21/21 [==============================] - 0s 1ms/step - loss: 0.2757 - accuracy: 0.8858\n",
      "Epoch 28/100\n",
      "21/21 [==============================] - 0s 869us/step - loss: 0.2733 - accuracy: 0.8858\n",
      "Epoch 29/100\n",
      "21/21 [==============================] - 0s 1ms/step - loss: 0.2718 - accuracy: 0.8828\n",
      "Epoch 30/100\n",
      "21/21 [==============================] - 0s 934us/step - loss: 0.2700 - accuracy: 0.8858\n",
      "Epoch 31/100\n",
      "21/21 [==============================] - 0s 957us/step - loss: 0.2685 - accuracy: 0.8874\n",
      "Epoch 32/100\n",
      "21/21 [==============================] - 0s 835us/step - loss: 0.2669 - accuracy: 0.8889\n",
      "Epoch 33/100\n",
      "21/21 [==============================] - 0s 1ms/step - loss: 0.2651 - accuracy: 0.8874\n",
      "Epoch 34/100\n",
      "21/21 [==============================] - 0s 743us/step - loss: 0.2645 - accuracy: 0.8874\n",
      "Epoch 35/100\n",
      "21/21 [==============================] - 0s 890us/step - loss: 0.2642 - accuracy: 0.8904\n",
      "Epoch 36/100\n",
      "21/21 [==============================] - 0s 888us/step - loss: 0.2628 - accuracy: 0.8828\n",
      "Epoch 37/100\n",
      "21/21 [==============================] - 0s 813us/step - loss: 0.2615 - accuracy: 0.8919\n",
      "Epoch 38/100\n",
      "21/21 [==============================] - 0s 942us/step - loss: 0.2602 - accuracy: 0.8858\n",
      "Epoch 39/100\n",
      "21/21 [==============================] - 0s 795us/step - loss: 0.2591 - accuracy: 0.8874\n",
      "Epoch 40/100\n",
      "21/21 [==============================] - 0s 798us/step - loss: 0.2579 - accuracy: 0.8889\n",
      "Epoch 41/100\n",
      "21/21 [==============================] - 0s 975us/step - loss: 0.2571 - accuracy: 0.8843\n",
      "Epoch 42/100\n",
      "21/21 [==============================] - 0s 755us/step - loss: 0.2572 - accuracy: 0.8858\n",
      "Epoch 43/100\n",
      "21/21 [==============================] - 0s 890us/step - loss: 0.2564 - accuracy: 0.8858\n",
      "Epoch 44/100\n",
      "21/21 [==============================] - 0s 939us/step - loss: 0.2558 - accuracy: 0.8874\n",
      "Epoch 45/100\n",
      "21/21 [==============================] - 0s 1ms/step - loss: 0.2549 - accuracy: 0.8889\n",
      "Epoch 46/100\n",
      "21/21 [==============================] - 0s 956us/step - loss: 0.2542 - accuracy: 0.8904\n",
      "Epoch 47/100\n",
      "21/21 [==============================] - 0s 1ms/step - loss: 0.2539 - accuracy: 0.8904\n",
      "Epoch 48/100\n",
      "21/21 [==============================] - 0s 918us/step - loss: 0.2536 - accuracy: 0.8858\n",
      "Epoch 49/100\n",
      "21/21 [==============================] - 0s 856us/step - loss: 0.2529 - accuracy: 0.8889\n",
      "Epoch 50/100\n",
      "21/21 [==============================] - 0s 927us/step - loss: 0.2534 - accuracy: 0.8904\n",
      "Epoch 51/100\n",
      "21/21 [==============================] - 0s 830us/step - loss: 0.2526 - accuracy: 0.8889\n",
      "Epoch 52/100\n",
      "21/21 [==============================] - 0s 841us/step - loss: 0.2524 - accuracy: 0.8874\n",
      "Epoch 53/100\n",
      "21/21 [==============================] - 0s 873us/step - loss: 0.2520 - accuracy: 0.8874\n",
      "Epoch 54/100\n",
      "21/21 [==============================] - 0s 833us/step - loss: 0.2512 - accuracy: 0.8904\n",
      "Epoch 55/100\n",
      "21/21 [==============================] - 0s 653us/step - loss: 0.2510 - accuracy: 0.8935\n",
      "Epoch 56/100\n",
      "21/21 [==============================] - 0s 777us/step - loss: 0.2511 - accuracy: 0.8904\n",
      "Epoch 57/100\n",
      "21/21 [==============================] - 0s 750us/step - loss: 0.2506 - accuracy: 0.8889\n",
      "Epoch 58/100\n",
      "21/21 [==============================] - 0s 820us/step - loss: 0.2506 - accuracy: 0.8904\n",
      "Epoch 59/100\n",
      "21/21 [==============================] - 0s 1ms/step - loss: 0.2497 - accuracy: 0.8919\n",
      "Epoch 60/100\n",
      "21/21 [==============================] - 0s 658us/step - loss: 0.2498 - accuracy: 0.8889\n",
      "Epoch 61/100\n",
      "21/21 [==============================] - 0s 836us/step - loss: 0.2499 - accuracy: 0.8889\n",
      "Epoch 62/100\n",
      "21/21 [==============================] - 0s 790us/step - loss: 0.2499 - accuracy: 0.8889\n",
      "Epoch 63/100\n",
      "21/21 [==============================] - 0s 676us/step - loss: 0.2487 - accuracy: 0.8904\n",
      "Epoch 64/100\n",
      "21/21 [==============================] - 0s 756us/step - loss: 0.2485 - accuracy: 0.8919\n",
      "Epoch 65/100\n",
      "21/21 [==============================] - 0s 763us/step - loss: 0.2489 - accuracy: 0.8919\n",
      "Epoch 66/100\n",
      "21/21 [==============================] - 0s 796us/step - loss: 0.2485 - accuracy: 0.8889\n",
      "Epoch 67/100\n",
      "21/21 [==============================] - 0s 643us/step - loss: 0.2479 - accuracy: 0.8919\n",
      "Epoch 68/100\n",
      "21/21 [==============================] - 0s 695us/step - loss: 0.2478 - accuracy: 0.8904\n",
      "Epoch 69/100\n",
      "21/21 [==============================] - 0s 560us/step - loss: 0.2477 - accuracy: 0.8904\n",
      "Epoch 70/100\n",
      "21/21 [==============================] - 0s 578us/step - loss: 0.2478 - accuracy: 0.8889\n",
      "Epoch 71/100\n",
      "21/21 [==============================] - 0s 627us/step - loss: 0.2475 - accuracy: 0.8889\n",
      "Epoch 72/100\n",
      "21/21 [==============================] - 0s 607us/step - loss: 0.2475 - accuracy: 0.8919\n",
      "Epoch 73/100\n",
      "21/21 [==============================] - 0s 643us/step - loss: 0.2471 - accuracy: 0.8904\n",
      "Epoch 74/100\n",
      "21/21 [==============================] - 0s 651us/step - loss: 0.2470 - accuracy: 0.8904\n",
      "Epoch 75/100\n",
      "21/21 [==============================] - 0s 673us/step - loss: 0.2473 - accuracy: 0.8874\n",
      "Epoch 76/100\n",
      "21/21 [==============================] - 0s 647us/step - loss: 0.2463 - accuracy: 0.8919\n",
      "Epoch 77/100\n",
      "21/21 [==============================] - 0s 688us/step - loss: 0.2464 - accuracy: 0.8935\n",
      "Epoch 78/100\n",
      "21/21 [==============================] - 0s 652us/step - loss: 0.2461 - accuracy: 0.8919\n",
      "Epoch 79/100\n",
      "21/21 [==============================] - 0s 684us/step - loss: 0.2474 - accuracy: 0.8904\n",
      "Epoch 80/100\n",
      "21/21 [==============================] - 0s 567us/step - loss: 0.2464 - accuracy: 0.8919\n",
      "Epoch 81/100\n"
     ]
    },
    {
     "name": "stdout",
     "output_type": "stream",
     "text": [
      "21/21 [==============================] - 0s 612us/step - loss: 0.2456 - accuracy: 0.8935\n",
      "Epoch 82/100\n",
      "21/21 [==============================] - 0s 734us/step - loss: 0.2451 - accuracy: 0.8919\n",
      "Epoch 83/100\n",
      "21/21 [==============================] - 0s 605us/step - loss: 0.2455 - accuracy: 0.8904\n",
      "Epoch 84/100\n",
      "21/21 [==============================] - 0s 725us/step - loss: 0.2450 - accuracy: 0.8935\n",
      "Epoch 85/100\n",
      "21/21 [==============================] - 0s 818us/step - loss: 0.2448 - accuracy: 0.8889\n",
      "Epoch 86/100\n",
      "21/21 [==============================] - 0s 662us/step - loss: 0.2446 - accuracy: 0.8874\n",
      "Epoch 87/100\n",
      "21/21 [==============================] - 0s 689us/step - loss: 0.2445 - accuracy: 0.8919\n",
      "Epoch 88/100\n",
      "21/21 [==============================] - 0s 704us/step - loss: 0.2446 - accuracy: 0.8935\n",
      "Epoch 89/100\n",
      "21/21 [==============================] - 0s 703us/step - loss: 0.2444 - accuracy: 0.8935\n",
      "Epoch 90/100\n",
      "21/21 [==============================] - 0s 748us/step - loss: 0.2442 - accuracy: 0.8919\n",
      "Epoch 91/100\n",
      "21/21 [==============================] - 0s 695us/step - loss: 0.2439 - accuracy: 0.8935\n",
      "Epoch 92/100\n",
      "21/21 [==============================] - 0s 705us/step - loss: 0.2438 - accuracy: 0.8919\n",
      "Epoch 93/100\n",
      "21/21 [==============================] - 0s 720us/step - loss: 0.2438 - accuracy: 0.8919\n",
      "Epoch 94/100\n",
      "21/21 [==============================] - 0s 762us/step - loss: 0.2434 - accuracy: 0.8935\n",
      "Epoch 95/100\n",
      "21/21 [==============================] - 0s 728us/step - loss: 0.2438 - accuracy: 0.8919\n",
      "Epoch 96/100\n",
      "21/21 [==============================] - 0s 754us/step - loss: 0.2436 - accuracy: 0.8904\n",
      "Epoch 97/100\n",
      "21/21 [==============================] - 0s 701us/step - loss: 0.2433 - accuracy: 0.8889\n",
      "Epoch 98/100\n",
      "21/21 [==============================] - 0s 620us/step - loss: 0.2432 - accuracy: 0.8935\n",
      "Epoch 99/100\n",
      "21/21 [==============================] - 0s 712us/step - loss: 0.2435 - accuracy: 0.8904\n",
      "Epoch 100/100\n",
      "21/21 [==============================] - 0s 610us/step - loss: 0.2428 - accuracy: 0.8935\n"
     ]
    },
    {
     "data": {
      "text/plain": [
       "<tensorflow.python.keras.callbacks.History at 0x7fcc47e70850>"
      ]
     },
     "execution_count": 35,
     "metadata": {},
     "output_type": "execute_result"
    }
   ],
   "source": [
    "ann.fit(X_train, y_train, batch_size = 32, epochs = 100)"
   ]
  },
  {
   "cell_type": "markdown",
   "metadata": {
    "colab_type": "text",
    "id": "tJj5k2MxZga3"
   },
   "source": [
    "## Part 4 - Making the predictions and evaluating the model"
   ]
  },
  {
   "cell_type": "markdown",
   "metadata": {
    "colab_type": "text",
    "id": "84QFoqGYeXHL"
   },
   "source": [
    "### Predicting the result of a single observation"
   ]
  },
  {
   "cell_type": "markdown",
   "metadata": {
    "colab_type": "text",
    "id": "CGRo3eacgDdC"
   },
   "source": [
    "**Homework**\n",
    "\n",
    "Use our ANN model to predict if the customer with the following informations will leave the bank: \n",
    "\n",
    "Geography: France\n",
    "\n",
    "Credit Score: 600\n",
    "\n",
    "Gender: Male\n",
    "\n",
    "Age: 40 years old\n",
    "\n",
    "Tenure: 3 years\n",
    "\n",
    "Balance: \\$ 60000\n",
    "\n",
    "Number of Products: 2\n",
    "\n",
    "Does this customer have a credit card ? Yes\n",
    "\n",
    "Is this customer an Active Member: Yes\n",
    "\n",
    "Estimated Salary: \\$ 50000\n",
    "\n",
    "So, should we say goodbye to that customer ?"
   ]
  },
  {
   "cell_type": "markdown",
   "metadata": {
    "colab_type": "text",
    "id": "ZhU1LTgPg-kH"
   },
   "source": [
    "**Solution**"
   ]
  },
  {
   "cell_type": "code",
   "execution_count": 36,
   "metadata": {
    "colab": {
     "base_uri": "https://localhost:8080/",
     "height": 34
    },
    "colab_type": "code",
    "id": "2d8IoCCkeWGL",
    "outputId": "957f3970-e197-4c3b-a150-7f69dc567f5d"
   },
   "outputs": [
    {
     "name": "stdout",
     "output_type": "stream",
     "text": [
      "[[0.94210565]]\n"
     ]
    }
   ],
   "source": [
    "print(ann.predict(sc.transform([[162, 712, 604, .332, .453, .259]])))"
   ]
  },
  {
   "cell_type": "markdown",
   "metadata": {
    "colab_type": "text",
    "id": "wGjx94g2n7OV"
   },
   "source": [
    "Therefore, our ANN model predicts that this customer stays in the bank!\n",
    "\n",
    "**Important note 1:** Notice that the values of the features were all input in a double pair of square brackets. That's because the \"predict\" method always expects a 2D array as the format of its inputs. And putting our values into a double pair of square brackets makes the input exactly a 2D array.\n",
    "\n",
    "**Important note 2:** Notice also that the \"France\" country was not input as a string in the last column but as \"1, 0, 0\" in the first three columns. That's because of course the predict method expects the one-hot-encoded values of the state, and as we see in the first row of the matrix of features X, \"France\" was encoded as \"1, 0, 0\". And be careful to include these values in the first three columns, because the dummy variables are always created in the first columns."
   ]
  },
  {
   "cell_type": "markdown",
   "metadata": {
    "colab_type": "text",
    "id": "u7yx47jPZt11"
   },
   "source": [
    "### Predicting the Test set results"
   ]
  },
  {
   "cell_type": "code",
   "execution_count": 37,
   "metadata": {
    "colab": {
     "base_uri": "https://localhost:8080/",
     "height": 137
    },
    "colab_type": "code",
    "id": "nIyEeQdRZwgs",
    "outputId": "82330ba8-9bdc-4fd1-d3cf-b6d78ee7c2a3"
   },
   "outputs": [
    {
     "name": "stdout",
     "output_type": "stream",
     "text": [
      "[[0 0]\n",
      " [0 0]\n",
      " [0 0]\n",
      " [0 0]\n",
      " [0 0]\n",
      " [0 1]\n",
      " [0 0]\n",
      " [0 0]\n",
      " [0 0]\n",
      " [0 0]\n",
      " [0 0]\n",
      " [0 0]\n",
      " [1 1]\n",
      " [1 0]\n",
      " [0 0]\n",
      " [0 0]\n",
      " [1 1]\n",
      " [1 1]\n",
      " [1 1]\n",
      " [0 0]\n",
      " [0 0]\n",
      " [0 0]\n",
      " [1 1]\n",
      " [1 1]\n",
      " [0 0]\n",
      " [0 0]\n",
      " [0 0]\n",
      " [0 0]\n",
      " [0 0]\n",
      " [0 0]\n",
      " [1 1]\n",
      " [1 1]\n",
      " [0 0]\n",
      " [0 0]\n",
      " [0 0]\n",
      " [1 1]\n",
      " [1 1]\n",
      " [0 0]\n",
      " [1 1]\n",
      " [0 0]\n",
      " [0 0]\n",
      " [0 0]\n",
      " [0 0]\n",
      " [0 1]\n",
      " [0 0]\n",
      " [0 0]\n",
      " [0 0]\n",
      " [0 0]\n",
      " [0 0]\n",
      " [0 0]\n",
      " [0 0]\n",
      " [1 0]\n",
      " [0 0]\n",
      " [0 1]\n",
      " [1 1]\n",
      " [1 1]\n",
      " [0 0]\n",
      " [0 0]\n",
      " [0 0]\n",
      " [0 0]\n",
      " [0 0]\n",
      " [0 0]\n",
      " [0 0]\n",
      " [1 1]\n",
      " [1 1]\n",
      " [0 0]\n",
      " [0 0]\n",
      " [0 0]\n",
      " [0 0]\n",
      " [0 0]\n",
      " [1 1]\n",
      " [0 0]\n",
      " [0 0]\n",
      " [1 1]\n",
      " [0 0]\n",
      " [0 0]\n",
      " [1 0]\n",
      " [0 1]\n",
      " [0 0]\n",
      " [1 1]\n",
      " [0 0]\n",
      " [1 1]\n",
      " [0 0]\n",
      " [0 0]\n",
      " [0 0]\n",
      " [1 1]\n",
      " [1 1]\n",
      " [1 1]\n",
      " [1 1]\n",
      " [0 0]\n",
      " [0 0]\n",
      " [0 0]\n",
      " [1 0]\n",
      " [0 0]\n",
      " [0 0]\n",
      " [0 0]\n",
      " [1 1]\n",
      " [0 0]\n",
      " [0 0]\n",
      " [1 1]\n",
      " [1 0]\n",
      " [0 0]\n",
      " [1 1]\n",
      " [1 0]\n",
      " [0 0]\n",
      " [0 0]\n",
      " [0 0]\n",
      " [0 0]\n",
      " [0 0]\n",
      " [0 1]\n",
      " [0 0]\n",
      " [0 1]\n",
      " [1 1]\n",
      " [0 0]\n",
      " [0 0]\n",
      " [1 0]\n",
      " [0 0]\n",
      " [1 1]\n",
      " [1 1]\n",
      " [0 0]\n",
      " [0 0]\n",
      " [0 0]\n",
      " [1 1]\n",
      " [0 0]\n",
      " [0 0]\n",
      " [0 0]\n",
      " [0 0]\n",
      " [0 0]\n",
      " [0 0]\n",
      " [0 0]\n",
      " [0 0]\n",
      " [1 1]\n",
      " [0 0]\n",
      " [0 0]\n",
      " [0 0]\n",
      " [1 1]\n",
      " [0 0]\n",
      " [0 1]\n",
      " [1 1]\n",
      " [1 1]\n",
      " [0 0]\n",
      " [0 0]\n",
      " [0 0]\n",
      " [0 1]\n",
      " [0 0]\n",
      " [0 0]\n",
      " [0 0]\n",
      " [0 0]\n",
      " [0 0]\n",
      " [0 0]\n",
      " [1 1]\n",
      " [0 0]\n",
      " [0 1]\n",
      " [1 1]\n",
      " [0 0]\n",
      " [1 1]\n",
      " [1 1]\n",
      " [0 0]\n",
      " [0 0]\n",
      " [1 0]\n",
      " [0 0]\n",
      " [1 1]\n",
      " [0 0]\n",
      " [0 0]\n",
      " [0 0]]\n"
     ]
    }
   ],
   "source": [
    "y_pred = ann.predict(X_test)\n",
    "y_pred = (y_pred > 0.5)\n",
    "print(np.concatenate((y_pred.reshape(len(y_pred),1), y_test.reshape(len(y_test),1)),1))"
   ]
  },
  {
   "cell_type": "markdown",
   "metadata": {
    "colab_type": "text",
    "id": "o0oyfLWoaEGw"
   },
   "source": [
    "### Making the Confusion Matrix"
   ]
  },
  {
   "cell_type": "code",
   "execution_count": 38,
   "metadata": {
    "colab": {
     "base_uri": "https://localhost:8080/",
     "height": 68
    },
    "colab_type": "code",
    "id": "ci6K_r6LaF6P",
    "outputId": "4d854e9e-22d5-432f-f6e5-a102fe3ae0bd"
   },
   "outputs": [
    {
     "name": "stdout",
     "output_type": "stream",
     "text": [
      "[[109   8]\n",
      " [  9  39]]\n"
     ]
    },
    {
     "data": {
      "text/plain": [
       "0.896969696969697"
      ]
     },
     "execution_count": 38,
     "metadata": {},
     "output_type": "execute_result"
    }
   ],
   "source": [
    "from sklearn.metrics import confusion_matrix, accuracy_score\n",
    "cm = confusion_matrix(y_test, y_pred)\n",
    "print(cm)\n",
    "accuracy_score(y_test, y_pred)"
   ]
  },
  {
   "cell_type": "code",
   "execution_count": 42,
   "metadata": {},
   "outputs": [
    {
     "ename": "NameError",
     "evalue": "name 'kwargs' is not defined",
     "output_type": "error",
     "traceback": [
      "\u001b[0;31m---------------------------------------------------------------------------\u001b[0m",
      "\u001b[0;31mNameError\u001b[0m                                 Traceback (most recent call last)",
      "\u001b[0;32m<ipython-input-42-290737a489a5>\u001b[0m in \u001b[0;36m<module>\u001b[0;34m\u001b[0m\n\u001b[1;32m      1\u001b[0m tf.keras.optimizers.SGD(\n\u001b[0;32m----> 2\u001b[0;31m     \u001b[0mlearning_rate\u001b[0m\u001b[0;34m=\u001b[0m\u001b[0;36m0.01\u001b[0m\u001b[0;34m,\u001b[0m \u001b[0mmomentum\u001b[0m\u001b[0;34m=\u001b[0m\u001b[0;36m0.0\u001b[0m\u001b[0;34m,\u001b[0m \u001b[0mnesterov\u001b[0m\u001b[0;34m=\u001b[0m\u001b[0;32mFalse\u001b[0m\u001b[0;34m,\u001b[0m \u001b[0mname\u001b[0m\u001b[0;34m=\u001b[0m\u001b[0;34m'SGD'\u001b[0m\u001b[0;34m,\u001b[0m \u001b[0;34m**\u001b[0m\u001b[0mkwargs\u001b[0m\u001b[0;34m\u001b[0m\u001b[0;34m\u001b[0m\u001b[0m\n\u001b[0m\u001b[1;32m      3\u001b[0m )\n",
      "\u001b[0;31mNameError\u001b[0m: name 'kwargs' is not defined"
     ]
    }
   ],
   "source": []
  },
  {
   "cell_type": "code",
   "execution_count": null,
   "metadata": {},
   "outputs": [],
   "source": []
  }
 ],
 "metadata": {
  "colab": {
   "collapsed_sections": [],
   "name": "artificial_neural_network.ipynb",
   "provenance": [],
   "toc_visible": true
  },
  "kernelspec": {
   "display_name": "Python 3",
   "language": "python",
   "name": "python3"
  },
  "language_info": {
   "codemirror_mode": {
    "name": "ipython",
    "version": 3
   },
   "file_extension": ".py",
   "mimetype": "text/x-python",
   "name": "python",
   "nbconvert_exporter": "python",
   "pygments_lexer": "ipython3",
   "version": "3.8.3"
  }
 },
 "nbformat": 4,
 "nbformat_minor": 1
}
